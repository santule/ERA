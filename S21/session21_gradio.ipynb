{
  "nbformat": 4,
  "nbformat_minor": 0,
  "metadata": {
    "colab": {
      "provenance": []
    },
    "kernelspec": {
      "name": "python3",
      "display_name": "Python 3"
    },
    "language_info": {
      "name": "python"
    }
  },
  "cells": [
    {
      "cell_type": "code",
      "source": [
        "!pip install gradio --quiet\n",
        "!pip install lightning --quiet"
      ],
      "metadata": {
        "id": "Zu7Lc9UC7BJS"
      },
      "execution_count": 1,
      "outputs": []
    },
    {
      "cell_type": "code",
      "execution_count": 9,
      "metadata": {
        "id": "3ymSB9IlcsY0"
      },
      "outputs": [],
      "source": [
        "import gradio as gr\n",
        "import torch\n",
        "from torch import nn\n",
        "import lightning.pytorch as pl\n",
        "from torch.nn import functional as F\n",
        "from utils import GPTLM, encode,decode"
      ]
    },
    {
      "cell_type": "code",
      "source": [
        "newmodel = GPTLM.load_from_checkpoint('shakespeare_gpt.pth')"
      ],
      "metadata": {
        "id": "Pp_LaFguqv0G"
      },
      "execution_count": 23,
      "outputs": []
    },
    {
      "cell_type": "code",
      "source": [
        "def generate_dialogue(character_dropdown):\n",
        "  if character_dropdown == \"NONE\":\n",
        "    context = torch.zeros((1, 1), dtype=torch.long)\n",
        "    return decode(newmodel.model.generate(context, max_new_tokens=100)[0].tolist())\n",
        "  else:\n",
        "    context = torch.tensor([encode(character_dropdown)], dtype=torch.long)\n",
        "    output_dialogue = decode(newmodel.model.generate(context, max_new_tokens=100)[0].tolist())\n",
        "    # remove extra dialogue returned\n",
        "    output_dialogue = str(output_dialogue.split(\"\\n\\n\")[0])\n",
        "    return output_dialogue"
      ],
      "metadata": {
        "id": "2yApD_MW7VYA"
      },
      "execution_count": 55,
      "outputs": []
    },
    {
      "cell_type": "code",
      "source": [
        "HTML_TEMPLATE = \"\"\"\n",
        "<style>\n",
        "\n",
        "    #app-header {\n",
        "        text-align: center;\n",
        "        background: rgba(255, 255, 255, 0.3); /* Semi-transparent white */\n",
        "        padding: 20px;\n",
        "        border-radius: 10px;\n",
        "        box-shadow: 0 4px 6px rgba(0, 0, 0, 0.1);\n",
        "        position: relative; /* To position the artifacts */\n",
        "    }\n",
        "    #app-header h1 {\n",
        "        color: #FF0000;\n",
        "        font-size: 2em;\n",
        "        margin-bottom: 10px;\n",
        "    }\n",
        "    .concept {\n",
        "        position: relative;\n",
        "        transition: transform 0.3s;\n",
        "    }\n",
        "    .concept:hover {\n",
        "        transform: scale(1.1);\n",
        "    }\n",
        "    .concept img {\n",
        "        width: 100px;\n",
        "        border-radius: 10px;\n",
        "        box-shadow: 0 4px 6px rgba(0, 0, 0, 0.1);\n",
        "    }\n",
        "    .concept-description {\n",
        "        position: absolute;\n",
        "        bottom: -30px;\n",
        "        left: 50%;\n",
        "        transform: translateX(-50%);\n",
        "        background-color: #4CAF50;\n",
        "        color: white;\n",
        "        padding: 5px 10px;\n",
        "        border-radius: 5px;\n",
        "        opacity: 0;\n",
        "        transition: opacity 0.3s;\n",
        "    }\n",
        "    .concept:hover .concept-description {\n",
        "        opacity: 1;\n",
        "    }\n",
        "    /* Artifacts */\n",
        "\n",
        "</style>\n",
        "<div id=\"app-header\">\n",
        "    <!-- Artifacts -->\n",
        "    <div class=\"artifact large\"></div>\n",
        "    <div class=\"artifact large\"></div>\n",
        "    <div class=\"artifact large\"></div>\n",
        "    <div class=\"artifact large\"></div>\n",
        "    <!-- Content -->\n",
        "    <h1>SHAKESPEARE  DIALOGUE  GENERATOR</h1>\n",
        "    <p>Generate dialogue for Shakespearean character by selecting character from dropdown.</p>\n",
        "    <p>Model: GPT, Dataset: Tiny Shakespeare, Token limit: 100.</p>\n",
        "\"\"\""
      ],
      "metadata": {
        "id": "25WNTIdbrlbG"
      },
      "execution_count": 35,
      "outputs": []
    },
    {
      "cell_type": "code",
      "source": [
        "with gr.Blocks(theme=gr.themes.Glass(),css=\".gradio-container {background: url('file=https://github.com/Delve-ERAV1/S20/assets/11761529/c0ff84a4-dde6-473e-a820-d3797040eb9d')}\") as interface:\n",
        "    gr.HTML(value=HTML_TEMPLATE, show_label=False)\n",
        "\n",
        "    gr.Markdown(\"\")\n",
        "    gr.Markdown(\"\")\n",
        "    gr.Markdown(\"\")\n",
        "\n",
        "    gr.Markdown(\"\")\n",
        "    gr.Markdown(\"\")\n",
        "    gr.Markdown(\"\")\n",
        "    gr.Markdown(\"\")\n",
        "\n",
        "    gr.Markdown(\"\")\n",
        "    gr.Markdown(\"\")\n",
        "    gr.Markdown(\"\")\n",
        "    gr.Markdown(\"\")\n",
        "    gr.Markdown(\"\")\n",
        "    gr.Markdown(\"\")\n",
        "    gr.Markdown(\"\")\n",
        "\n",
        "    gr.Markdown(\"\")\n",
        "    gr.Markdown(\"\")\n",
        "\n",
        "    gr.Markdown(\"\")\n",
        "    gr.Markdown(\"\")\n",
        "    gr.Markdown(\"\")\n",
        "    gr.Markdown(\"\")\n",
        "\n",
        "    gr.Markdown(\"\")\n",
        "    gr.Markdown(\"\")\n",
        "    gr.Markdown(\"\")\n",
        "    gr.Markdown(\"\")\n",
        "    gr.Markdown(\"\")\n",
        "    gr.Markdown(\"\")\n",
        "    gr.Markdown(\"\")\n",
        "\n",
        "    gr.Markdown(\"\")\n",
        "    gr.Markdown(\"\")\n",
        "\n",
        "    gr.Markdown(\"\")\n",
        "    gr.Markdown(\"\")\n",
        "    gr.Markdown(\"\")\n",
        "    gr.Markdown(\"\")\n",
        "    gr.Markdown(\"\")\n",
        "    gr.Markdown(\"\")\n",
        "\n",
        "    gr.Markdown(\"\")\n",
        "    gr.Markdown(\"\")\n",
        "    gr.Markdown(\"\")\n",
        "    gr.Markdown(\"\")\n",
        "\n",
        "    gr.Markdown(\"\")\n",
        "    gr.Markdown(\"\")\n",
        "    gr.Markdown(\"\")\n",
        "    gr.Markdown(\"\")\n",
        "\n",
        "\n",
        "    with gr.Row(scale=1):\n",
        "        character_dropdown = gr.Dropdown(\n",
        "            label=\"Select a Character\",\n",
        "            choices=[\"NONE\",\"ROMEO\",\"JULIET\",\"MENENIUS\",\"ANTONIO\"],\n",
        "            value='Dream'\n",
        "        )\n",
        "        outputs = gr.Textbox(\n",
        "            label=\"Generated Dialogue\"\n",
        "        )\n",
        "        inputs = [character_dropdown]\n",
        "\n",
        "    with gr.Column(scale=1):\n",
        "        button = gr.Button(\"Generate\")\n",
        "        button.click(generate_dialogue, inputs=inputs, outputs=outputs)\n",
        "\n",
        "if __name__ == \"__main__\":\n",
        "    interface.launch(enable_queue=True)"
      ],
      "metadata": {
        "id": "2DNLzKIDdCjZ",
        "colab": {
          "base_uri": "https://localhost:8080/",
          "height": 750
        },
        "outputId": "63cafcdb-eb3e-46f7-ff78-4149e2602416"
      },
      "execution_count": 56,
      "outputs": [
        {
          "output_type": "stream",
          "name": "stderr",
          "text": [
            "<ipython-input-56-eb27d858a8d4>:58: GradioUnusedKwargWarning: You have unused kwarg parameters in Row, please remove them: {'scale': 1}\n",
            "  with gr.Row(scale=1):\n",
            "/usr/local/lib/python3.10/dist-packages/gradio/components/dropdown.py:231: UserWarning: The value passed into gr.Dropdown() is not in the list of choices. Please update the list of choices to include: Dream or set allow_custom_value=True.\n",
            "  warnings.warn(\n",
            "<ipython-input-56-eb27d858a8d4>:74: GradioDeprecationWarning: The `enable_queue` parameter has been deprecated. Please use the `.queue()` method instead.\n",
            "  interface.launch(enable_queue=True)\n"
          ]
        },
        {
          "output_type": "stream",
          "name": "stdout",
          "text": [
            "Setting queue=True in a Colab notebook requires sharing enabled. Setting `share=True` (you can turn this off by setting `share=False` in `launch()` explicitly).\n",
            "\n",
            "Colab notebook detected. To show errors in colab notebook, set debug=True in launch()\n",
            "Running on public URL: https://145b95b4cfc737dc0a.gradio.live\n",
            "\n",
            "This share link expires in 72 hours. For free permanent hosting and GPU upgrades, run `gradio deploy` from Terminal to deploy to Spaces (https://huggingface.co/spaces)\n"
          ]
        },
        {
          "output_type": "display_data",
          "data": {
            "text/plain": [
              "<IPython.core.display.HTML object>"
            ],
            "text/html": [
              "<div><iframe src=\"https://145b95b4cfc737dc0a.gradio.live\" width=\"100%\" height=\"500\" allow=\"autoplay; camera; microphone; clipboard-read; clipboard-write;\" frameborder=\"0\" allowfullscreen></iframe></div>"
            ]
          },
          "metadata": {}
        }
      ]
    }
  ]
}