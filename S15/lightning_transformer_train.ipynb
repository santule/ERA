{
 "cells": [
  {
   "cell_type": "markdown",
   "id": "v5oY8OQCKOBI",
   "metadata": {
    "id": "v5oY8OQCKOBI"
   },
   "source": [
    "Speeding up the transformers\n",
    "\n",
    "1. Mixed Precision.\n",
    "2. Parameter Sharing.\n",
    "3. One cycle policy.\n",
    "4. d_ff 128 ( hidden layer of feed forward network).\n",
    "5. Dynamic Padding\n",
    "\n"
   ]
  },
  {
   "cell_type": "code",
   "execution_count": 1,
   "id": "urvbGCGk_AZF",
   "metadata": {
    "colab": {
     "base_uri": "https://localhost:8080/"
    },
    "executionInfo": {
     "elapsed": 2499,
     "status": "ok",
     "timestamp": 1694006568627,
     "user": {
      "displayName": "Sanjana Tule",
      "userId": "12298962096129134000"
     },
     "user_tz": -600
    },
    "id": "urvbGCGk_AZF",
    "outputId": "91bcc24d-01d4-450b-b19c-e81c025b63a9"
   },
   "outputs": [],
   "source": [
    "# from google.colab import drive\n",
    "# drive.mount('/content/drive')\n",
    "# %cd /content/drive/MyDrive/AI/ERA_course/session15/"
   ]
  },
  {
   "cell_type": "code",
   "execution_count": 2,
   "id": "2e9dda38-e1a9-4bdc-bbef-596ff50b65fb",
   "metadata": {},
   "outputs": [
    {
     "name": "stdout",
     "output_type": "stream",
     "text": [
      "Architecture:                    x86_64\n",
      "CPU op-mode(s):                  32-bit, 64-bit\n",
      "Byte Order:                      Little Endian\n",
      "Address sizes:                   43 bits physical, 48 bits virtual\n",
      "CPU(s):                          32\n",
      "On-line CPU(s) list:             0-31\n",
      "Thread(s) per core:              2\n",
      "Core(s) per socket:              16\n",
      "Socket(s):                       1\n",
      "NUMA node(s):                    1\n",
      "Vendor ID:                       AuthenticAMD\n",
      "CPU family:                      23\n",
      "Model:                           49\n",
      "Model name:                      AMD EPYC 7282 16-Core Processor\n",
      "Stepping:                        0\n",
      "Frequency boost:                 enabled\n",
      "CPU MHz:                         3199.259\n",
      "CPU max MHz:                     2800.0000\n",
      "CPU min MHz:                     1500.0000\n",
      "BogoMIPS:                        5600.32\n",
      "Virtualization:                  AMD-V\n",
      "L1d cache:                       512 KiB\n",
      "L1i cache:                       512 KiB\n",
      "L2 cache:                        8 MiB\n",
      "L3 cache:                        64 MiB\n",
      "NUMA node0 CPU(s):               0-31\n",
      "Vulnerability Itlb multihit:     Not affected\n",
      "Vulnerability L1tf:              Not affected\n",
      "Vulnerability Mds:               Not affected\n",
      "Vulnerability Meltdown:          Not affected\n",
      "Vulnerability Mmio stale data:   Not affected\n",
      "Vulnerability Retbleed:          Vulnerable\n",
      "Vulnerability Spec store bypass: Mitigation; Speculative Store Bypass disabled v\n",
      "                                 ia prctl and seccomp\n",
      "Vulnerability Spectre v1:        Mitigation; usercopy/swapgs barriers and __user\n",
      "                                  pointer sanitization\n",
      "Vulnerability Spectre v2:        Mitigation; Retpolines, IBPB conditional, IBRS_\n",
      "                                 FW, STIBP conditional, RSB filling, PBRSB-eIBRS\n",
      "                                  Not affected\n",
      "Vulnerability Srbds:             Not affected\n",
      "Vulnerability Tsx async abort:   Not affected\n",
      "Flags:                           fpu vme de pse tsc msr pae mce cx8 apic sep mtr\n",
      "                                 r pge mca cmov pat pse36 clflush mmx fxsr sse s\n",
      "                                 se2 ht syscall nx mmxext fxsr_opt pdpe1gb rdtsc\n",
      "                                 p lm constant_tsc rep_good nopl nonstop_tsc cpu\n",
      "                                 id extd_apicid aperfmperf pni pclmulqdq monitor\n",
      "                                  ssse3 fma cx16 sse4_1 sse4_2 movbe popcnt aes \n",
      "                                 xsave avx f16c rdrand lahf_lm cmp_legacy svm ex\n",
      "                                 tapic cr8_legacy abm sse4a misalignsse 3dnowpre\n",
      "                                 fetch osvw ibs skinit wdt tce topoext perfctr_c\n",
      "                                 ore perfctr_nb bpext perfctr_llc mwaitx cpb cat\n",
      "                                 _l3 cdp_l3 hw_pstate sme ssbd mba sev ibrs ibpb\n",
      "                                  stibp vmmcall fsgsbase bmi1 avx2 smep bmi2 cqm\n",
      "                                  rdt_a rdseed adx smap clflushopt clwb sha_ni x\n",
      "                                 saveopt xsavec xgetbv1 xsaves cqm_llc cqm_occup\n",
      "                                 _llc cqm_mbm_total cqm_mbm_local clzero irperf \n",
      "                                 xsaveerptr wbnoinvd arat npt lbrv svm_lock nrip\n",
      "                                 _save tsc_scale vmcb_clean flushbyasid decodeas\n",
      "                                 sists pausefilter pfthreshold avic v_vmsave_vml\n",
      "                                 oad vgif umip rdpid overflow_recov succor smca\n"
     ]
    }
   ],
   "source": [
    "! lscpu"
   ]
  },
  {
   "cell_type": "code",
   "execution_count": 1,
   "id": "9cb12472-fe8a-45fd-bd3d-2147e7ebd86c",
   "metadata": {
    "executionInfo": {
     "elapsed": 43320,
     "status": "ok",
     "timestamp": 1694006611943,
     "user": {
      "displayName": "Sanjana Tule",
      "userId": "12298962096129134000"
     },
     "user_tz": -600
    },
    "id": "9cb12472-fe8a-45fd-bd3d-2147e7ebd86c"
   },
   "outputs": [
    {
     "name": "stdout",
     "output_type": "stream",
     "text": [
      "\u001b[33mWARNING: Running pip as the 'root' user can result in broken permissions and conflicting behaviour with the system package manager. It is recommended to use a virtual environment instead: https://pip.pypa.io/warnings/venv\u001b[0m\u001b[33m\n",
      "\u001b[0m\u001b[33mWARNING: Running pip as the 'root' user can result in broken permissions and conflicting behaviour with the system package manager. It is recommended to use a virtual environment instead: https://pip.pypa.io/warnings/venv\u001b[0m\u001b[33m\n",
      "\u001b[0m\u001b[33mWARNING: Running pip as the 'root' user can result in broken permissions and conflicting behaviour with the system package manager. It is recommended to use a virtual environment instead: https://pip.pypa.io/warnings/venv\u001b[0m\u001b[33m\n",
      "\u001b[0m\u001b[33mWARNING: Running pip as the 'root' user can result in broken permissions and conflicting behaviour with the system package manager. It is recommended to use a virtual environment instead: https://pip.pypa.io/warnings/venv\u001b[0m\u001b[33m\n",
      "\u001b[0m\u001b[33mWARNING: Running pip as the 'root' user can result in broken permissions and conflicting behaviour with the system package manager. It is recommended to use a virtual environment instead: https://pip.pypa.io/warnings/venv\u001b[0m\u001b[33m\n",
      "\u001b[0mRequirement already satisfied: seaborn in /opt/conda/lib/python3.10/site-packages (0.12.2)\n",
      "Requirement already satisfied: pandas>=0.25 in /opt/conda/lib/python3.10/site-packages (from seaborn) (2.1.0)\n",
      "Requirement already satisfied: numpy!=1.24.0,>=1.17 in /opt/conda/lib/python3.10/site-packages (from seaborn) (1.24.3)\n",
      "Requirement already satisfied: matplotlib!=3.6.1,>=3.1 in /opt/conda/lib/python3.10/site-packages (from seaborn) (3.7.2)\n",
      "Requirement already satisfied: pillow>=6.2.0 in /opt/conda/lib/python3.10/site-packages (from matplotlib!=3.6.1,>=3.1->seaborn) (9.4.0)\n",
      "Requirement already satisfied: fonttools>=4.22.0 in /opt/conda/lib/python3.10/site-packages (from matplotlib!=3.6.1,>=3.1->seaborn) (4.42.1)\n",
      "Requirement already satisfied: pyparsing<3.1,>=2.3.1 in /opt/conda/lib/python3.10/site-packages (from matplotlib!=3.6.1,>=3.1->seaborn) (3.0.9)\n",
      "Requirement already satisfied: contourpy>=1.0.1 in /opt/conda/lib/python3.10/site-packages (from matplotlib!=3.6.1,>=3.1->seaborn) (1.1.0)\n",
      "Requirement already satisfied: python-dateutil>=2.7 in /opt/conda/lib/python3.10/site-packages (from matplotlib!=3.6.1,>=3.1->seaborn) (2.8.2)\n",
      "Requirement already satisfied: kiwisolver>=1.0.1 in /opt/conda/lib/python3.10/site-packages (from matplotlib!=3.6.1,>=3.1->seaborn) (1.4.5)\n",
      "Requirement already satisfied: cycler>=0.10 in /opt/conda/lib/python3.10/site-packages (from matplotlib!=3.6.1,>=3.1->seaborn) (0.11.0)\n",
      "Requirement already satisfied: packaging>=20.0 in /opt/conda/lib/python3.10/site-packages (from matplotlib!=3.6.1,>=3.1->seaborn) (23.0)\n",
      "Requirement already satisfied: tzdata>=2022.1 in /opt/conda/lib/python3.10/site-packages (from pandas>=0.25->seaborn) (2023.3)\n",
      "Requirement already satisfied: pytz>=2020.1 in /opt/conda/lib/python3.10/site-packages (from pandas>=0.25->seaborn) (2022.7)\n",
      "Requirement already satisfied: six>=1.5 in /opt/conda/lib/python3.10/site-packages (from python-dateutil>=2.7->matplotlib!=3.6.1,>=3.1->seaborn) (1.16.0)\n",
      "\u001b[33mWARNING: Running pip as the 'root' user can result in broken permissions and conflicting behaviour with the system package manager. It is recommended to use a virtual environment instead: https://pip.pypa.io/warnings/venv\u001b[0m\u001b[33m\n",
      "\u001b[0m"
     ]
    }
   ],
   "source": [
    "!pip install datasets --quiet\n",
    "!pip install transformers --quiet\n",
    "!pip install torchmetrics --quiet\n",
    "!pip install tensorboard --quiet\n",
    "!pip install lightning==2.0.1 --quiet\n",
    "!pip install seaborn\n",
    "\n",
    "import lightning.pytorch as pl\n",
    "from lightning.pytorch.callbacks import ModelCheckpoint\n",
    "from lightning.pytorch.loggers import TensorBoardLogger,CSVLogger\n",
    "import torch\n",
    "import torch.nn as nn\n",
    "import torchmetrics\n",
    "import warnings\n",
    "warnings.filterwarnings(\"ignore\")\n",
    "import logging\n",
    "from torch.optim.lr_scheduler import OneCycleLR\n",
    "import seaborn as sn\n",
    "import pandas as pd"
   ]
  },
  {
   "cell_type": "code",
   "execution_count": 2,
   "id": "6affcf06-031c-49d9-a8ee-844053e55a55",
   "metadata": {
    "executionInfo": {
     "elapsed": 691,
     "status": "ok",
     "timestamp": 1694006612632,
     "user": {
      "displayName": "Sanjana Tule",
      "userId": "12298962096129134000"
     },
     "user_tz": -600
    },
    "id": "6affcf06-031c-49d9-a8ee-844053e55a55"
   },
   "outputs": [],
   "source": [
    "from model import build_transformer\n",
    "from config import get_config\n",
    "from train import get_ds\n",
    "from transformers import DataCollatorWithPadding\n",
    "\n",
    "\n",
    "warnings.filterwarnings(\"ignore\")\n",
    "\n",
    "logger = logging.getLogger(\"Transformer\")\n",
    "logger.setLevel(level=logging.INFO)\n",
    "fileHandler = logging.FileHandler(filename='prediction.log')\n",
    "fileHandler.setLevel(level=logging.INFO)\n",
    "logger.addHandler(fileHandler)\n",
    "\n",
    "cfg = get_config()\n",
    "cfg['preload'] = None\n",
    "cfg['num_epochs'] = 30\n",
    "cfg['batch_size'] = 16"
   ]
  },
  {
   "cell_type": "code",
   "execution_count": 3,
   "id": "Kw6hWl83FrZK",
   "metadata": {
    "executionInfo": {
     "elapsed": 1628,
     "status": "ok",
     "timestamp": 1694006614254,
     "user": {
      "displayName": "Sanjana Tule",
      "userId": "12298962096129134000"
     },
     "user_tz": -600
    },
    "id": "Kw6hWl83FrZK"
   },
   "outputs": [],
   "source": [
    "#### Loading Datasets\n",
    "train_dataloader, val_dataloader, tokenizer_src, tokenizer_tgt = get_ds(cfg)"
   ]
  },
  {
   "cell_type": "code",
   "execution_count": 5,
   "id": "e881f241-f742-49db-8ad6-fe5b4c580181",
   "metadata": {
    "executionInfo": {
     "elapsed": 2,
     "status": "ok",
     "timestamp": 1694006614255,
     "user": {
      "displayName": "Sanjana Tule",
      "userId": "12298962096129134000"
     },
     "user_tz": -600
    },
    "id": "e881f241-f742-49db-8ad6-fe5b4c580181"
   },
   "outputs": [],
   "source": [
    "class LitTr(pl.LightningModule):\n",
    "    def __init__(self,cfg,tokenizer_src,tokenizer_tgt):\n",
    "        super().__init__()\n",
    "\n",
    "        vocab_src_len = tokenizer_src.get_vocab_size()\n",
    "        vocab_tgt_len = tokenizer_tgt.get_vocab_size()\n",
    "        self.model    = build_transformer(vocab_src_len, vocab_tgt_len, cfg['seq_len'], cfg['seq_len'], d_model=cfg['d_model'])\n",
    "        self.loss_fn  = nn.CrossEntropyLoss(ignore_index=tokenizer_src.token_to_id('[PAD]'), label_smoothing=0.1)\n",
    "        self.BATCH_SIZE = cfg['batch_size']\n",
    "        self.num_epochs = cfg['num_epochs']\n",
    "        self.lr = cfg['lr']\n",
    "        self.tokenizer_src = tokenizer_src\n",
    "        self.tokenizer_tgt = tokenizer_tgt\n",
    "        self.seq_len = cfg['seq_len']\n",
    "        self.expected = []\n",
    "        self.predicted = []\n",
    "        self.initial_epoch = 0\n",
    "        self.save_hyperparameters()\n",
    "        self.train_loss = []\n",
    "\n",
    "\n",
    "    def forward(self, x):\n",
    "\n",
    "        return self.model(x)\n",
    "\n",
    "    def training_step(self, batch, batch_idx):\n",
    "\n",
    "        encoder_input = batch['encoder_input']\n",
    "        decoder_input = batch['decoder_input']\n",
    "        encoder_mask  = batch['encoder_mask']\n",
    "        decoder_mask  = batch['decoder_mask']\n",
    "\n",
    "        # Run the tensors through the encoder, decoder and the projection layer\n",
    "        encoder_output = self.model.encode(encoder_input, encoder_mask) # (b, seq_len, d_model)\n",
    "        decoder_output = self.model.decode(encoder_output, encoder_mask, decoder_input, decoder_mask)\n",
    "        proj_output = self.model.project(decoder_output) # ( b, seq_len, vocab_size)\n",
    "\n",
    "        label = batch['label']\n",
    "\n",
    "        loss = self.loss_fn(proj_output.view(-1, self.tokenizer_tgt.get_vocab_size()), label.view(-1))\n",
    "        self.train_loss.append(loss)\n",
    "\n",
    "        self.log('train_loss', loss, prog_bar=True, on_step=False, on_epoch=True,logger=True)\n",
    "        return loss\n",
    "\n",
    "    def casual_mask(self, size):\n",
    "        mask = torch.triu(torch.ones((1, size, size)), diagonal=1).type(torch.int)\n",
    "        return(mask == 0)\n",
    "\n",
    "    def greedy_decode(self,source, source_mask):\n",
    "\n",
    "        sos_idx = self.tokenizer_tgt.token_to_id('[SOS]')\n",
    "        eos_idx = self.tokenizer_tgt.token_to_id('[EOS]')\n",
    "\n",
    "        encoder_output = self.model.encode(source, source_mask)\n",
    "        decoder_input = torch.empty(1,1).fill_(sos_idx).type_as(source)\n",
    "\n",
    "        while True:\n",
    "            if decoder_input.size(1) == self.seq_len:\n",
    "              break\n",
    "\n",
    "            decoder_mask = self.casual_mask(decoder_input.size(1)).type_as(source_mask)\n",
    "\n",
    "            out = self.model.decode(encoder_output, source_mask, decoder_input, decoder_mask)\n",
    "\n",
    "            prob = self.model.project(out[:,-1])\n",
    "            _,next_word = torch.max(prob, dim=1)\n",
    "\n",
    "            decoder_input = torch.cat(\n",
    "                [decoder_input, torch.empty(1,1).type_as(source).fill_(next_word.item())], dim=1\n",
    "            )\n",
    "\n",
    "            if next_word == eos_idx:\n",
    "              break\n",
    "\n",
    "        return decoder_input.squeeze(0)\n",
    "\n",
    "    def on_train_epoch_end(self):\n",
    "\n",
    "        self.log('loss', torch.stack(self.train_loss).mean(), on_epoch=True, logger=True)\n",
    "        print(f\"Epoch {self.current_epoch} : Loss Mean - {torch.stack(self.train_loss).mean()}\")\n",
    "        self.train_loss.clear()\n",
    "\n",
    "    def evaluate(self, batch, stage=None):\n",
    "\n",
    "        encoder_input = batch[\"encoder_input\"]\n",
    "        encoder_mask  = batch[\"encoder_mask\"]\n",
    "\n",
    "\n",
    "        model_out = self.greedy_decode(encoder_input, encoder_mask)\n",
    "\n",
    "        source_text = batch[\"src_text\"][0]\n",
    "        target_text = batch[\"tgt_text\"][0]\n",
    "\n",
    "\n",
    "        model_out_text = self.tokenizer_tgt.decode(model_out.detach().cpu().numpy())\n",
    "\n",
    "        logger.info(f\"SOURCE - {source_text}\")\n",
    "        logger.info(f\"TARGET - {target_text}\")\n",
    "        logger.info(f\"PREDICTED - {model_out_text}\")\n",
    "        logger.info(\"=============================================================\")\n",
    "\n",
    "        self.expected.append(target_text)\n",
    "        self.predicted.append(model_out_text)\n",
    "\n",
    "\n",
    "    def test_step(self, batch, batch_idx):\n",
    "        self.evaluate(batch, \"test\")\n",
    "\n",
    "    def validation_step(self, batch, batch_idx):\n",
    "        self.evaluate(batch, \"val\")\n",
    "\n",
    "    def on_validation_epoch_end(self):\n",
    "        metric = torchmetrics.CharErrorRate()\n",
    "        cer = metric(self.predicted, self.expected)\n",
    "        self.log('validation_cer', cer, prog_bar=True, on_epoch=True, logger=True)\n",
    "\n",
    "\n",
    "        # Compute the word error rate\n",
    "        metric = torchmetrics.WordErrorRate()\n",
    "        wer = metric(self.predicted, self.expected)\n",
    "        self.log('validation_wer', wer, prog_bar=True, on_epoch=True, logger=True)\n",
    "\n",
    "        # Compute the BLEU metric\n",
    "        metric = torchmetrics.BLEUScore()\n",
    "        bleu = metric(self.predicted, self.expected)\n",
    "        self.log('validation_bleu', bleu, prog_bar=True, on_epoch=True, logger=True)\n",
    "\n",
    "        self.expected.clear()\n",
    "        self.predicted.clear()\n",
    "\n",
    "    def optimizer_zero_grad(self, epoch, batch_idx, optimizer):\n",
    "        optimizer.zero_grad(set_to_none=True)\n",
    "\n",
    "    def configure_optimizers(self):\n",
    "        optimizer = torch.optim.Adam(self.parameters(), lr = self.lr, eps = 1e-9)\n",
    "        scheduler = OneCycleLR(\n",
    "                        optimizer,\n",
    "                        max_lr= 10**-3,\n",
    "                        pct_start = 1/10,\n",
    "                        epochs=self.trainer.max_epochs,\n",
    "                        steps_per_epoch=len(train_dataloader),\n",
    "                        div_factor=10,\n",
    "                        three_phase=True,\n",
    "                        final_div_factor=10,\n",
    "                        anneal_strategy='linear'\n",
    "                    )\n",
    "        return {\n",
    "             \"optimizer\": optimizer,\n",
    "             \"lr_scheduler\": {\"scheduler\": scheduler, \"interval\": \"step\"},\n",
    "             }"
   ]
  },
  {
   "cell_type": "code",
   "execution_count": 6,
   "id": "cc15cfeb-846b-4002-a57f-f0aceba8b81d",
   "metadata": {
    "colab": {
     "base_uri": "https://localhost:8080/"
    },
    "executionInfo": {
     "elapsed": 526,
     "status": "ok",
     "timestamp": 1694006614779,
     "user": {
      "displayName": "Sanjana Tule",
      "userId": "12298962096129134000"
     },
     "user_tz": -600
    },
    "id": "cc15cfeb-846b-4002-a57f-f0aceba8b81d",
    "outputId": "e927f9c8-89df-469b-9426-37e7f5d44741"
   },
   "outputs": [
    {
     "name": "stderr",
     "output_type": "stream",
     "text": [
      "GPU available: True (cuda), used: True\n",
      "TPU available: False, using: 0 TPU cores\n",
      "IPU available: False, using: 0 IPUs\n",
      "HPU available: False, using: 0 HPUs\n"
     ]
    }
   ],
   "source": [
    "trainer = pl.Trainer(log_every_n_steps=1,\n",
    "                     #accumulate_grad_batches=5,\n",
    "                     limit_val_batches=2,\n",
    "                     check_val_every_n_epoch=1,\n",
    "                     max_epochs = cfg['num_epochs'],\n",
    "                     accelerator='auto',\n",
    "                     devices='auto',\n",
    "                     strategy='auto',\n",
    "                     #precision=\"bf16\", #\"16-mixed\",\n",
    "                     logger=[TensorBoardLogger(\"logs/\", name=\"transformer-bilin\"),CSVLogger(save_dir=\"logs/\")],\n",
    "    )"
   ]
  },
  {
   "cell_type": "code",
   "execution_count": 7,
   "id": "09562b44-7779-4a12-803c-e3d3e7c099ca",
   "metadata": {
    "colab": {
     "base_uri": "https://localhost:8080/",
     "height": 770,
     "referenced_widgets": [
      "ee836b4283e347449b3a4677f845a573",
      "91a0ce4110284ecca8301fd78ed3d15c",
      "dfcd7b563fa540af885c41490e394843",
      "67b4aa7892e54a2fbb456066e3eab59b",
      "eb1d17d0fc7d4bf586d2e65e81e8c27e",
      "0f5f96244272468783029ec81b743136",
      "a71a192efbe54aa79cdace7afbb5fc7f",
      "e74cd8f146974ebcac2852d483cc6dd7",
      "f167c388549649d5a9f3abc829bb6f33",
      "c372c708856d4affb8af93648524faa1",
      "90a2cc08c92e4fba85f88f08989a6046"
     ]
    },
    "executionInfo": {
     "elapsed": 8601,
     "status": "error",
     "timestamp": 1694006623379,
     "user": {
      "displayName": "Sanjana Tule",
      "userId": "12298962096129134000"
     },
     "user_tz": -600
    },
    "id": "09562b44-7779-4a12-803c-e3d3e7c099ca",
    "outputId": "2ffe3931-7897-406d-a058-feccba612272"
   },
   "outputs": [
    {
     "name": "stderr",
     "output_type": "stream",
     "text": [
      "Initializing distributed: GLOBAL_RANK: 0, MEMBER: 1/2\n",
      "Initializing distributed: GLOBAL_RANK: 1, MEMBER: 2/2\n",
      "Missing logger folder: logs/transformer-bilin\n",
      "----------------------------------------------------------------------------------------------------\n",
      "distributed_backend=nccl\n",
      "All distributed processes registered. Starting with 2 processes\n",
      "----------------------------------------------------------------------------------------------------\n",
      "\n",
      "You are using a CUDA device ('NVIDIA GeForce RTX 3090') that has Tensor Cores. To properly utilize them, you should set `torch.set_float32_matmul_precision('medium' | 'high')` which will trade-off precision for performance. For more details, read https://pytorch.org/docs/stable/generated/torch.set_float32_matmul_precision.html#torch.set_float32_matmul_precision\n",
      "Missing logger folder: logs/transformer-bilin\n",
      "LOCAL_RANK: 0 - CUDA_VISIBLE_DEVICES: [0,1]\n",
      "LOCAL_RANK: 1 - CUDA_VISIBLE_DEVICES: [0,1]\n",
      "\n",
      "  | Name    | Type             | Params\n",
      "---------------------------------------------\n",
      "0 | model   | Transformer      | 57.1 M\n",
      "1 | loss_fn | CrossEntropyLoss | 0     \n",
      "---------------------------------------------\n",
      "57.1 M    Trainable params\n",
      "0         Non-trainable params\n",
      "57.1 M    Total params\n",
      "228.499   Total estimated model params size (MB)\n"
     ]
    },
    {
     "data": {
      "application/vnd.jupyter.widget-view+json": {
       "model_id": "",
       "version_major": 2,
       "version_minor": 0
      },
      "text/plain": [
       "Sanity Checking: 0it [00:00, ?it/s]"
      ]
     },
     "metadata": {},
     "output_type": "display_data"
    },
    {
     "data": {
      "application/vnd.jupyter.widget-view+json": {
       "model_id": "f5706e3d4d7140e5922a62916f3e78b3",
       "version_major": 2,
       "version_minor": 0
      },
      "text/plain": [
       "Training: 0it [00:00, ?it/s]"
      ]
     },
     "metadata": {},
     "output_type": "display_data"
    },
    {
     "data": {
      "application/vnd.jupyter.widget-view+json": {
       "model_id": "",
       "version_major": 2,
       "version_minor": 0
      },
      "text/plain": [
       "Validation: 0it [00:00, ?it/s]"
      ]
     },
     "metadata": {},
     "output_type": "display_data"
    },
    {
     "name": "stdout",
     "output_type": "stream",
     "text": [
      "Epoch 0 : Loss Mean - 5.510867595672607\n",
      "Epoch 0 : Loss Mean - 5.503559112548828\n"
     ]
    },
    {
     "data": {
      "application/vnd.jupyter.widget-view+json": {
       "model_id": "",
       "version_major": 2,
       "version_minor": 0
      },
      "text/plain": [
       "Validation: 0it [00:00, ?it/s]"
      ]
     },
     "metadata": {},
     "output_type": "display_data"
    },
    {
     "name": "stdout",
     "output_type": "stream",
     "text": [
      "Epoch 1 : Loss Mean - 4.196812152862549\n",
      "Epoch 1 : Loss Mean - 4.18942403793335\n"
     ]
    },
    {
     "data": {
      "application/vnd.jupyter.widget-view+json": {
       "model_id": "",
       "version_major": 2,
       "version_minor": 0
      },
      "text/plain": [
       "Validation: 0it [00:00, ?it/s]"
      ]
     },
     "metadata": {},
     "output_type": "display_data"
    },
    {
     "name": "stdout",
     "output_type": "stream",
     "text": [
      "Epoch 2 : Loss Mean - 3.700507164001465\n",
      "Epoch 2 : Loss Mean - 3.695730209350586\n"
     ]
    },
    {
     "data": {
      "application/vnd.jupyter.widget-view+json": {
       "model_id": "",
       "version_major": 2,
       "version_minor": 0
      },
      "text/plain": [
       "Validation: 0it [00:00, ?it/s]"
      ]
     },
     "metadata": {},
     "output_type": "display_data"
    },
    {
     "name": "stdout",
     "output_type": "stream",
     "text": [
      "Epoch 3 : Loss Mean - 3.450279474258423\n",
      "Epoch 3 : Loss Mean - 3.4494123458862305\n"
     ]
    },
    {
     "data": {
      "application/vnd.jupyter.widget-view+json": {
       "model_id": "",
       "version_major": 2,
       "version_minor": 0
      },
      "text/plain": [
       "Validation: 0it [00:00, ?it/s]"
      ]
     },
     "metadata": {},
     "output_type": "display_data"
    },
    {
     "name": "stdout",
     "output_type": "stream",
     "text": [
      "Epoch 4 : Loss Mean - 3.2849607467651367\n",
      "Epoch 4 : Loss Mean - 3.2896411418914795\n"
     ]
    },
    {
     "data": {
      "application/vnd.jupyter.widget-view+json": {
       "model_id": "",
       "version_major": 2,
       "version_minor": 0
      },
      "text/plain": [
       "Validation: 0it [00:00, ?it/s]"
      ]
     },
     "metadata": {},
     "output_type": "display_data"
    },
    {
     "name": "stdout",
     "output_type": "stream",
     "text": [
      "Epoch 5 : Loss Mean - 3.164957046508789\n",
      "Epoch 5 : Loss Mean - 3.1646482944488525\n"
     ]
    },
    {
     "data": {
      "application/vnd.jupyter.widget-view+json": {
       "model_id": "",
       "version_major": 2,
       "version_minor": 0
      },
      "text/plain": [
       "Validation: 0it [00:00, ?it/s]"
      ]
     },
     "metadata": {},
     "output_type": "display_data"
    },
    {
     "name": "stdout",
     "output_type": "stream",
     "text": [
      "Epoch 6 : Loss Mean - 3.0065152645111084\n",
      "Epoch 6 : Loss Mean - 3.0109245777130127\n"
     ]
    },
    {
     "data": {
      "application/vnd.jupyter.widget-view+json": {
       "model_id": "",
       "version_major": 2,
       "version_minor": 0
      },
      "text/plain": [
       "Validation: 0it [00:00, ?it/s]"
      ]
     },
     "metadata": {},
     "output_type": "display_data"
    },
    {
     "name": "stdout",
     "output_type": "stream",
     "text": [
      "Epoch 7 : Loss Mean - 2.78928542137146\n",
      "Epoch 7 : Loss Mean - 2.794536828994751\n"
     ]
    },
    {
     "data": {
      "application/vnd.jupyter.widget-view+json": {
       "model_id": "",
       "version_major": 2,
       "version_minor": 0
      },
      "text/plain": [
       "Validation: 0it [00:00, ?it/s]"
      ]
     },
     "metadata": {},
     "output_type": "display_data"
    },
    {
     "name": "stdout",
     "output_type": "stream",
     "text": [
      "Epoch 8 : Loss Mean - 2.6011176109313965\n",
      "Epoch 8 : Loss Mean - 2.594843626022339\n"
     ]
    },
    {
     "data": {
      "application/vnd.jupyter.widget-view+json": {
       "model_id": "",
       "version_major": 2,
       "version_minor": 0
      },
      "text/plain": [
       "Validation: 0it [00:00, ?it/s]"
      ]
     },
     "metadata": {},
     "output_type": "display_data"
    },
    {
     "name": "stdout",
     "output_type": "stream",
     "text": [
      "Epoch 9 : Loss Mean - 2.426003932952881\n",
      "Epoch 9 : Loss Mean - 2.4258222579956055\n"
     ]
    },
    {
     "data": {
      "application/vnd.jupyter.widget-view+json": {
       "model_id": "",
       "version_major": 2,
       "version_minor": 0
      },
      "text/plain": [
       "Validation: 0it [00:00, ?it/s]"
      ]
     },
     "metadata": {},
     "output_type": "display_data"
    },
    {
     "name": "stdout",
     "output_type": "stream",
     "text": [
      "Epoch 10 : Loss Mean - 2.274852752685547\n",
      "Epoch 10 : Loss Mean - 2.2768166065216064\n"
     ]
    },
    {
     "data": {
      "application/vnd.jupyter.widget-view+json": {
       "model_id": "",
       "version_major": 2,
       "version_minor": 0
      },
      "text/plain": [
       "Validation: 0it [00:00, ?it/s]"
      ]
     },
     "metadata": {},
     "output_type": "display_data"
    },
    {
     "name": "stdout",
     "output_type": "stream",
     "text": [
      "Epoch 11 : Loss Mean - 2.1479859352111816\n",
      "Epoch 11 : Loss Mean - 2.146928548812866\n"
     ]
    },
    {
     "data": {
      "application/vnd.jupyter.widget-view+json": {
       "model_id": "",
       "version_major": 2,
       "version_minor": 0
      },
      "text/plain": [
       "Validation: 0it [00:00, ?it/s]"
      ]
     },
     "metadata": {},
     "output_type": "display_data"
    },
    {
     "name": "stdout",
     "output_type": "stream",
     "text": [
      "Epoch 12 : Loss Mean - 2.0677547454833984\n",
      "Epoch 12 : Loss Mean - 2.070410966873169\n"
     ]
    },
    {
     "data": {
      "application/vnd.jupyter.widget-view+json": {
       "model_id": "",
       "version_major": 2,
       "version_minor": 0
      },
      "text/plain": [
       "Validation: 0it [00:00, ?it/s]"
      ]
     },
     "metadata": {},
     "output_type": "display_data"
    },
    {
     "name": "stdout",
     "output_type": "stream",
     "text": [
      "Epoch 13 : Loss Mean - 2.042353868484497\n",
      "Epoch 13 : Loss Mean - 2.0419204235076904\n"
     ]
    },
    {
     "data": {
      "application/vnd.jupyter.widget-view+json": {
       "model_id": "",
       "version_major": 2,
       "version_minor": 0
      },
      "text/plain": [
       "Validation: 0it [00:00, ?it/s]"
      ]
     },
     "metadata": {},
     "output_type": "display_data"
    },
    {
     "name": "stdout",
     "output_type": "stream",
     "text": [
      "Epoch 14 : Loss Mean - 2.0173332691192627\n",
      "Epoch 14 : Loss Mean - 2.021510362625122\n"
     ]
    },
    {
     "data": {
      "application/vnd.jupyter.widget-view+json": {
       "model_id": "",
       "version_major": 2,
       "version_minor": 0
      },
      "text/plain": [
       "Validation: 0it [00:00, ?it/s]"
      ]
     },
     "metadata": {},
     "output_type": "display_data"
    },
    {
     "name": "stdout",
     "output_type": "stream",
     "text": [
      "Epoch 15 : Loss Mean - 1.997849464416504\n",
      "Epoch 15 : Loss Mean - 2.0003364086151123\n"
     ]
    },
    {
     "data": {
      "application/vnd.jupyter.widget-view+json": {
       "model_id": "",
       "version_major": 2,
       "version_minor": 0
      },
      "text/plain": [
       "Validation: 0it [00:00, ?it/s]"
      ]
     },
     "metadata": {},
     "output_type": "display_data"
    },
    {
     "name": "stdout",
     "output_type": "stream",
     "text": [
      "Epoch 16 : Loss Mean - 1.983184576034546\n",
      "Epoch 16 : Loss Mean - 1.979770302772522\n"
     ]
    },
    {
     "data": {
      "application/vnd.jupyter.widget-view+json": {
       "model_id": "",
       "version_major": 2,
       "version_minor": 0
      },
      "text/plain": [
       "Validation: 0it [00:00, ?it/s]"
      ]
     },
     "metadata": {},
     "output_type": "display_data"
    },
    {
     "name": "stdout",
     "output_type": "stream",
     "text": [
      "Epoch 17 : Loss Mean - 1.962496280670166\n",
      "Epoch 17 : Loss Mean - 1.9652209281921387\n"
     ]
    },
    {
     "data": {
      "application/vnd.jupyter.widget-view+json": {
       "model_id": "",
       "version_major": 2,
       "version_minor": 0
      },
      "text/plain": [
       "Validation: 0it [00:00, ?it/s]"
      ]
     },
     "metadata": {},
     "output_type": "display_data"
    },
    {
     "name": "stdout",
     "output_type": "stream",
     "text": [
      "Epoch 18 : Loss Mean - 1.94868803024292\n",
      "Epoch 18 : Loss Mean - 1.949491024017334\n"
     ]
    },
    {
     "data": {
      "application/vnd.jupyter.widget-view+json": {
       "model_id": "",
       "version_major": 2,
       "version_minor": 0
      },
      "text/plain": [
       "Validation: 0it [00:00, ?it/s]"
      ]
     },
     "metadata": {},
     "output_type": "display_data"
    },
    {
     "name": "stdout",
     "output_type": "stream",
     "text": [
      "Epoch 19 : Loss Mean - 1.9348610639572144\n",
      "Epoch 19 : Loss Mean - 1.9340019226074219\n"
     ]
    },
    {
     "data": {
      "application/vnd.jupyter.widget-view+json": {
       "model_id": "",
       "version_major": 2,
       "version_minor": 0
      },
      "text/plain": [
       "Validation: 0it [00:00, ?it/s]"
      ]
     },
     "metadata": {},
     "output_type": "display_data"
    },
    {
     "name": "stdout",
     "output_type": "stream",
     "text": [
      "Epoch 20 : Loss Mean - 1.9196230173110962\n",
      "Epoch 20 : Loss Mean - 1.9213074445724487\n"
     ]
    },
    {
     "data": {
      "application/vnd.jupyter.widget-view+json": {
       "model_id": "",
       "version_major": 2,
       "version_minor": 0
      },
      "text/plain": [
       "Validation: 0it [00:00, ?it/s]"
      ]
     },
     "metadata": {},
     "output_type": "display_data"
    },
    {
     "name": "stdout",
     "output_type": "stream",
     "text": [
      "Epoch 21 : Loss Mean - 1.9111050367355347\n",
      "Epoch 21 : Loss Mean - 1.9053317308425903\n"
     ]
    },
    {
     "data": {
      "application/vnd.jupyter.widget-view+json": {
       "model_id": "",
       "version_major": 2,
       "version_minor": 0
      },
      "text/plain": [
       "Validation: 0it [00:00, ?it/s]"
      ]
     },
     "metadata": {},
     "output_type": "display_data"
    },
    {
     "name": "stdout",
     "output_type": "stream",
     "text": [
      "Epoch 22 : Loss Mean - 1.8965743780136108\n",
      "Epoch 22 : Loss Mean - 1.8948793411254883\n"
     ]
    },
    {
     "data": {
      "application/vnd.jupyter.widget-view+json": {
       "model_id": "",
       "version_major": 2,
       "version_minor": 0
      },
      "text/plain": [
       "Validation: 0it [00:00, ?it/s]"
      ]
     },
     "metadata": {},
     "output_type": "display_data"
    },
    {
     "name": "stdout",
     "output_type": "stream",
     "text": [
      "Epoch 23 : Loss Mean - 1.884111762046814\n",
      "Epoch 23 : Loss Mean - 1.8849892616271973\n"
     ]
    },
    {
     "data": {
      "application/vnd.jupyter.widget-view+json": {
       "model_id": "1dca1347aa6245aaa9c150db7be8a358",
       "version_major": 2,
       "version_minor": 0
      },
      "text/plain": [
       "Validation: 0it [00:00, ?it/s]"
      ]
     },
     "metadata": {},
     "output_type": "display_data"
    },
    {
     "name": "stdout",
     "output_type": "stream",
     "text": [
      "Epoch 24 : Loss Mean - 1.8739383220672607\n",
      "Epoch 24 : Loss Mean - 1.8734914064407349\n"
     ]
    },
    {
     "data": {
      "application/vnd.jupyter.widget-view+json": {
       "model_id": "332aee33856845e984715bcf1384b898",
       "version_major": 2,
       "version_minor": 0
      },
      "text/plain": [
       "Validation: 0it [00:00, ?it/s]"
      ]
     },
     "metadata": {},
     "output_type": "display_data"
    },
    {
     "name": "stdout",
     "output_type": "stream",
     "text": [
      "Epoch 25 : Loss Mean - 1.8645429611206055\n",
      "Epoch 25 : Loss Mean - 1.862625002861023\n"
     ]
    },
    {
     "data": {
      "application/vnd.jupyter.widget-view+json": {
       "model_id": "",
       "version_major": 2,
       "version_minor": 0
      },
      "text/plain": [
       "Validation: 0it [00:00, ?it/s]"
      ]
     },
     "metadata": {},
     "output_type": "display_data"
    },
    {
     "name": "stdout",
     "output_type": "stream",
     "text": [
      "Epoch 26 : Loss Mean - 1.854590892791748\n",
      "Epoch 26 : Loss Mean - 1.854184627532959\n"
     ]
    },
    {
     "data": {
      "application/vnd.jupyter.widget-view+json": {
       "model_id": "",
       "version_major": 2,
       "version_minor": 0
      },
      "text/plain": [
       "Validation: 0it [00:00, ?it/s]"
      ]
     },
     "metadata": {},
     "output_type": "display_data"
    },
    {
     "name": "stdout",
     "output_type": "stream",
     "text": [
      "Epoch 27 : Loss Mean - 1.8439605236053467\n",
      "Epoch 27 : Loss Mean - 1.8448740243911743\n"
     ]
    },
    {
     "data": {
      "application/vnd.jupyter.widget-view+json": {
       "model_id": "",
       "version_major": 2,
       "version_minor": 0
      },
      "text/plain": [
       "Validation: 0it [00:00, ?it/s]"
      ]
     },
     "metadata": {},
     "output_type": "display_data"
    },
    {
     "name": "stdout",
     "output_type": "stream",
     "text": [
      "Epoch 28 : Loss Mean - 1.8371318578720093\n",
      "Epoch 28 : Loss Mean - 1.8347673416137695\n"
     ]
    },
    {
     "data": {
      "application/vnd.jupyter.widget-view+json": {
       "model_id": "",
       "version_major": 2,
       "version_minor": 0
      },
      "text/plain": [
       "Validation: 0it [00:00, ?it/s]"
      ]
     },
     "metadata": {},
     "output_type": "display_data"
    },
    {
     "name": "stdout",
     "output_type": "stream",
     "text": [
      "Epoch 29 : Loss Mean - 1.8269129991531372\n",
      "Epoch 29 : Loss Mean - 1.8282145261764526\n"
     ]
    },
    {
     "name": "stderr",
     "output_type": "stream",
     "text": [
      "`Trainer.fit` stopped: `max_epochs=30` reached.\n"
     ]
    }
   ],
   "source": [
    "#### Loading the lightning module\n",
    "model = LitTr(cfg,tokenizer_src,tokenizer_tgt)\n",
    "#torch.set_float32_matmul_precision('medium')\n",
    "trainer.fit(model, train_dataloader ,val_dataloader)"
   ]
  },
  {
   "cell_type": "code",
   "execution_count": 10,
   "id": "d0f14d1d-3db2-46cd-bd84-0c28f2c3bcfc",
   "metadata": {},
   "outputs": [
    {
     "data": {
      "text/html": [
       "<div>\n",
       "<style scoped>\n",
       "    .dataframe tbody tr th:only-of-type {\n",
       "        vertical-align: middle;\n",
       "    }\n",
       "\n",
       "    .dataframe tbody tr th {\n",
       "        vertical-align: top;\n",
       "    }\n",
       "\n",
       "    .dataframe thead th {\n",
       "        text-align: right;\n",
       "    }\n",
       "</style>\n",
       "<table border=\"1\" class=\"dataframe\">\n",
       "  <thead>\n",
       "    <tr style=\"text-align: right;\">\n",
       "      <th></th>\n",
       "      <th>validation_cer</th>\n",
       "      <th>validation_wer</th>\n",
       "      <th>validation_bleu</th>\n",
       "      <th>train_loss</th>\n",
       "      <th>loss</th>\n",
       "    </tr>\n",
       "    <tr>\n",
       "      <th>epoch</th>\n",
       "      <th></th>\n",
       "      <th></th>\n",
       "      <th></th>\n",
       "      <th></th>\n",
       "      <th></th>\n",
       "    </tr>\n",
       "  </thead>\n",
       "  <tbody>\n",
       "    <tr>\n",
       "      <th>0</th>\n",
       "      <td>0.593640</td>\n",
       "      <td>0.782609</td>\n",
       "      <td>0.0</td>\n",
       "      <td>NaN</td>\n",
       "      <td>NaN</td>\n",
       "    </tr>\n",
       "    <tr>\n",
       "      <th>0</th>\n",
       "      <td>NaN</td>\n",
       "      <td>NaN</td>\n",
       "      <td>NaN</td>\n",
       "      <td>5.503588</td>\n",
       "      <td>5.503559</td>\n",
       "    </tr>\n",
       "    <tr>\n",
       "      <th>1</th>\n",
       "      <td>0.703571</td>\n",
       "      <td>1.280000</td>\n",
       "      <td>0.0</td>\n",
       "      <td>NaN</td>\n",
       "      <td>NaN</td>\n",
       "    </tr>\n",
       "    <tr>\n",
       "      <th>1</th>\n",
       "      <td>NaN</td>\n",
       "      <td>NaN</td>\n",
       "      <td>NaN</td>\n",
       "      <td>4.189604</td>\n",
       "      <td>4.189424</td>\n",
       "    </tr>\n",
       "    <tr>\n",
       "      <th>2</th>\n",
       "      <td>0.515850</td>\n",
       "      <td>0.905660</td>\n",
       "      <td>0.0</td>\n",
       "      <td>NaN</td>\n",
       "      <td>NaN</td>\n",
       "    </tr>\n",
       "  </tbody>\n",
       "</table>\n",
       "</div>"
      ],
      "text/plain": [
       "       validation_cer  validation_wer  validation_bleu  train_loss      loss\n",
       "epoch                                                                       \n",
       "0            0.593640        0.782609              0.0         NaN       NaN\n",
       "0                 NaN             NaN              NaN    5.503588  5.503559\n",
       "1            0.703571        1.280000              0.0         NaN       NaN\n",
       "1                 NaN             NaN              NaN    4.189604  4.189424\n",
       "2            0.515850        0.905660              0.0         NaN       NaN"
      ]
     },
     "metadata": {},
     "output_type": "display_data"
    },
    {
     "data": {
      "text/plain": [
       "<seaborn.axisgrid.FacetGrid at 0x7fb56c891ea0>"
      ]
     },
     "execution_count": 10,
     "metadata": {},
     "output_type": "execute_result"
    },
    {
     "data": {
      "image/png": "[encoded data removed]",
      "text/plain": [
       "<Figure size 655.75x500 with 1 Axes>"
      ]
     },
     "metadata": {},
     "output_type": "display_data"
    }
   ],
   "source": [
    "metrics = pd.read_csv(\"logs/lightning_logs/version_0/metrics.csv\")\n",
    "del metrics[\"step\"]\n",
    "metrics.set_index(\"epoch\", inplace=True)\n",
    "display(metrics.dropna(axis=1, how=\"all\").head())\n",
    "sn.relplot(data=metrics, kind=\"line\")"
   ]
  },
  {
   "cell_type": "code",
   "execution_count": 11,
   "id": "9ff2a9d9-f11b-479a-8afb-3f806befb241",
   "metadata": {},
   "outputs": [
    {
     "data": {
      "text/html": [
       "\n",
       "      <iframe id=\"tensorboard-frame-153453a1f7008e9d\" width=\"100%\" height=\"800\" frameborder=\"0\">\n",
       "      </iframe>\n",
       "      <script>\n",
       "        (function() {\n",
       "          const frame = document.getElementById(\"tensorboard-frame-153453a1f7008e9d\");\n",
       "          const url = new URL(\"/\", window.location);\n",
       "          const port = 6006;\n",
       "          if (port) {\n",
       "            url.port = port;\n",
       "          }\n",
       "          frame.src = url;\n",
       "        })();\n",
       "      </script>\n",
       "    "
      ],
      "text/plain": [
       "<IPython.core.display.HTML object>"
      ]
     },
     "metadata": {},
     "output_type": "display_data"
    }
   ],
   "source": [
    "# start tensorboard\n",
    "%load_ext tensorboard\n",
    "%tensorboard --logdir logs/"
   ]
  },
  {
   "cell_type": "code",
   "execution_count": null,
   "id": "a92f0953-842d-46cd-aa7f-c74adbe2811a",
   "metadata": {},
   "outputs": [],
   "source": []
  }
 ],
 "metadata": {
  "accelerator": "GPU",
  "colab": {
   "gpuType": "T4",
   "provenance": []
  },
  "kernelspec": {
   "display_name": "Python 3 (ipykernel)",
   "language": "python",
   "name": "python3"
  },
  "language_info": {
   "codemirror_mode": {
    "name": "ipython",
    "version": 3
   },
   "file_extension": ".py",
   "mimetype": "text/x-python",
   "name": "python",
   "nbconvert_exporter": "python",
   "pygments_lexer": "ipython3",
   "version": "3.10.11"
  },
  "widgets": {
   "application/vnd.jupyter.widget-state+json": {
    "0f5f96244272468783029ec81b743136": {
     "model_module": "@jupyter-widgets/base",
     "model_module_version": "1.2.0",
     "model_name": "LayoutModel",
     "state": {
      "_model_module": "@jupyter-widgets/base",
      "_model_module_version": "1.2.0",
      "_model_name": "LayoutModel",
      "_view_count": null,
      "_view_module": "@jupyter-widgets/base",
      "_view_module_version": "1.2.0",
      "_view_name": "LayoutView",
      "align_content": null,
      "align_items": null,
      "align_self": null,
      "border": null,
      "bottom": null,
      "display": null,
      "flex": null,
      "flex_flow": null,
      "grid_area": null,
      "grid_auto_columns": null,
      "grid_auto_flow": null,
      "grid_auto_rows": null,
      "grid_column": null,
      "grid_gap": null,
      "grid_row": null,
      "grid_template_areas": null,
      "grid_template_columns": null,
      "grid_template_rows": null,
      "height": null,
      "justify_content": null,
      "justify_items": null,
      "left": null,
      "margin": null,
      "max_height": null,
      "max_width": null,
      "min_height": null,
      "min_width": null,
      "object_fit": null,
      "object_position": null,
      "order": null,
      "overflow": null,
      "overflow_x": null,
      "overflow_y": null,
      "padding": null,
      "right": null,
      "top": null,
      "visibility": null,
      "width": null
     }
    },
    "67b4aa7892e54a2fbb456066e3eab59b": {
     "model_module": "@jupyter-widgets/controls",
     "model_module_version": "1.5.0",
     "model_name": "HTMLModel",
     "state": {
      "_dom_classes": [],
      "_model_module": "@jupyter-widgets/controls",
      "_model_module_version": "1.5.0",
      "_model_name": "HTMLModel",
      "_view_count": null,
      "_view_module": "@jupyter-widgets/controls",
      "_view_module_version": "1.5.0",
      "_view_name": "HTMLView",
      "description": "",
      "description_tooltip": null,
      "layout": "IPY_MODEL_c372c708856d4affb8af93648524faa1",
      "placeholder": "​",
      "style": "IPY_MODEL_90a2cc08c92e4fba85f88f08989a6046",
      "value": " 0/? [00:00&lt;?, ?it/s]"
     }
    },
    "90a2cc08c92e4fba85f88f08989a6046": {
     "model_module": "@jupyter-widgets/controls",
     "model_module_version": "1.5.0",
     "model_name": "DescriptionStyleModel",
     "state": {
      "_model_module": "@jupyter-widgets/controls",
      "_model_module_version": "1.5.0",
      "_model_name": "DescriptionStyleModel",
      "_view_count": null,
      "_view_module": "@jupyter-widgets/base",
      "_view_module_version": "1.2.0",
      "_view_name": "StyleView",
      "description_width": ""
     }
    },
    "91a0ce4110284ecca8301fd78ed3d15c": {
     "model_module": "@jupyter-widgets/controls",
     "model_module_version": "1.5.0",
     "model_name": "HTMLModel",
     "state": {
      "_dom_classes": [],
      "_model_module": "@jupyter-widgets/controls",
      "_model_module_version": "1.5.0",
      "_model_name": "HTMLModel",
      "_view_count": null,
      "_view_module": "@jupyter-widgets/controls",
      "_view_module_version": "1.5.0",
      "_view_name": "HTMLView",
      "description": "",
      "description_tooltip": null,
      "layout": "IPY_MODEL_0f5f96244272468783029ec81b743136",
      "placeholder": "​",
      "style": "IPY_MODEL_a71a192efbe54aa79cdace7afbb5fc7f",
      "value": "Sanity Checking: "
     }
    },
    "a71a192efbe54aa79cdace7afbb5fc7f": {
     "model_module": "@jupyter-widgets/controls",
     "model_module_version": "1.5.0",
     "model_name": "DescriptionStyleModel",
     "state": {
      "_model_module": "@jupyter-widgets/controls",
      "_model_module_version": "1.5.0",
      "_model_name": "DescriptionStyleModel",
      "_view_count": null,
      "_view_module": "@jupyter-widgets/base",
      "_view_module_version": "1.2.0",
      "_view_name": "StyleView",
      "description_width": ""
     }
    },
    "c372c708856d4affb8af93648524faa1": {
     "model_module": "@jupyter-widgets/base",
     "model_module_version": "1.2.0",
     "model_name": "LayoutModel",
     "state": {
      "_model_module": "@jupyter-widgets/base",
      "_model_module_version": "1.2.0",
      "_model_name": "LayoutModel",
      "_view_count": null,
      "_view_module": "@jupyter-widgets/base",
      "_view_module_version": "1.2.0",
      "_view_name": "LayoutView",
      "align_content": null,
      "align_items": null,
      "align_self": null,
      "border": null,
      "bottom": null,
      "display": null,
      "flex": null,
      "flex_flow": null,
      "grid_area": null,
      "grid_auto_columns": null,
      "grid_auto_flow": null,
      "grid_auto_rows": null,
      "grid_column": null,
      "grid_gap": null,
      "grid_row": null,
      "grid_template_areas": null,
      "grid_template_columns": null,
      "grid_template_rows": null,
      "height": null,
      "justify_content": null,
      "justify_items": null,
      "left": null,
      "margin": null,
      "max_height": null,
      "max_width": null,
      "min_height": null,
      "min_width": null,
      "object_fit": null,
      "object_position": null,
      "order": null,
      "overflow": null,
      "overflow_x": null,
      "overflow_y": null,
      "padding": null,
      "right": null,
      "top": null,
      "visibility": null,
      "width": null
     }
    },
    "dfcd7b563fa540af885c41490e394843": {
     "model_module": "@jupyter-widgets/controls",
     "model_module_version": "1.5.0",
     "model_name": "FloatProgressModel",
     "state": {
      "_dom_classes": [],
      "_model_module": "@jupyter-widgets/controls",
      "_model_module_version": "1.5.0",
      "_model_name": "FloatProgressModel",
      "_view_count": null,
      "_view_module": "@jupyter-widgets/controls",
      "_view_module_version": "1.5.0",
      "_view_name": "ProgressView",
      "bar_style": "info",
      "description": "",
      "description_tooltip": null,
      "layout": "IPY_MODEL_e74cd8f146974ebcac2852d483cc6dd7",
      "max": 1,
      "min": 0,
      "orientation": "horizontal",
      "style": "IPY_MODEL_f167c388549649d5a9f3abc829bb6f33",
      "value": 0
     }
    },
    "e74cd8f146974ebcac2852d483cc6dd7": {
     "model_module": "@jupyter-widgets/base",
     "model_module_version": "1.2.0",
     "model_name": "LayoutModel",
     "state": {
      "_model_module": "@jupyter-widgets/base",
      "_model_module_version": "1.2.0",
      "_model_name": "LayoutModel",
      "_view_count": null,
      "_view_module": "@jupyter-widgets/base",
      "_view_module_version": "1.2.0",
      "_view_name": "LayoutView",
      "align_content": null,
      "align_items": null,
      "align_self": null,
      "border": null,
      "bottom": null,
      "display": null,
      "flex": "2",
      "flex_flow": null,
      "grid_area": null,
      "grid_auto_columns": null,
      "grid_auto_flow": null,
      "grid_auto_rows": null,
      "grid_column": null,
      "grid_gap": null,
      "grid_row": null,
      "grid_template_areas": null,
      "grid_template_columns": null,
      "grid_template_rows": null,
      "height": null,
      "justify_content": null,
      "justify_items": null,
      "left": null,
      "margin": null,
      "max_height": null,
      "max_width": null,
      "min_height": null,
      "min_width": null,
      "object_fit": null,
      "object_position": null,
      "order": null,
      "overflow": null,
      "overflow_x": null,
      "overflow_y": null,
      "padding": null,
      "right": null,
      "top": null,
      "visibility": null,
      "width": null
     }
    },
    "eb1d17d0fc7d4bf586d2e65e81e8c27e": {
     "model_module": "@jupyter-widgets/base",
     "model_module_version": "1.2.0",
     "model_name": "LayoutModel",
     "state": {
      "_model_module": "@jupyter-widgets/base",
      "_model_module_version": "1.2.0",
      "_model_name": "LayoutModel",
      "_view_count": null,
      "_view_module": "@jupyter-widgets/base",
      "_view_module_version": "1.2.0",
      "_view_name": "LayoutView",
      "align_content": null,
      "align_items": null,
      "align_self": null,
      "border": null,
      "bottom": null,
      "display": "inline-flex",
      "flex": null,
      "flex_flow": "row wrap",
      "grid_area": null,
      "grid_auto_columns": null,
      "grid_auto_flow": null,
      "grid_auto_rows": null,
      "grid_column": null,
      "grid_gap": null,
      "grid_row": null,
      "grid_template_areas": null,
      "grid_template_columns": null,
      "grid_template_rows": null,
      "height": null,
      "justify_content": null,
      "justify_items": null,
      "left": null,
      "margin": null,
      "max_height": null,
      "max_width": null,
      "min_height": null,
      "min_width": null,
      "object_fit": null,
      "object_position": null,
      "order": null,
      "overflow": null,
      "overflow_x": null,
      "overflow_y": null,
      "padding": null,
      "right": null,
      "top": null,
      "visibility": null,
      "width": "100%"
     }
    },
    "ee836b4283e347449b3a4677f845a573": {
     "model_module": "@jupyter-widgets/controls",
     "model_module_version": "1.5.0",
     "model_name": "HBoxModel",
     "state": {
      "_dom_classes": [],
      "_model_module": "@jupyter-widgets/controls",
      "_model_module_version": "1.5.0",
      "_model_name": "HBoxModel",
      "_view_count": null,
      "_view_module": "@jupyter-widgets/controls",
      "_view_module_version": "1.5.0",
      "_view_name": "HBoxView",
      "box_style": "",
      "children": [
       "IPY_MODEL_91a0ce4110284ecca8301fd78ed3d15c",
       "IPY_MODEL_dfcd7b563fa540af885c41490e394843",
       "IPY_MODEL_67b4aa7892e54a2fbb456066e3eab59b"
      ],
      "layout": "IPY_MODEL_eb1d17d0fc7d4bf586d2e65e81e8c27e"
     }
    },
    "f167c388549649d5a9f3abc829bb6f33": {
     "model_module": "@jupyter-widgets/controls",
     "model_module_version": "1.5.0",
     "model_name": "ProgressStyleModel",
     "state": {
      "_model_module": "@jupyter-widgets/controls",
      "_model_module_version": "1.5.0",
      "_model_name": "ProgressStyleModel",
      "_view_count": null,
      "_view_module": "@jupyter-widgets/base",
      "_view_module_version": "1.2.0",
      "_view_name": "StyleView",
      "bar_color": null,
      "description_width": ""
     }
    }
   }
  }
 },
 "nbformat": 4,
 "nbformat_minor": 5
}
