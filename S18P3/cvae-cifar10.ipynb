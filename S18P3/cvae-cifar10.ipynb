{
 "cells": [
  {
   "cell_type": "code",
   "execution_count": 1,
   "metadata": {
    "executionInfo": {
     "elapsed": 13762,
     "status": "ok",
     "timestamp": 1695790752115,
     "user": {
      "displayName": "Sanjana Tule",
      "userId": "12298962096129134000"
     },
     "user_tz": -600
    },
    "id": "5uBL0EC4HapR",
    "outputId": "5c3a89e7-e211-4079-a448-96ed0dc0ffcc"
   },
   "outputs": [
    {
     "name": "stdout",
     "output_type": "stream",
     "text": [
      "\u001b[31mERROR: pip's dependency resolver does not currently take into account all the packages that are installed. This behaviour is the source of the following dependency conflicts.\n",
      "lightning-bolts 0.7.0 requires pytorch-lightning<2.0.0,>1.7.0, but you have pytorch-lightning 2.0.1 which is incompatible.\u001b[0m\u001b[31m\n",
      "\u001b[0m\u001b[33mWARNING: Running pip as the 'root' user can result in broken permissions and conflicting behaviour with the system package manager. It is recommended to use a virtual environment instead: https://pip.pypa.io/warnings/venv\u001b[0m\u001b[33m\n",
      "\u001b[0m\u001b[33mWARNING: Running pip as the 'root' user can result in broken permissions and conflicting behaviour with the system package manager. It is recommended to use a virtual environment instead: https://pip.pypa.io/warnings/venv\u001b[0m\u001b[33m\n",
      "\u001b[0m\u001b[33mWARNING: Running pip as the 'root' user can result in broken permissions and conflicting behaviour with the system package manager. It is recommended to use a virtual environment instead: https://pip.pypa.io/warnings/venv\u001b[0m\u001b[33m\n",
      "\u001b[0m"
     ]
    }
   ],
   "source": [
    "! pip install pytorch-lightning==2.0.1 --quiet\n",
    "! pip install lightning-bolts --quiet\n",
    "! pip install matplotlib --quiet"
   ]
  },
  {
   "cell_type": "code",
   "execution_count": 2,
   "metadata": {},
   "outputs": [
    {
     "name": "stdout",
     "output_type": "stream",
     "text": [
      "\u001b[33mWARNING: Running pip as the 'root' user can result in broken permissions and conflicting behaviour with the system package manager. It is recommended to use a virtual environment instead: https://pip.pypa.io/warnings/venv\u001b[0m\u001b[33m\n",
      "\u001b[0m\u001b[33mWARNING: Running pip as the 'root' user can result in broken permissions and conflicting behaviour with the system package manager. It is recommended to use a virtual environment instead: https://pip.pypa.io/warnings/venv\u001b[0m\u001b[33m\n",
      "\u001b[0m"
     ]
    }
   ],
   "source": [
    "! pip install pandas --quiet\n",
    "! pip install seaborn --quiet"
   ]
  },
  {
   "cell_type": "code",
   "execution_count": 3,
   "metadata": {
    "executionInfo": {
     "elapsed": 2371,
     "status": "ok",
     "timestamp": 1695793986296,
     "user": {
      "displayName": "Sanjana Tule",
      "userId": "12298962096129134000"
     },
     "user_tz": -600
    },
    "id": "9xgANVNcFGH-"
   },
   "outputs": [],
   "source": [
    "import torch\n",
    "import pytorch_lightning as pl\n",
    "from torch import nn\n",
    "from torch.nn import functional as F\n",
    "\n",
    "from torchvision import transforms\n",
    "from torchvision.datasets import CIFAR10\n",
    "from torch.utils.data import DataLoader\n",
    "from matplotlib.pyplot import imshow, figure\n",
    "import numpy as np\n",
    "from torchvision.utils import make_grid\n",
    "import torchvision.transforms as T\n",
    "import matplotlib.pyplot as plt\n",
    "import random\n",
    "from pytorch_lightning.loggers import CSVLogger\n",
    "import pandas as pd\n",
    "import seaborn as sn\n",
    "from pytorch_lightning.callbacks import LearningRateMonitor\n",
    "import torch.optim as optim\n",
    "from torch.optim.lr_scheduler import OneCycleLR"
   ]
  },
  {
   "cell_type": "markdown",
   "metadata": {
    "id": "do3Gtlrahae1"
   },
   "source": [
    "# 1- Building blocks using RESNET18"
   ]
  },
  {
   "cell_type": "code",
   "execution_count": 4,
   "metadata": {
    "executionInfo": {
     "elapsed": 518,
     "status": "ok",
     "timestamp": 1695793283046,
     "user": {
      "displayName": "Sanjana Tule",
      "userId": "12298962096129134000"
     },
     "user_tz": -600
    },
    "id": "VrGzMTF33U3Q"
   },
   "outputs": [],
   "source": [
    "class BasicBlockEnc(nn.Module):\n",
    "\n",
    "  def __init__(self,in_planes,stride=1):\n",
    "    super().__init__()\n",
    "\n",
    "    planes     = in_planes * stride\n",
    "    self.conv1 = nn.Conv2d(in_planes,planes,kernel_size=3,stride=stride,padding=1,bias=False)\n",
    "    self.bn1   = nn.BatchNorm2d(planes)\n",
    "    self.conv2 = nn.Conv2d(planes,planes,kernel_size=3,stride=1,padding=1,bias=False)\n",
    "    self.bn2   = nn.BatchNorm2d(planes)\n",
    "\n",
    "    if stride  == 1:\n",
    "      self.shortcut = nn.Sequential()\n",
    "    else:\n",
    "      self.shortcut = nn.Sequential( # have to match the dimension to add later\n",
    "          nn.Conv2d(in_planes,planes,kernel_size=1,stride=stride,bias=False),\n",
    "          nn.BatchNorm2d(planes)\n",
    "      )\n",
    "\n",
    "  def forward(self,x):\n",
    "\n",
    "    out = torch.relu(self.bn1(self.conv1(x)))\n",
    "    #print(out.shape)\n",
    "    out = self.bn2(self.conv2(out))\n",
    "    #print(out.shape)\n",
    "    #print(self.shortcut(x).shape)\n",
    "    out += self.shortcut(x)\n",
    "    #print(out.shape)\n",
    "    out = torch.relu(out)\n",
    "    #print(out.shape)\n",
    "    return out\n",
    "\n",
    "class ResNet18Enc(nn.Module):\n",
    "  def __init__(self,z_dim):\n",
    "\n",
    "    super().__init__()\n",
    "    num_Blocks     = [2,2,2,2] # 4 layers with 2 basic blocks each\n",
    "    self.in_planes = 64\n",
    "    self.z_dim = z_dim\n",
    "\n",
    "    # initial convolution layers\n",
    "    self.conv1  = nn.Conv2d(4,64,kernel_size=3,stride=2,padding=1,bias=False)\n",
    "    self.bn1    = nn.BatchNorm2d(64)\n",
    "    self.layer1 = self._make_layer(BasicBlockEnc,64 ,num_Blocks[0],stride=1)\n",
    "    self.layer2 = self._make_layer(BasicBlockEnc,128,num_Blocks[1],stride=2)\n",
    "    self.layer3 = self._make_layer(BasicBlockEnc,256,num_Blocks[2],stride=2)\n",
    "    self.layer4 = self._make_layer(BasicBlockEnc,512,num_Blocks[3],stride=2)\n",
    "\n",
    "    self.linear_mu     = nn.Linear(512,z_dim)\n",
    "    self.linear_logvar = nn.Linear(512,z_dim)\n",
    "\n",
    "  def _make_layer(self,BasicBlockEnc,planes,num_Blocks,stride):\n",
    "    strides = [stride] + [1]*(num_Blocks-1)\n",
    "    #print(strides)\n",
    "    layers = []\n",
    "    for stride in strides:\n",
    "      layers += [BasicBlockEnc(self.in_planes,stride)]\n",
    "      self.in_planes = planes\n",
    "    return nn.Sequential(*layers)\n",
    "\n",
    "  def forward(self,x,y):\n",
    "\n",
    "    y = F.one_hot(y,32).unsqueeze(1).unsqueeze(2) #32,1,1,32\n",
    "    y = torch.ones((x.size(0),1,32,32)).to('cuda') * y  # 32,1,32,32\n",
    "    x = torch.cat((x,y),dim=1) # 32,4, 32, 32\n",
    "    x = torch.relu(self.bn1(self.conv1(x)))\n",
    "    #print(x.shape)\n",
    "    x = self.layer1(x)\n",
    "    #print(x.shape)\n",
    "    x = self.layer2(x)\n",
    "    #print(x.shape)\n",
    "    x = self.layer3(x)\n",
    "    #print(x.shape)\n",
    "    x = self.layer4(x)\n",
    "    #print(x.shape)\n",
    "    x = F.adaptive_avg_pool2d(x,1)\n",
    "    #print(x.shape)\n",
    "    x = x.view(x.size(0),-1)\n",
    "    mu = self.linear_mu(x)\n",
    "    logvar = self.linear_logvar(x)\n",
    "    return mu,logvar\n",
    "\n",
    "class BasicBlockDec(nn.Module):\n",
    "  def __init__(self,in_planes,stride=1):\n",
    "    super().__init__()\n",
    "\n",
    "    planes = int(in_planes/stride)\n",
    "    self.conv2 = nn.Conv2d(in_planes,in_planes,kernel_size=3,stride=1,padding=1,bias=False)\n",
    "    self.bn2 = nn.BatchNorm2d(in_planes)\n",
    "\n",
    "    if stride == 1:\n",
    "      self.conv1 = nn.Conv2d(in_planes,in_planes,kernel_size=3,padding=1,stride=1,bias=False)\n",
    "      self.bn1 = nn.BatchNorm2d(planes)\n",
    "      self.shortcut = nn.Sequential()\n",
    "    else:\n",
    "      #self.conv1 = ResizeConv2d(in_planes, planes, kernel_size=3, scale_factor=stride) # 512 to 256\n",
    "      self.conv1 = nn.ConvTranspose2d(in_planes, planes,kernel_size=2, stride=2)\n",
    "      self.bn1   = nn.BatchNorm2d(planes)\n",
    "      self.shortcut = nn.Sequential(\n",
    "          nn.ConvTranspose2d(in_planes, planes,kernel_size=2, stride=2),\n",
    "          nn.BatchNorm2d(planes)\n",
    "    )\n",
    "\n",
    "  def forward(self,x):\n",
    "    out = torch.relu(self.bn2(self.conv2(x)))\n",
    "    #print(out.shape)\n",
    "    out = self.bn1(self.conv1(out))\n",
    "    #print(out.shape)\n",
    "    #print(self.shortcut(x).shape)\n",
    "    out += self.shortcut(x)\n",
    "    #print(out.shape)\n",
    "    out = torch.relu(out)\n",
    "    return out\n",
    "\n",
    "class ResNet18Dec(nn.Module):\n",
    "  def __init__(self,z_dim):\n",
    "    super().__init__()\n",
    "    self.in_planes = 512\n",
    "    num_Blocks=[2,2,2,2]\n",
    "\n",
    "    self.dec_linear = nn.Linear(z_dim + 10,512)\n",
    "    self.conv2d_t1 = nn.ConvTranspose2d(512, 512, kernel_size=4)\n",
    "    self.conv2d_out = nn.Conv2d(64, 3, kernel_size=1)\n",
    "\n",
    "    self.layer4 = self._make_layer(BasicBlockDec,256,num_Blocks[3],stride=2)\n",
    "    self.layer3 = self._make_layer(BasicBlockDec,128,num_Blocks[2],stride=2)\n",
    "    self.layer2 = self._make_layer(BasicBlockDec,64,num_Blocks[1],stride=2)\n",
    "    self.layer1 = self._make_layer(BasicBlockDec,64,num_Blocks[0],stride=1)\n",
    "\n",
    "\n",
    "  def _make_layer(self,BasicBlockDec, planes, num_Blocks, stride):\n",
    "    strides = [stride] + [1] * (num_Blocks-1)\n",
    "    layers = []\n",
    "    for stride in strides:\n",
    "      layers += [BasicBlockDec(self.in_planes,stride)]\n",
    "      self.in_planes = planes\n",
    "    return nn.Sequential(*layers)\n",
    "\n",
    "  def forward(self,z,y):\n",
    "\n",
    "    y = F.one_hot(y,num_classes=10)\n",
    "    z = torch.cat((z,y), dim = 1) # 512 + 10 = 522\n",
    "    x = self.dec_linear(z)\n",
    "    x = x.view(z.size(0),512,1,1)\n",
    "    #x = F.interpolate(x,scale_factor=4)\n",
    "    x = self.conv2d_t1(x)\n",
    "    x = self.layer4(x)\n",
    "    #print(x.shape)\n",
    "    x = self.layer3(x)\n",
    "    #print(x.shape)\n",
    "    x = self.layer2(x)\n",
    "    #print(x.shape)\n",
    "    x = self.layer1(x)\n",
    "    #print(x.shape)\n",
    "    x = self.conv2d_out(x)\n",
    "    #print(x.shape)\n",
    "    x = torch.sigmoid(x)\n",
    "    #print(x.shape)\n",
    "    return x"
   ]
  },
  {
   "cell_type": "markdown",
   "metadata": {
    "id": "RxXeELmoGwG-"
   },
   "source": [
    "# 2 - VAE"
   ]
  },
  {
   "cell_type": "code",
   "execution_count": 5,
   "metadata": {
    "executionInfo": {
     "elapsed": 2,
     "status": "ok",
     "timestamp": 1695794448850,
     "user": {
      "displayName": "Sanjana Tule",
      "userId": "12298962096129134000"
     },
     "user_tz": -600
    },
    "id": "bxzvdijpH4DE"
   },
   "outputs": [],
   "source": [
    "class VAE(pl.LightningModule):\n",
    "  def __init__(self,latent_dim=512):\n",
    "\n",
    "    super().__init__()\n",
    "\n",
    "    self.save_hyperparameters()\n",
    "    self.log_scale = nn.Parameter(torch.Tensor([0.0]))\n",
    "    self.encoder = ResNet18Enc(z_dim=latent_dim)\n",
    "    self.decoder = ResNet18Dec(z_dim=latent_dim)\n",
    "\n",
    "    # classifier head layers\n",
    "    self.chConv1 = nn.Conv2d(3,64,3)\n",
    "    self.chout   = nn.Linear(64*30*30,10)\n",
    "    # classifier loss\n",
    "    self.bce_loss = nn.BCELoss(reduction = 'none')\n",
    "\n",
    "\n",
    "  def multilabel_classifier(self,x_hat):\n",
    "    x_hat_class = F.relu(self.chConv1(x_hat))\n",
    "    batch_size = x_hat_class.shape[0]\n",
    "    x_hat_class = x_hat_class.view(batch_size,-1)\n",
    "    x_hat_class = F.sigmoid(self.chout(x_hat_class))\n",
    "    return x_hat_class\n",
    "\n",
    "\n",
    "  def configure_optimizers(self):\n",
    "    optimizer = optim.Adam(self.parameters(), lr=1e-4)\n",
    "    scheduler = OneCycleLR(\n",
    "            optimizer,\n",
    "            max_lr= 1E-2,\n",
    "            pct_start = 5/self.trainer.max_epochs,\n",
    "            epochs=self.trainer.max_epochs,\n",
    "            steps_per_epoch=len(train_dataloader),\n",
    "            div_factor=100,\n",
    "            three_phase=False,\n",
    "            final_div_factor=100,\n",
    "            anneal_strategy='linear'\n",
    "        )\n",
    "    return {\n",
    "         \"optimizer\": optimizer,\n",
    "         \"lr_scheduler\": {\"scheduler\": scheduler, \"interval\": \"step\"},\n",
    "        }\n",
    "    #return torch.optim.Adam(self.parameters(), lr=1e-3)\n",
    "\n",
    "  def kl_divergence(self,z,mu,std):\n",
    "\n",
    "    p = torch.distributions.Normal(torch.zeros_like(mu), torch.ones_like(std))\n",
    "    q = torch.distributions.Normal(mu, std)\n",
    "\n",
    "    log_qzx = q.log_prob(z)\n",
    "    log_pz = p.log_prob(z)\n",
    "\n",
    "    kl = (log_qzx - log_pz)\n",
    "    kl = kl.sum(-1)\n",
    "    return kl\n",
    "\n",
    "  def gaussian_likelihood(self,mean,logscale,sample):\n",
    "    scale   = torch.exp(logscale)\n",
    "    dist    = torch.distributions.Normal(mean,scale)\n",
    "    log_pxz = dist.log_prob(sample)\n",
    "\n",
    "    return log_pxz.sum(dim=(1,2,3))\n",
    "\n",
    "  def mutli_label_loss(self,x_multilabel,y_combo_one_hot):\n",
    "    ml_loss = self.bce_loss(x_multilabel,y_combo_one_hot).sum(dim=1)\n",
    "    return ml_loss\n",
    "\n",
    "  def forward(self,x,y):\n",
    "\n",
    "      print(f\"input shape {x.shape}\")\n",
    "      print(f\"y shape {y.shape}\")\n",
    "      mu,log_var = self.encoder(x,y)\n",
    "      std = torch.exp(log_var/2)\n",
    "      q = torch.distributions.Normal(mu,std)\n",
    "      z = q.rsample()\n",
    "      print(f\"z shape {z.shape}\")\n",
    "      x_hat = self.decoder(z,y)\n",
    "      print(f\"output shape {x_hat.shape}\")\n",
    "      return mu,log_var,std,z,x_hat\n",
    "\n",
    "  def training_epoch_end(self,outputs):\n",
    "      loss = torch.stack([x['loss'] for x in outputs]).mean()\n",
    "\n",
    "      print(\"****Training****\")\n",
    "      print(f'Epoch {self.current_epoch}: Train loss {loss}')\n",
    "\n",
    "  def validation_epoch_end(self,outputs):\n",
    "      loss = torch.stack([x for x in outputs]).mean()\n",
    "\n",
    "      print(\"****Validation****\")\n",
    "      print(f'Epoch {self.current_epoch}: Validation loss {loss}')\n",
    "\n",
    "  def training_epoch_end(self,outputs):\n",
    "      loss = torch.stack([x['loss'] for x in outputs]).mean()\n",
    "\n",
    "      print(\"****Training****\")\n",
    "      print(f'Epoch {self.current_epoch}: Train loss {loss}')\n",
    "        \n",
    "  def validation_step(self,batch,batch_idx):\n",
    "\n",
    "        x, y, y_changed = batch['image'],batch['correct_label'],batch['changed_label']\n",
    "\n",
    "        mu,log_var = self.encoder(x,y_changed)\n",
    "        std = torch.exp(log_var/2)\n",
    "        q = torch.distributions.Normal(mu,std)\n",
    "        z = q.rsample()\n",
    "        x_hat = self.decoder(z,y_changed)\n",
    "\n",
    "        # multi label classifier\n",
    "        x_multilabel = self.multilabel_classifier(x_hat)\n",
    "\n",
    "        # vae loss\n",
    "        recon_loss = self.gaussian_likelihood(x_hat,self.log_scale,x)\n",
    "        kl = self.kl_divergence(z,mu,std)\n",
    "        elbo = kl - recon_loss\n",
    "\n",
    "        # classifier loss\n",
    "        y_combo = torch.logical_or(F.one_hot(y, num_classes = 10), F.one_hot(y_changed, num_classes = 10)).float()\n",
    "        ml_loss = self.mutli_label_loss(x_multilabel,y_combo)\n",
    "\n",
    "        # weight loss\n",
    "        total_loss = (1 * ml_loss) + (0.01 * elbo)\n",
    "        total_loss = total_loss.mean()\n",
    "\n",
    "        return total_loss\n",
    "\n",
    "  def training_step(self,batch,batch_idx):\n",
    "\n",
    "    #x, y = batch\n",
    "    x, y, y_changed = batch['image'],batch['correct_label'],batch['changed_label']\n",
    "\n",
    "    mu,log_var = self.encoder(x,y_changed)\n",
    "    std = torch.exp(log_var/2)\n",
    "    q = torch.distributions.Normal(mu,std)\n",
    "    z = q.rsample()\n",
    "    x_hat = self.decoder(z,y_changed)\n",
    "\n",
    "    # multi label classifier\n",
    "    x_multilabel = self.multilabel_classifier(x_hat)\n",
    "    #print(x_multilabel)\n",
    "\n",
    "    # vae loss\n",
    "    recon_loss = self.gaussian_likelihood(x_hat,self.log_scale,x)\n",
    "    kl = self.kl_divergence(z,mu,std)\n",
    "    elbo = kl - recon_loss\n",
    "\n",
    "    # classifier loss\n",
    "    y_combo = torch.logical_or(F.one_hot(y, num_classes = 10), F.one_hot(y_changed, num_classes = 10)).float()\n",
    "    #print(y_combo)\n",
    "    ml_loss = self.mutli_label_loss(x_multilabel,y_combo)\n",
    "    #print(ml_loss)\n",
    "    #print(ml_loss.mean())\n",
    "\n",
    "    #print(f\"ml_loss {ml_loss}\")\n",
    "\n",
    "    # weight loss\n",
    "    total_loss = (1 * ml_loss) + (0.01 * elbo)\n",
    "    total_loss = total_loss.mean()\n",
    "    #print(f\"total_loss {total_loss}\")\n",
    "\n",
    "    self.log_dict({\n",
    "        'elbo': (0.001 * elbo).mean(),\n",
    "        'kl': kl.mean(),\n",
    "        'recon_loss': -1 * recon_loss.mean(),\n",
    "        'multilabel loss':ml_loss.mean(),\n",
    "        'total loss':total_loss\n",
    "    })\n",
    "    return total_loss"
   ]
  },
  {
   "cell_type": "markdown",
   "metadata": {
    "id": "awnvOwgshj9j"
   },
   "source": [
    "# 2 - Data"
   ]
  },
  {
   "cell_type": "code",
   "execution_count": 12,
   "metadata": {
    "executionInfo": {
     "elapsed": 1790,
     "status": "ok",
     "timestamp": 1695793239523,
     "user": {
      "displayName": "Sanjana Tule",
      "userId": "12298962096129134000"
     },
     "user_tz": -600
    },
    "id": "wA99Ozgnhsbq",
    "outputId": "0146abcd-c046-4f73-8542-6600b286a346"
   },
   "outputs": [
    {
     "name": "stdout",
     "output_type": "stream",
     "text": [
      "Files already downloaded and verified\n",
      "Files already downloaded and verified\n"
     ]
    }
   ],
   "source": [
    "# function to change the labels of the target\n",
    "def collate_fn(batch):\n",
    "  image_list,correct_label_list,wrong_label_list = [],[],[]\n",
    "\n",
    "  for b in batch:\n",
    "    image_list.append(b[0].unsqueeze(0))\n",
    "    correct_label_list.append(torch.tensor(b[1]))\n",
    "    if random.random() >= 0.3: # generate wrong labels 50% of the time\n",
    "      wrong_label_list.append(torch.tensor(np.random.choice(np.arange(10),1)))\n",
    "    else:\n",
    "      wrong_label_list.append(torch.tensor(b[1]))\n",
    "\n",
    "  return{\n",
    "          \"image\": torch.vstack(image_list),\n",
    "          \"correct_label\": torch.vstack(correct_label_list).squeeze(1),\n",
    "          \"changed_label\": torch.vstack(wrong_label_list).squeeze(1)\n",
    "        }\n",
    "\n",
    "transform=transforms.Compose([transforms.ToTensor(),\n",
    "                              transforms.Normalize((0.5, 0.5, 0.5), (0.5, 0.5, 0.5)),\n",
    "                              ])\n",
    "\n",
    "\n",
    "dataset = CIFAR10(root='data',train=True,transform=transform,download=True)\n",
    "train_dataloader = DataLoader(dataset = dataset, batch_size=24,shuffle=True,collate_fn=collate_fn,num_workers=32)\n",
    "\n",
    "dataset_test = CIFAR10(root='data',train=False,transform=transform,download=True)\n",
    "test_dataloader = DataLoader(dataset = dataset_test, batch_size=30,shuffle=False,collate_fn=collate_fn,num_workers=32)"
   ]
  },
  {
   "cell_type": "code",
   "execution_count": 7,
   "metadata": {
    "executionInfo": {
     "elapsed": 516,
     "status": "ok",
     "timestamp": 1695793241672,
     "user": {
      "displayName": "Sanjana Tule",
      "userId": "12298962096129134000"
     },
     "user_tz": -600
    },
    "id": "fiLDvvd6ib__",
    "outputId": "633a5e1a-4e5d-44e0-afa9-20d1371e5b96"
   },
   "outputs": [
    {
     "data": {
      "text/plain": [
       "(torch.Size([24, 3, 32, 32]),\n",
       " tensor([6, 9, 3, 8, 5, 8, 8, 2, 4, 9, 8, 9, 3, 3, 7, 0, 6, 4, 1, 6, 7, 7, 0, 7]),\n",
       " tensor([1, 5, 3, 7, 5, 1, 1, 6, 4, 3, 8, 4, 7, 1, 7, 8, 1, 4, 3, 6, 4, 8, 2, 7]))"
      ]
     },
     "execution_count": 7,
     "metadata": {},
     "output_type": "execute_result"
    }
   ],
   "source": [
    "n_batch = next(iter(train_dataloader))\n",
    "n_batch['image'].shape,n_batch['correct_label'] , n_batch['changed_label']"
   ]
  },
  {
   "cell_type": "markdown",
   "metadata": {
    "id": "Rl0aT6E1hkF4"
   },
   "source": [
    "# 3 - Train Model"
   ]
  },
  {
   "cell_type": "code",
   "execution_count": 8,
   "metadata": {
    "executionInfo": {
     "elapsed": 313589,
     "status": "ok",
     "timestamp": 1695793967583,
     "user": {
      "displayName": "Sanjana Tule",
      "userId": "12298962096129134000"
     },
     "user_tz": -600
    },
    "id": "QR9e_-FOcxUf",
    "outputId": "395cf5e8-e58f-44fd-992f-4efec63d4ce9"
   },
   "outputs": [
    {
     "name": "stderr",
     "output_type": "stream",
     "text": [
      "Global seed set to 1234\n",
      "GPU available: True (cuda), used: True\n",
      "TPU available: False, using: 0 TPU cores\n",
      "IPU available: False, using: 0 IPUs\n",
      "HPU available: False, using: 0 HPUs\n",
      "You are using a CUDA device ('NVIDIA RTX A4000') that has Tensor Cores. To properly utilize them, you should set `torch.set_float32_matmul_precision('medium' | 'high')` which will trade-off precision for performance. For more details, read https://pytorch.org/docs/stable/generated/torch.set_float32_matmul_precision.html#torch.set_float32_matmul_precision\n",
      "LOCAL_RANK: 0 - CUDA_VISIBLE_DEVICES: [0]\n",
      "\n",
      "  | Name     | Type        | Params\n",
      "-----------------------------------------\n",
      "0 | encoder  | ResNet18Enc | 11.7 M\n",
      "1 | decoder  | ResNet18Dec | 10.6 M\n",
      "2 | chConv1  | Conv2d      | 1.8 K \n",
      "3 | chout    | Linear      | 576 K \n",
      "4 | bce_loss | BCELoss     | 0     \n",
      "-----------------------------------------\n",
      "22.9 M    Trainable params\n",
      "0         Non-trainable params\n",
      "22.9 M    Total params\n",
      "91.643    Total estimated model params size (MB)\n"
     ]
    },
    {
     "data": {
      "application/vnd.jupyter.widget-view+json": {
       "model_id": "",
       "version_major": 2,
       "version_minor": 0
      },
      "text/plain": [
       "Sanity Checking: 0it [00:00, ?it/s]"
      ]
     },
     "metadata": {},
     "output_type": "display_data"
    },
    {
     "name": "stderr",
     "output_type": "stream",
     "text": [
      "/opt/conda/lib/python3.10/site-packages/torch/utils/data/dataloader.py:560: UserWarning: This DataLoader will create 32 worker processes in total. Our suggested max number of worker in current system is 24, which is smaller than what this DataLoader is going to create. Please be aware that excessive worker creation might get DataLoader running slow or even freeze, lower the worker number to avoid potential slowness/freeze if necessary.\n",
      "  warnings.warn(_create_warning_msg(\n"
     ]
    },
    {
     "name": "stdout",
     "output_type": "stream",
     "text": [
      "****Validation****\n",
      "Epoch 0: Validation loss 44.1281623840332\n"
     ]
    },
    {
     "data": {
      "application/vnd.jupyter.widget-view+json": {
       "model_id": "016b99258adf4b32977c9d644cf5c448",
       "version_major": 2,
       "version_minor": 0
      },
      "text/plain": [
       "Training: 0it [00:00, ?it/s]"
      ]
     },
     "metadata": {},
     "output_type": "display_data"
    },
    {
     "data": {
      "application/vnd.jupyter.widget-view+json": {
       "model_id": "",
       "version_major": 2,
       "version_minor": 0
      },
      "text/plain": [
       "Validation: 0it [00:00, ?it/s]"
      ]
     },
     "metadata": {},
     "output_type": "display_data"
    },
    {
     "name": "stdout",
     "output_type": "stream",
     "text": [
      "****Validation****\n",
      "Epoch 0: Validation loss 21.58909034729004\n",
      "****Training****\n",
      "Epoch 0: Train loss 27.305278778076172\n"
     ]
    },
    {
     "data": {
      "application/vnd.jupyter.widget-view+json": {
       "model_id": "",
       "version_major": 2,
       "version_minor": 0
      },
      "text/plain": [
       "Validation: 0it [00:00, ?it/s]"
      ]
     },
     "metadata": {},
     "output_type": "display_data"
    },
    {
     "name": "stdout",
     "output_type": "stream",
     "text": [
      "****Validation****\n",
      "Epoch 1: Validation loss 20.564659118652344\n",
      "****Training****\n",
      "Epoch 1: Train loss 21.274641036987305\n"
     ]
    },
    {
     "data": {
      "application/vnd.jupyter.widget-view+json": {
       "model_id": "",
       "version_major": 2,
       "version_minor": 0
      },
      "text/plain": [
       "Validation: 0it [00:00, ?it/s]"
      ]
     },
     "metadata": {},
     "output_type": "display_data"
    },
    {
     "name": "stdout",
     "output_type": "stream",
     "text": [
      "****Validation****\n",
      "Epoch 2: Validation loss 20.244638442993164\n",
      "****Training****\n",
      "Epoch 2: Train loss 20.70420265197754\n"
     ]
    },
    {
     "data": {
      "application/vnd.jupyter.widget-view+json": {
       "model_id": "",
       "version_major": 2,
       "version_minor": 0
      },
      "text/plain": [
       "Validation: 0it [00:00, ?it/s]"
      ]
     },
     "metadata": {},
     "output_type": "display_data"
    },
    {
     "name": "stdout",
     "output_type": "stream",
     "text": [
      "****Validation****\n",
      "Epoch 3: Validation loss 19.819395065307617\n",
      "****Training****\n",
      "Epoch 3: Train loss 20.257261276245117\n"
     ]
    },
    {
     "data": {
      "application/vnd.jupyter.widget-view+json": {
       "model_id": "",
       "version_major": 2,
       "version_minor": 0
      },
      "text/plain": [
       "Validation: 0it [00:00, ?it/s]"
      ]
     },
     "metadata": {},
     "output_type": "display_data"
    },
    {
     "name": "stdout",
     "output_type": "stream",
     "text": [
      "****Validation****\n",
      "Epoch 4: Validation loss 19.61325454711914\n",
      "****Training****\n",
      "Epoch 4: Train loss 20.05328941345215\n"
     ]
    },
    {
     "data": {
      "application/vnd.jupyter.widget-view+json": {
       "model_id": "",
       "version_major": 2,
       "version_minor": 0
      },
      "text/plain": [
       "Validation: 0it [00:00, ?it/s]"
      ]
     },
     "metadata": {},
     "output_type": "display_data"
    },
    {
     "name": "stdout",
     "output_type": "stream",
     "text": [
      "****Validation****\n",
      "Epoch 5: Validation loss 19.178197860717773\n",
      "****Training****\n",
      "Epoch 5: Train loss 19.767684936523438\n"
     ]
    },
    {
     "data": {
      "application/vnd.jupyter.widget-view+json": {
       "model_id": "",
       "version_major": 2,
       "version_minor": 0
      },
      "text/plain": [
       "Validation: 0it [00:00, ?it/s]"
      ]
     },
     "metadata": {},
     "output_type": "display_data"
    },
    {
     "name": "stdout",
     "output_type": "stream",
     "text": [
      "****Validation****\n",
      "Epoch 6: Validation loss 19.033323287963867\n",
      "****Training****\n",
      "Epoch 6: Train loss 19.525026321411133\n"
     ]
    },
    {
     "data": {
      "application/vnd.jupyter.widget-view+json": {
       "model_id": "",
       "version_major": 2,
       "version_minor": 0
      },
      "text/plain": [
       "Validation: 0it [00:00, ?it/s]"
      ]
     },
     "metadata": {},
     "output_type": "display_data"
    },
    {
     "name": "stdout",
     "output_type": "stream",
     "text": [
      "****Validation****\n",
      "Epoch 7: Validation loss 19.023788452148438\n",
      "****Training****\n",
      "Epoch 7: Train loss 19.290592193603516\n"
     ]
    },
    {
     "data": {
      "application/vnd.jupyter.widget-view+json": {
       "model_id": "",
       "version_major": 2,
       "version_minor": 0
      },
      "text/plain": [
       "Validation: 0it [00:00, ?it/s]"
      ]
     },
     "metadata": {},
     "output_type": "display_data"
    },
    {
     "name": "stdout",
     "output_type": "stream",
     "text": [
      "****Validation****\n",
      "Epoch 8: Validation loss 18.752946853637695\n",
      "****Training****\n",
      "Epoch 8: Train loss 19.105335235595703\n"
     ]
    },
    {
     "data": {
      "application/vnd.jupyter.widget-view+json": {
       "model_id": "",
       "version_major": 2,
       "version_minor": 0
      },
      "text/plain": [
       "Validation: 0it [00:00, ?it/s]"
      ]
     },
     "metadata": {},
     "output_type": "display_data"
    },
    {
     "name": "stdout",
     "output_type": "stream",
     "text": [
      "****Validation****\n",
      "Epoch 9: Validation loss 18.576904296875\n",
      "****Training****\n",
      "Epoch 9: Train loss 18.933135986328125\n"
     ]
    },
    {
     "data": {
      "application/vnd.jupyter.widget-view+json": {
       "model_id": "",
       "version_major": 2,
       "version_minor": 0
      },
      "text/plain": [
       "Validation: 0it [00:00, ?it/s]"
      ]
     },
     "metadata": {},
     "output_type": "display_data"
    },
    {
     "name": "stdout",
     "output_type": "stream",
     "text": [
      "****Validation****\n",
      "Epoch 10: Validation loss 18.531280517578125\n",
      "****Training****\n",
      "Epoch 10: Train loss 18.818336486816406\n"
     ]
    },
    {
     "data": {
      "application/vnd.jupyter.widget-view+json": {
       "model_id": "",
       "version_major": 2,
       "version_minor": 0
      },
      "text/plain": [
       "Validation: 0it [00:00, ?it/s]"
      ]
     },
     "metadata": {},
     "output_type": "display_data"
    },
    {
     "name": "stdout",
     "output_type": "stream",
     "text": [
      "****Validation****\n",
      "Epoch 11: Validation loss 18.346479415893555\n",
      "****Training****\n",
      "Epoch 11: Train loss 18.721403121948242\n"
     ]
    },
    {
     "data": {
      "application/vnd.jupyter.widget-view+json": {
       "model_id": "",
       "version_major": 2,
       "version_minor": 0
      },
      "text/plain": [
       "Validation: 0it [00:00, ?it/s]"
      ]
     },
     "metadata": {},
     "output_type": "display_data"
    },
    {
     "name": "stdout",
     "output_type": "stream",
     "text": [
      "****Validation****\n",
      "Epoch 12: Validation loss 18.278034210205078\n",
      "****Training****\n",
      "Epoch 12: Train loss 18.605436325073242\n"
     ]
    },
    {
     "data": {
      "application/vnd.jupyter.widget-view+json": {
       "model_id": "",
       "version_major": 2,
       "version_minor": 0
      },
      "text/plain": [
       "Validation: 0it [00:00, ?it/s]"
      ]
     },
     "metadata": {},
     "output_type": "display_data"
    },
    {
     "name": "stdout",
     "output_type": "stream",
     "text": [
      "****Validation****\n",
      "Epoch 13: Validation loss 18.233564376831055\n",
      "****Training****\n",
      "Epoch 13: Train loss 18.500757217407227\n"
     ]
    },
    {
     "data": {
      "application/vnd.jupyter.widget-view+json": {
       "model_id": "",
       "version_major": 2,
       "version_minor": 0
      },
      "text/plain": [
       "Validation: 0it [00:00, ?it/s]"
      ]
     },
     "metadata": {},
     "output_type": "display_data"
    },
    {
     "name": "stdout",
     "output_type": "stream",
     "text": [
      "****Validation****\n",
      "Epoch 14: Validation loss 18.175582885742188\n",
      "****Training****\n",
      "Epoch 14: Train loss 18.384023666381836\n"
     ]
    },
    {
     "data": {
      "application/vnd.jupyter.widget-view+json": {
       "model_id": "",
       "version_major": 2,
       "version_minor": 0
      },
      "text/plain": [
       "Validation: 0it [00:00, ?it/s]"
      ]
     },
     "metadata": {},
     "output_type": "display_data"
    },
    {
     "name": "stdout",
     "output_type": "stream",
     "text": [
      "****Validation****\n",
      "Epoch 15: Validation loss 18.165510177612305\n",
      "****Training****\n",
      "Epoch 15: Train loss 18.283428192138672\n"
     ]
    },
    {
     "data": {
      "application/vnd.jupyter.widget-view+json": {
       "model_id": "",
       "version_major": 2,
       "version_minor": 0
      },
      "text/plain": [
       "Validation: 0it [00:00, ?it/s]"
      ]
     },
     "metadata": {},
     "output_type": "display_data"
    },
    {
     "name": "stdout",
     "output_type": "stream",
     "text": [
      "****Validation****\n",
      "Epoch 16: Validation loss 18.114763259887695\n",
      "****Training****\n",
      "Epoch 16: Train loss 18.204343795776367\n"
     ]
    },
    {
     "data": {
      "application/vnd.jupyter.widget-view+json": {
       "model_id": "",
       "version_major": 2,
       "version_minor": 0
      },
      "text/plain": [
       "Validation: 0it [00:00, ?it/s]"
      ]
     },
     "metadata": {},
     "output_type": "display_data"
    },
    {
     "name": "stdout",
     "output_type": "stream",
     "text": [
      "****Validation****\n",
      "Epoch 17: Validation loss 18.019086837768555\n",
      "****Training****\n",
      "Epoch 17: Train loss 18.11250114440918\n"
     ]
    },
    {
     "data": {
      "application/vnd.jupyter.widget-view+json": {
       "model_id": "",
       "version_major": 2,
       "version_minor": 0
      },
      "text/plain": [
       "Validation: 0it [00:00, ?it/s]"
      ]
     },
     "metadata": {},
     "output_type": "display_data"
    },
    {
     "name": "stdout",
     "output_type": "stream",
     "text": [
      "****Validation****\n",
      "Epoch 18: Validation loss 17.998571395874023\n",
      "****Training****\n",
      "Epoch 18: Train loss 18.027935028076172\n"
     ]
    },
    {
     "data": {
      "application/vnd.jupyter.widget-view+json": {
       "model_id": "",
       "version_major": 2,
       "version_minor": 0
      },
      "text/plain": [
       "Validation: 0it [00:00, ?it/s]"
      ]
     },
     "metadata": {},
     "output_type": "display_data"
    },
    {
     "name": "stdout",
     "output_type": "stream",
     "text": [
      "****Validation****\n",
      "Epoch 19: Validation loss 17.912046432495117\n",
      "****Training****\n",
      "Epoch 19: Train loss 17.93136215209961\n"
     ]
    },
    {
     "data": {
      "application/vnd.jupyter.widget-view+json": {
       "model_id": "",
       "version_major": 2,
       "version_minor": 0
      },
      "text/plain": [
       "Validation: 0it [00:00, ?it/s]"
      ]
     },
     "metadata": {},
     "output_type": "display_data"
    },
    {
     "name": "stdout",
     "output_type": "stream",
     "text": [
      "****Validation****\n",
      "Epoch 20: Validation loss 17.900001525878906\n",
      "****Training****\n",
      "Epoch 20: Train loss 17.860692977905273\n"
     ]
    },
    {
     "data": {
      "application/vnd.jupyter.widget-view+json": {
       "model_id": "",
       "version_major": 2,
       "version_minor": 0
      },
      "text/plain": [
       "Validation: 0it [00:00, ?it/s]"
      ]
     },
     "metadata": {},
     "output_type": "display_data"
    },
    {
     "name": "stdout",
     "output_type": "stream",
     "text": [
      "****Validation****\n",
      "Epoch 21: Validation loss 17.88691520690918\n",
      "****Training****\n",
      "Epoch 21: Train loss 17.77404022216797\n"
     ]
    },
    {
     "data": {
      "application/vnd.jupyter.widget-view+json": {
       "model_id": "",
       "version_major": 2,
       "version_minor": 0
      },
      "text/plain": [
       "Validation: 0it [00:00, ?it/s]"
      ]
     },
     "metadata": {},
     "output_type": "display_data"
    },
    {
     "name": "stdout",
     "output_type": "stream",
     "text": [
      "****Validation****\n",
      "Epoch 22: Validation loss 17.78411293029785\n",
      "****Training****\n",
      "Epoch 22: Train loss 17.697895050048828\n"
     ]
    },
    {
     "data": {
      "application/vnd.jupyter.widget-view+json": {
       "model_id": "",
       "version_major": 2,
       "version_minor": 0
      },
      "text/plain": [
       "Validation: 0it [00:00, ?it/s]"
      ]
     },
     "metadata": {},
     "output_type": "display_data"
    },
    {
     "name": "stdout",
     "output_type": "stream",
     "text": [
      "****Validation****\n",
      "Epoch 23: Validation loss 17.796903610229492\n",
      "****Training****\n",
      "Epoch 23: Train loss 17.61802864074707\n"
     ]
    },
    {
     "data": {
      "application/vnd.jupyter.widget-view+json": {
       "model_id": "",
       "version_major": 2,
       "version_minor": 0
      },
      "text/plain": [
       "Validation: 0it [00:00, ?it/s]"
      ]
     },
     "metadata": {},
     "output_type": "display_data"
    },
    {
     "name": "stdout",
     "output_type": "stream",
     "text": [
      "****Validation****\n",
      "Epoch 24: Validation loss 17.91213607788086\n",
      "****Training****\n",
      "Epoch 24: Train loss 17.61623764038086\n"
     ]
    },
    {
     "data": {
      "application/vnd.jupyter.widget-view+json": {
       "model_id": "",
       "version_major": 2,
       "version_minor": 0
      },
      "text/plain": [
       "Validation: 0it [00:00, ?it/s]"
      ]
     },
     "metadata": {},
     "output_type": "display_data"
    },
    {
     "name": "stdout",
     "output_type": "stream",
     "text": [
      "****Validation****\n",
      "Epoch 25: Validation loss 17.84397315979004\n",
      "****Training****\n",
      "Epoch 25: Train loss 17.48654556274414\n"
     ]
    },
    {
     "data": {
      "application/vnd.jupyter.widget-view+json": {
       "model_id": "",
       "version_major": 2,
       "version_minor": 0
      },
      "text/plain": [
       "Validation: 0it [00:00, ?it/s]"
      ]
     },
     "metadata": {},
     "output_type": "display_data"
    },
    {
     "name": "stdout",
     "output_type": "stream",
     "text": [
      "****Validation****\n",
      "Epoch 26: Validation loss 17.813697814941406\n",
      "****Training****\n",
      "Epoch 26: Train loss 17.424503326416016\n"
     ]
    },
    {
     "data": {
      "application/vnd.jupyter.widget-view+json": {
       "model_id": "",
       "version_major": 2,
       "version_minor": 0
      },
      "text/plain": [
       "Validation: 0it [00:00, ?it/s]"
      ]
     },
     "metadata": {},
     "output_type": "display_data"
    },
    {
     "name": "stdout",
     "output_type": "stream",
     "text": [
      "****Validation****\n",
      "Epoch 27: Validation loss 17.849390029907227\n",
      "****Training****\n",
      "Epoch 27: Train loss 17.36810302734375\n"
     ]
    },
    {
     "data": {
      "application/vnd.jupyter.widget-view+json": {
       "model_id": "",
       "version_major": 2,
       "version_minor": 0
      },
      "text/plain": [
       "Validation: 0it [00:00, ?it/s]"
      ]
     },
     "metadata": {},
     "output_type": "display_data"
    },
    {
     "name": "stdout",
     "output_type": "stream",
     "text": [
      "****Validation****\n",
      "Epoch 28: Validation loss 17.871273040771484\n",
      "****Training****\n",
      "Epoch 28: Train loss 17.30039405822754\n"
     ]
    },
    {
     "data": {
      "application/vnd.jupyter.widget-view+json": {
       "model_id": "",
       "version_major": 2,
       "version_minor": 0
      },
      "text/plain": [
       "Validation: 0it [00:00, ?it/s]"
      ]
     },
     "metadata": {},
     "output_type": "display_data"
    },
    {
     "name": "stdout",
     "output_type": "stream",
     "text": [
      "****Validation****\n",
      "Epoch 29: Validation loss 17.872072219848633\n",
      "****Training****\n",
      "Epoch 29: Train loss 17.24036979675293\n"
     ]
    },
    {
     "data": {
      "application/vnd.jupyter.widget-view+json": {
       "model_id": "",
       "version_major": 2,
       "version_minor": 0
      },
      "text/plain": [
       "Validation: 0it [00:00, ?it/s]"
      ]
     },
     "metadata": {},
     "output_type": "display_data"
    },
    {
     "name": "stdout",
     "output_type": "stream",
     "text": [
      "****Validation****\n",
      "Epoch 30: Validation loss 17.777881622314453\n",
      "****Training****\n",
      "Epoch 30: Train loss 17.1993350982666\n"
     ]
    },
    {
     "data": {
      "application/vnd.jupyter.widget-view+json": {
       "model_id": "",
       "version_major": 2,
       "version_minor": 0
      },
      "text/plain": [
       "Validation: 0it [00:00, ?it/s]"
      ]
     },
     "metadata": {},
     "output_type": "display_data"
    },
    {
     "name": "stdout",
     "output_type": "stream",
     "text": [
      "****Validation****\n",
      "Epoch 31: Validation loss 17.865116119384766\n",
      "****Training****\n",
      "Epoch 31: Train loss 17.13687515258789\n"
     ]
    },
    {
     "data": {
      "application/vnd.jupyter.widget-view+json": {
       "model_id": "",
       "version_major": 2,
       "version_minor": 0
      },
      "text/plain": [
       "Validation: 0it [00:00, ?it/s]"
      ]
     },
     "metadata": {},
     "output_type": "display_data"
    },
    {
     "name": "stdout",
     "output_type": "stream",
     "text": [
      "****Validation****\n",
      "Epoch 32: Validation loss 17.938152313232422\n",
      "****Training****\n",
      "Epoch 32: Train loss 17.083723068237305\n"
     ]
    },
    {
     "data": {
      "application/vnd.jupyter.widget-view+json": {
       "model_id": "",
       "version_major": 2,
       "version_minor": 0
      },
      "text/plain": [
       "Validation: 0it [00:00, ?it/s]"
      ]
     },
     "metadata": {},
     "output_type": "display_data"
    },
    {
     "name": "stdout",
     "output_type": "stream",
     "text": [
      "****Validation****\n",
      "Epoch 33: Validation loss 18.028173446655273\n",
      "****Training****\n",
      "Epoch 33: Train loss 17.03611946105957\n"
     ]
    },
    {
     "data": {
      "application/vnd.jupyter.widget-view+json": {
       "model_id": "",
       "version_major": 2,
       "version_minor": 0
      },
      "text/plain": [
       "Validation: 0it [00:00, ?it/s]"
      ]
     },
     "metadata": {},
     "output_type": "display_data"
    },
    {
     "name": "stdout",
     "output_type": "stream",
     "text": [
      "****Validation****\n",
      "Epoch 34: Validation loss 17.95435333251953\n",
      "****Training****\n",
      "Epoch 34: Train loss 16.98747444152832\n"
     ]
    },
    {
     "data": {
      "application/vnd.jupyter.widget-view+json": {
       "model_id": "",
       "version_major": 2,
       "version_minor": 0
      },
      "text/plain": [
       "Validation: 0it [00:00, ?it/s]"
      ]
     },
     "metadata": {},
     "output_type": "display_data"
    },
    {
     "name": "stdout",
     "output_type": "stream",
     "text": [
      "****Validation****\n",
      "Epoch 35: Validation loss 17.92841339111328\n",
      "****Training****\n",
      "Epoch 35: Train loss 16.946500778198242\n"
     ]
    },
    {
     "data": {
      "application/vnd.jupyter.widget-view+json": {
       "model_id": "",
       "version_major": 2,
       "version_minor": 0
      },
      "text/plain": [
       "Validation: 0it [00:00, ?it/s]"
      ]
     },
     "metadata": {},
     "output_type": "display_data"
    },
    {
     "name": "stdout",
     "output_type": "stream",
     "text": [
      "****Validation****\n",
      "Epoch 36: Validation loss 17.998241424560547\n",
      "****Training****\n",
      "Epoch 36: Train loss 16.91322135925293\n"
     ]
    },
    {
     "data": {
      "application/vnd.jupyter.widget-view+json": {
       "model_id": "",
       "version_major": 2,
       "version_minor": 0
      },
      "text/plain": [
       "Validation: 0it [00:00, ?it/s]"
      ]
     },
     "metadata": {},
     "output_type": "display_data"
    },
    {
     "name": "stdout",
     "output_type": "stream",
     "text": [
      "****Validation****\n",
      "Epoch 37: Validation loss 18.16213607788086\n",
      "****Training****\n",
      "Epoch 37: Train loss 16.863876342773438\n"
     ]
    },
    {
     "data": {
      "application/vnd.jupyter.widget-view+json": {
       "model_id": "",
       "version_major": 2,
       "version_minor": 0
      },
      "text/plain": [
       "Validation: 0it [00:00, ?it/s]"
      ]
     },
     "metadata": {},
     "output_type": "display_data"
    },
    {
     "name": "stdout",
     "output_type": "stream",
     "text": [
      "****Validation****\n",
      "Epoch 38: Validation loss 18.008342742919922\n",
      "****Training****\n",
      "Epoch 38: Train loss 16.843530654907227\n"
     ]
    },
    {
     "data": {
      "application/vnd.jupyter.widget-view+json": {
       "model_id": "",
       "version_major": 2,
       "version_minor": 0
      },
      "text/plain": [
       "Validation: 0it [00:00, ?it/s]"
      ]
     },
     "metadata": {},
     "output_type": "display_data"
    },
    {
     "name": "stdout",
     "output_type": "stream",
     "text": [
      "****Validation****\n",
      "Epoch 39: Validation loss 18.071849822998047\n",
      "****Training****\n",
      "Epoch 39: Train loss 16.815210342407227\n"
     ]
    },
    {
     "name": "stderr",
     "output_type": "stream",
     "text": [
      "`Trainer.fit` stopped: `max_epochs=40` reached.\n"
     ]
    }
   ],
   "source": [
    "pl.seed_everything(1234)\n",
    "my_vae = VAE().to('cuda')\n",
    "trainer = pl.Trainer(accelerator='gpu', devices=1, max_epochs=40, logger= [CSVLogger(save_dir=\"logs/\")],callbacks=[LearningRateMonitor(logging_interval=\"step\")])\n",
    "trainer.fit(my_vae,train_dataloader ,test_dataloader)"
   ]
  },
  {
   "cell_type": "code",
   "execution_count": 9,
   "metadata": {
    "executionInfo": {
     "elapsed": 1831,
     "status": "ok",
     "timestamp": 1695793990818,
     "user": {
      "displayName": "Sanjana Tule",
      "userId": "12298962096129134000"
     },
     "user_tz": -600
    },
    "id": "7uqujzZILe3G",
    "outputId": "610739cb-a563-4c13-9ad7-4f05ab666ca6"
   },
   "outputs": [
    {
     "data": {
      "text/html": [
       "<div>\n",
       "<style scoped>\n",
       "    .dataframe tbody tr th:only-of-type {\n",
       "        vertical-align: middle;\n",
       "    }\n",
       "\n",
       "    .dataframe tbody tr th {\n",
       "        vertical-align: top;\n",
       "    }\n",
       "\n",
       "    .dataframe thead th {\n",
       "        text-align: right;\n",
       "    }\n",
       "</style>\n",
       "<table border=\"1\" class=\"dataframe\">\n",
       "  <thead>\n",
       "    <tr style=\"text-align: right;\">\n",
       "      <th></th>\n",
       "      <th>lr-Adam</th>\n",
       "      <th>elbo</th>\n",
       "      <th>kl</th>\n",
       "      <th>recon_loss</th>\n",
       "      <th>multilabel loss</th>\n",
       "      <th>total loss</th>\n",
       "    </tr>\n",
       "    <tr>\n",
       "      <th>epoch</th>\n",
       "      <th></th>\n",
       "      <th></th>\n",
       "      <th></th>\n",
       "      <th></th>\n",
       "      <th></th>\n",
       "      <th></th>\n",
       "    </tr>\n",
       "  </thead>\n",
       "  <tbody>\n",
       "    <tr>\n",
       "      <th>NaN</th>\n",
       "      <td>0.000147</td>\n",
       "      <td>NaN</td>\n",
       "      <td>NaN</td>\n",
       "      <td>NaN</td>\n",
       "      <td>NaN</td>\n",
       "      <td>NaN</td>\n",
       "    </tr>\n",
       "    <tr>\n",
       "      <th>0.0</th>\n",
       "      <td>NaN</td>\n",
       "      <td>3.233631</td>\n",
       "      <td>8.240620</td>\n",
       "      <td>3225.390625</td>\n",
       "      <td>4.642550</td>\n",
       "      <td>36.978863</td>\n",
       "    </tr>\n",
       "    <tr>\n",
       "      <th>NaN</th>\n",
       "      <td>0.000194</td>\n",
       "      <td>NaN</td>\n",
       "      <td>NaN</td>\n",
       "      <td>NaN</td>\n",
       "      <td>NaN</td>\n",
       "      <td>NaN</td>\n",
       "    </tr>\n",
       "    <tr>\n",
       "      <th>0.0</th>\n",
       "      <td>NaN</td>\n",
       "      <td>3.191255</td>\n",
       "      <td>6.867528</td>\n",
       "      <td>3184.386719</td>\n",
       "      <td>4.396974</td>\n",
       "      <td>36.309517</td>\n",
       "    </tr>\n",
       "    <tr>\n",
       "      <th>NaN</th>\n",
       "      <td>0.000242</td>\n",
       "      <td>NaN</td>\n",
       "      <td>NaN</td>\n",
       "      <td>NaN</td>\n",
       "      <td>NaN</td>\n",
       "      <td>NaN</td>\n",
       "    </tr>\n",
       "    <tr>\n",
       "      <th>...</th>\n",
       "      <td>...</td>\n",
       "      <td>...</td>\n",
       "      <td>...</td>\n",
       "      <td>...</td>\n",
       "      <td>...</td>\n",
       "      <td>...</td>\n",
       "    </tr>\n",
       "    <tr>\n",
       "      <th>4.0</th>\n",
       "      <td>NaN</td>\n",
       "      <td>1.718775</td>\n",
       "      <td>26.082977</td>\n",
       "      <td>1692.692139</td>\n",
       "      <td>1.519582</td>\n",
       "      <td>18.707331</td>\n",
       "    </tr>\n",
       "    <tr>\n",
       "      <th>NaN</th>\n",
       "      <td>0.009553</td>\n",
       "      <td>NaN</td>\n",
       "      <td>NaN</td>\n",
       "      <td>NaN</td>\n",
       "      <td>NaN</td>\n",
       "      <td>NaN</td>\n",
       "    </tr>\n",
       "    <tr>\n",
       "      <th>4.0</th>\n",
       "      <td>NaN</td>\n",
       "      <td>1.806579</td>\n",
       "      <td>30.710732</td>\n",
       "      <td>1775.867920</td>\n",
       "      <td>1.824747</td>\n",
       "      <td>19.890533</td>\n",
       "    </tr>\n",
       "    <tr>\n",
       "      <th>NaN</th>\n",
       "      <td>0.009601</td>\n",
       "      <td>NaN</td>\n",
       "      <td>NaN</td>\n",
       "      <td>NaN</td>\n",
       "      <td>NaN</td>\n",
       "      <td>NaN</td>\n",
       "    </tr>\n",
       "    <tr>\n",
       "      <th>4.0</th>\n",
       "      <td>NaN</td>\n",
       "      <td>1.618183</td>\n",
       "      <td>32.740124</td>\n",
       "      <td>1585.442749</td>\n",
       "      <td>1.825356</td>\n",
       "      <td>18.007185</td>\n",
       "    </tr>\n",
       "  </tbody>\n",
       "</table>\n",
       "<p>400 rows × 6 columns</p>\n",
       "</div>"
      ],
      "text/plain": [
       "        lr-Adam      elbo         kl   recon_loss  multilabel loss  total loss\n",
       "epoch                                                                         \n",
       "NaN    0.000147       NaN        NaN          NaN              NaN         NaN\n",
       "0.0         NaN  3.233631   8.240620  3225.390625         4.642550   36.978863\n",
       "NaN    0.000194       NaN        NaN          NaN              NaN         NaN\n",
       "0.0         NaN  3.191255   6.867528  3184.386719         4.396974   36.309517\n",
       "NaN    0.000242       NaN        NaN          NaN              NaN         NaN\n",
       "...         ...       ...        ...          ...              ...         ...\n",
       "4.0         NaN  1.718775  26.082977  1692.692139         1.519582   18.707331\n",
       "NaN    0.009553       NaN        NaN          NaN              NaN         NaN\n",
       "4.0         NaN  1.806579  30.710732  1775.867920         1.824747   19.890533\n",
       "NaN    0.009601       NaN        NaN          NaN              NaN         NaN\n",
       "4.0         NaN  1.618183  32.740124  1585.442749         1.825356   18.007185\n",
       "\n",
       "[400 rows x 6 columns]"
      ]
     },
     "metadata": {},
     "output_type": "display_data"
    },
    {
     "name": "stderr",
     "output_type": "stream",
     "text": [
      "/opt/conda/lib/python3.10/site-packages/seaborn/_oldcore.py:1498: FutureWarning: is_categorical_dtype is deprecated and will be removed in a future version. Use isinstance(dtype, CategoricalDtype) instead\n",
      "  if pd.api.types.is_categorical_dtype(vector):\n",
      "/opt/conda/lib/python3.10/site-packages/seaborn/_oldcore.py:1498: FutureWarning: is_categorical_dtype is deprecated and will be removed in a future version. Use isinstance(dtype, CategoricalDtype) instead\n",
      "  if pd.api.types.is_categorical_dtype(vector):\n",
      "/opt/conda/lib/python3.10/site-packages/seaborn/_oldcore.py:1498: FutureWarning: is_categorical_dtype is deprecated and will be removed in a future version. Use isinstance(dtype, CategoricalDtype) instead\n",
      "  if pd.api.types.is_categorical_dtype(vector):\n",
      "/opt/conda/lib/python3.10/site-packages/seaborn/_oldcore.py:1498: FutureWarning: is_categorical_dtype is deprecated and will be removed in a future version. Use isinstance(dtype, CategoricalDtype) instead\n",
      "  if pd.api.types.is_categorical_dtype(vector):\n",
      "/opt/conda/lib/python3.10/site-packages/seaborn/_oldcore.py:1498: FutureWarning: is_categorical_dtype is deprecated and will be removed in a future version. Use isinstance(dtype, CategoricalDtype) instead\n",
      "  if pd.api.types.is_categorical_dtype(vector):\n",
      "/opt/conda/lib/python3.10/site-packages/seaborn/_oldcore.py:1498: FutureWarning: is_categorical_dtype is deprecated and will be removed in a future version. Use isinstance(dtype, CategoricalDtype) instead\n",
      "  if pd.api.types.is_categorical_dtype(vector):\n",
      "/opt/conda/lib/python3.10/site-packages/seaborn/_oldcore.py:1498: FutureWarning: is_categorical_dtype is deprecated and will be removed in a future version. Use isinstance(dtype, CategoricalDtype) instead\n",
      "  if pd.api.types.is_categorical_dtype(vector):\n",
      "/opt/conda/lib/python3.10/site-packages/seaborn/_oldcore.py:1498: FutureWarning: is_categorical_dtype is deprecated and will be removed in a future version. Use isinstance(dtype, CategoricalDtype) instead\n",
      "  if pd.api.types.is_categorical_dtype(vector):\n",
      "/opt/conda/lib/python3.10/site-packages/seaborn/_oldcore.py:1498: FutureWarning: is_categorical_dtype is deprecated and will be removed in a future version. Use isinstance(dtype, CategoricalDtype) instead\n",
      "  if pd.api.types.is_categorical_dtype(vector):\n",
      "/opt/conda/lib/python3.10/site-packages/seaborn/_oldcore.py:1498: FutureWarning: is_categorical_dtype is deprecated and will be removed in a future version. Use isinstance(dtype, CategoricalDtype) instead\n",
      "  if pd.api.types.is_categorical_dtype(vector):\n",
      "/opt/conda/lib/python3.10/site-packages/seaborn/_oldcore.py:1498: FutureWarning: is_categorical_dtype is deprecated and will be removed in a future version. Use isinstance(dtype, CategoricalDtype) instead\n",
      "  if pd.api.types.is_categorical_dtype(vector):\n",
      "/opt/conda/lib/python3.10/site-packages/seaborn/_oldcore.py:1498: FutureWarning: is_categorical_dtype is deprecated and will be removed in a future version. Use isinstance(dtype, CategoricalDtype) instead\n",
      "  if pd.api.types.is_categorical_dtype(vector):\n",
      "/opt/conda/lib/python3.10/site-packages/seaborn/_oldcore.py:1498: FutureWarning: is_categorical_dtype is deprecated and will be removed in a future version. Use isinstance(dtype, CategoricalDtype) instead\n",
      "  if pd.api.types.is_categorical_dtype(vector):\n",
      "/opt/conda/lib/python3.10/site-packages/seaborn/_oldcore.py:1498: FutureWarning: is_categorical_dtype is deprecated and will be removed in a future version. Use isinstance(dtype, CategoricalDtype) instead\n",
      "  if pd.api.types.is_categorical_dtype(vector):\n",
      "/opt/conda/lib/python3.10/site-packages/seaborn/_oldcore.py:1498: FutureWarning: is_categorical_dtype is deprecated and will be removed in a future version. Use isinstance(dtype, CategoricalDtype) instead\n",
      "  if pd.api.types.is_categorical_dtype(vector):\n",
      "/opt/conda/lib/python3.10/site-packages/seaborn/_oldcore.py:1498: FutureWarning: is_categorical_dtype is deprecated and will be removed in a future version. Use isinstance(dtype, CategoricalDtype) instead\n",
      "  if pd.api.types.is_categorical_dtype(vector):\n",
      "/opt/conda/lib/python3.10/site-packages/seaborn/_oldcore.py:1498: FutureWarning: is_categorical_dtype is deprecated and will be removed in a future version. Use isinstance(dtype, CategoricalDtype) instead\n",
      "  if pd.api.types.is_categorical_dtype(vector):\n",
      "/opt/conda/lib/python3.10/site-packages/seaborn/_oldcore.py:1498: FutureWarning: is_categorical_dtype is deprecated and will be removed in a future version. Use isinstance(dtype, CategoricalDtype) instead\n",
      "  if pd.api.types.is_categorical_dtype(vector):\n",
      "/opt/conda/lib/python3.10/site-packages/seaborn/_oldcore.py:1498: FutureWarning: is_categorical_dtype is deprecated and will be removed in a future version. Use isinstance(dtype, CategoricalDtype) instead\n",
      "  if pd.api.types.is_categorical_dtype(vector):\n",
      "/opt/conda/lib/python3.10/site-packages/seaborn/_oldcore.py:1498: FutureWarning: is_categorical_dtype is deprecated and will be removed in a future version. Use isinstance(dtype, CategoricalDtype) instead\n",
      "  if pd.api.types.is_categorical_dtype(vector):\n",
      "/opt/conda/lib/python3.10/site-packages/seaborn/_oldcore.py:1498: FutureWarning: is_categorical_dtype is deprecated and will be removed in a future version. Use isinstance(dtype, CategoricalDtype) instead\n",
      "  if pd.api.types.is_categorical_dtype(vector):\n",
      "/opt/conda/lib/python3.10/site-packages/seaborn/_oldcore.py:1498: FutureWarning: is_categorical_dtype is deprecated and will be removed in a future version. Use isinstance(dtype, CategoricalDtype) instead\n",
      "  if pd.api.types.is_categorical_dtype(vector):\n",
      "/opt/conda/lib/python3.10/site-packages/seaborn/_oldcore.py:1498: FutureWarning: is_categorical_dtype is deprecated and will be removed in a future version. Use isinstance(dtype, CategoricalDtype) instead\n",
      "  if pd.api.types.is_categorical_dtype(vector):\n",
      "/opt/conda/lib/python3.10/site-packages/seaborn/_oldcore.py:1498: FutureWarning: is_categorical_dtype is deprecated and will be removed in a future version. Use isinstance(dtype, CategoricalDtype) instead\n",
      "  if pd.api.types.is_categorical_dtype(vector):\n",
      "/opt/conda/lib/python3.10/site-packages/seaborn/_oldcore.py:1498: FutureWarning: is_categorical_dtype is deprecated and will be removed in a future version. Use isinstance(dtype, CategoricalDtype) instead\n",
      "  if pd.api.types.is_categorical_dtype(vector):\n",
      "/opt/conda/lib/python3.10/site-packages/seaborn/_oldcore.py:1498: FutureWarning: is_categorical_dtype is deprecated and will be removed in a future version. Use isinstance(dtype, CategoricalDtype) instead\n",
      "  if pd.api.types.is_categorical_dtype(vector):\n",
      "/opt/conda/lib/python3.10/site-packages/seaborn/_oldcore.py:1498: FutureWarning: is_categorical_dtype is deprecated and will be removed in a future version. Use isinstance(dtype, CategoricalDtype) instead\n",
      "  if pd.api.types.is_categorical_dtype(vector):\n",
      "/opt/conda/lib/python3.10/site-packages/seaborn/_oldcore.py:1498: FutureWarning: is_categorical_dtype is deprecated and will be removed in a future version. Use isinstance(dtype, CategoricalDtype) instead\n",
      "  if pd.api.types.is_categorical_dtype(vector):\n",
      "/opt/conda/lib/python3.10/site-packages/seaborn/_oldcore.py:1498: FutureWarning: is_categorical_dtype is deprecated and will be removed in a future version. Use isinstance(dtype, CategoricalDtype) instead\n",
      "  if pd.api.types.is_categorical_dtype(vector):\n",
      "/opt/conda/lib/python3.10/site-packages/seaborn/_oldcore.py:1498: FutureWarning: is_categorical_dtype is deprecated and will be removed in a future version. Use isinstance(dtype, CategoricalDtype) instead\n",
      "  if pd.api.types.is_categorical_dtype(vector):\n",
      "/opt/conda/lib/python3.10/site-packages/seaborn/_oldcore.py:1498: FutureWarning: is_categorical_dtype is deprecated and will be removed in a future version. Use isinstance(dtype, CategoricalDtype) instead\n",
      "  if pd.api.types.is_categorical_dtype(vector):\n",
      "/opt/conda/lib/python3.10/site-packages/seaborn/_oldcore.py:1498: FutureWarning: is_categorical_dtype is deprecated and will be removed in a future version. Use isinstance(dtype, CategoricalDtype) instead\n",
      "  if pd.api.types.is_categorical_dtype(vector):\n",
      "/opt/conda/lib/python3.10/site-packages/seaborn/_oldcore.py:1498: FutureWarning: is_categorical_dtype is deprecated and will be removed in a future version. Use isinstance(dtype, CategoricalDtype) instead\n",
      "  if pd.api.types.is_categorical_dtype(vector):\n",
      "/opt/conda/lib/python3.10/site-packages/seaborn/_oldcore.py:1498: FutureWarning: is_categorical_dtype is deprecated and will be removed in a future version. Use isinstance(dtype, CategoricalDtype) instead\n",
      "  if pd.api.types.is_categorical_dtype(vector):\n",
      "/opt/conda/lib/python3.10/site-packages/seaborn/_oldcore.py:1119: FutureWarning: use_inf_as_na option is deprecated and will be removed in a future version. Convert inf values to NaN before operating instead.\n",
      "  with pd.option_context('mode.use_inf_as_na', True):\n",
      "/opt/conda/lib/python3.10/site-packages/seaborn/_oldcore.py:1119: FutureWarning: use_inf_as_na option is deprecated and will be removed in a future version. Convert inf values to NaN before operating instead.\n",
      "  with pd.option_context('mode.use_inf_as_na', True):\n"
     ]
    },
    {
     "data": {
      "text/plain": [
       "<seaborn.axisgrid.FacetGrid at 0x7f1bf050f7f0>"
      ]
     },
     "execution_count": 9,
     "metadata": {},
     "output_type": "execute_result"
    },
    {
     "data": {
      "image/png": "[encoded data removed]",
      "text/plain": [
       "<Figure size 650.25x500 with 1 Axes>"
      ]
     },
     "metadata": {},
     "output_type": "display_data"
    }
   ],
   "source": [
    "# training log plots\n",
    "metrics = pd.read_csv(f\"{trainer.logger.log_dir}/metrics.csv\")\n",
    "del metrics[\"step\"]\n",
    "metrics.set_index(\"epoch\", inplace=True)\n",
    "display(metrics.dropna(axis=1, how=\"all\").head(400))\n",
    "sn.relplot(data=metrics, kind=\"line\")"
   ]
  },
  {
   "cell_type": "markdown",
   "metadata": {
    "id": "UkDeeS23hnVO"
   },
   "source": [
    "# 4 - Plot Images"
   ]
  },
  {
   "cell_type": "code",
   "execution_count": 10,
   "metadata": {
    "executionInfo": {
     "elapsed": 3,
     "status": "ok",
     "timestamp": 1695794302036,
     "user": {
      "displayName": "Sanjana Tule",
      "userId": "12298962096129134000"
     },
     "user_tz": -600
    },
    "id": "hcUAWtU0YmJx"
   },
   "outputs": [],
   "source": [
    "# plot images\n",
    "def generate_image(x, y, wrong_y, model,num_predictions=25):\n",
    "    figure(figsize=(8, 3), dpi=300)\n",
    "    t2img = T.ToPILImage()\n",
    "    cifar10_labels = ['plane', 'car', 'bird', 'cat','deer', 'dog', 'frog', 'horse', 'ship', 'truck']\n",
    "\n",
    "    with torch.no_grad():\n",
    "\n",
    "        mu,log_var = model.encoder(x.to('cuda'),wrong_y.to('cuda'))\n",
    "\n",
    "        std = torch.exp(log_var/2)\n",
    "        q = torch.distributions.Normal(mu,std)\n",
    "        z = q.rsample()\n",
    "\n",
    "        x_hat = model.decoder(z,wrong_y.to('cuda'))\n",
    "        fig = plt.figure(figsize=(15,15))\n",
    "\n",
    "        for idx in np.arange(num_predictions):\n",
    "\n",
    "          ax = fig.add_subplot(5,5,idx + 1,xticks=[],yticks=[])\n",
    "          img = x_hat[idx].to('cpu')\n",
    "          plt.imshow(img.permute(1,2,0))\n",
    "          ax.set_title(f\"Label/Image: {cifar10_labels[wrong_y[idx]]} / {cifar10_labels[y[idx]]}\")\n",
    "\n",
    "        fig.tight_layout(pad=5.0)\n",
    "        plt.show()\n",
    "\n",
    "        #img = make_grid(x_hat, nrow=8)\n",
    "        #plt.imshow(t2img(make_grid(x_hat, nrow=8)), interpolation='nearest')"
   ]
  },
  {
   "cell_type": "code",
   "execution_count": 13,
   "metadata": {
    "executionInfo": {
     "elapsed": 4413,
     "status": "ok",
     "timestamp": 1695794315546,
     "user": {
      "displayName": "Sanjana Tule",
      "userId": "12298962096129134000"
     },
     "user_tz": -600
    },
    "id": "UIHldwoUseJs",
    "outputId": "b7adb961-7510-425d-8fe8-00a501d02a02"
   },
   "outputs": [
    {
     "data": {
      "text/plain": [
       "<Figure size 2400x900 with 0 Axes>"
      ]
     },
     "metadata": {},
     "output_type": "display_data"
    },
    {
     "data": {
      "image/png": "[encoded data removed]",
      "text/plain": [
       "<Figure size 1500x1500 with 25 Axes>"
      ]
     },
     "metadata": {},
     "output_type": "display_data"
    }
   ],
   "source": [
    "val_batch = next(iter(test_dataloader))\n",
    "x, y, y_changed  = val_batch['image'],val_batch['correct_label'],val_batch['changed_label']\n",
    "wrong_y = torch.flip(y_changed,[0])\n",
    "generate_image(x,y,wrong_y,my_vae.to('cuda'))"
   ]
  },
  {
   "cell_type": "code",
   "execution_count": null,
   "metadata": {},
   "outputs": [],
   "source": []
  }
 ],
 "metadata": {
  "kernelspec": {
   "display_name": "Python 3 (ipykernel)",
   "language": "python",
   "name": "python3"
  },
  "language_info": {
   "codemirror_mode": {
    "name": "ipython",
    "version": 3
   },
   "file_extension": ".py",
   "mimetype": "text/x-python",
   "name": "python",
   "nbconvert_exporter": "python",
   "pygments_lexer": "ipython3",
   "version": "3.10.11"
  }
 },
 "nbformat": 4,
 "nbformat_minor": 4
}
