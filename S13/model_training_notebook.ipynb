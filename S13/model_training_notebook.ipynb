{
 "cells": [
  {
   "cell_type": "markdown",
   "metadata": {},
   "source": [
    "### 1 - Download data and packages"
   ]
  },
  {
   "cell_type": "code",
   "execution_count": 1,
   "metadata": {},
   "outputs": [],
   "source": [
    "#! pip install gdown"
   ]
  },
  {
   "cell_type": "code",
   "execution_count": 2,
   "metadata": {},
   "outputs": [],
   "source": [
    "#!gdown 1-FOGgp3S7NlQeyjuXY7zsvAazTYzCobw"
   ]
  },
  {
   "cell_type": "code",
   "execution_count": 3,
   "metadata": {},
   "outputs": [],
   "source": [
    "#! sudo apt-get install unzip\n",
    "#! unzip pascal-voc-dataset-used-in-yolov3-video.zip"
   ]
  },
  {
   "cell_type": "code",
   "execution_count": 4,
   "metadata": {},
   "outputs": [
    {
     "name": "stdout",
     "output_type": "stream",
     "text": [
      "Requirement already satisfied: seaborn in /opt/conda/lib/python3.10/site-packages (0.12.2)\n",
      "Requirement already satisfied: pandas>=0.25 in /opt/conda/lib/python3.10/site-packages (from seaborn) (2.0.3)\n",
      "Requirement already satisfied: numpy!=1.24.0,>=1.17 in /opt/conda/lib/python3.10/site-packages (from seaborn) (1.24.3)\n",
      "Requirement already satisfied: matplotlib!=3.6.1,>=3.1 in /opt/conda/lib/python3.10/site-packages (from seaborn) (3.7.2)\n",
      "Requirement already satisfied: kiwisolver>=1.0.1 in /opt/conda/lib/python3.10/site-packages (from matplotlib!=3.6.1,>=3.1->seaborn) (1.4.4)\n",
      "Requirement already satisfied: pillow>=6.2.0 in /opt/conda/lib/python3.10/site-packages (from matplotlib!=3.6.1,>=3.1->seaborn) (9.4.0)\n",
      "Requirement already satisfied: cycler>=0.10 in /opt/conda/lib/python3.10/site-packages (from matplotlib!=3.6.1,>=3.1->seaborn) (0.11.0)\n",
      "Requirement already satisfied: contourpy>=1.0.1 in /opt/conda/lib/python3.10/site-packages (from matplotlib!=3.6.1,>=3.1->seaborn) (1.1.0)\n",
      "Requirement already satisfied: pyparsing<3.1,>=2.3.1 in /opt/conda/lib/python3.10/site-packages (from matplotlib!=3.6.1,>=3.1->seaborn) (3.0.9)\n",
      "Requirement already satisfied: fonttools>=4.22.0 in /opt/conda/lib/python3.10/site-packages (from matplotlib!=3.6.1,>=3.1->seaborn) (4.42.0)\n",
      "Requirement already satisfied: python-dateutil>=2.7 in /opt/conda/lib/python3.10/site-packages (from matplotlib!=3.6.1,>=3.1->seaborn) (2.8.2)\n",
      "Requirement already satisfied: packaging>=20.0 in /opt/conda/lib/python3.10/site-packages (from matplotlib!=3.6.1,>=3.1->seaborn) (23.0)\n",
      "Requirement already satisfied: pytz>=2020.1 in /opt/conda/lib/python3.10/site-packages (from pandas>=0.25->seaborn) (2022.7)\n",
      "Requirement already satisfied: tzdata>=2022.1 in /opt/conda/lib/python3.10/site-packages (from pandas>=0.25->seaborn) (2023.3)\n",
      "Requirement already satisfied: six>=1.5 in /opt/conda/lib/python3.10/site-packages (from python-dateutil>=2.7->matplotlib!=3.6.1,>=3.1->seaborn) (1.16.0)\n",
      "\u001b[33mWARNING: Running pip as the 'root' user can result in broken permissions and conflicting behaviour with the system package manager. It is recommended to use a virtual environment instead: https://pip.pypa.io/warnings/venv\u001b[0m\u001b[33m\n",
      "\u001b[0m"
     ]
    }
   ],
   "source": [
    "! pip install seaborn"
   ]
  },
  {
   "cell_type": "code",
   "execution_count": 5,
   "metadata": {
    "colab": {
     "base_uri": "https://localhost:8080/"
    },
    "executionInfo": {
     "elapsed": 24871,
     "status": "ok",
     "timestamp": 1692228063764,
     "user": {
      "displayName": "Sanjana Tule",
      "userId": "12298962096129134000"
     },
     "user_tz": -600
    },
    "id": "SqG5pfeO-T99",
    "outputId": "7b5ebbca-a9b1-410f-940d-71f3169e3bff"
   },
   "outputs": [
    {
     "name": "stdout",
     "output_type": "stream",
     "text": [
      "\u001b[33mWARNING: Running pip as the 'root' user can result in broken permissions and conflicting behaviour with the system package manager. It is recommended to use a virtual environment instead: https://pip.pypa.io/warnings/venv\u001b[0m\u001b[33m\n",
      "\u001b[0m\u001b[33mWARNING: Running pip as the 'root' user can result in broken permissions and conflicting behaviour with the system package manager. It is recommended to use a virtual environment instead: https://pip.pypa.io/warnings/venv\u001b[0m\u001b[33m\n",
      "\u001b[0m\u001b[33mWARNING: Running pip as the 'root' user can result in broken permissions and conflicting behaviour with the system package manager. It is recommended to use a virtual environment instead: https://pip.pypa.io/warnings/venv\u001b[0m\u001b[33m\n",
      "\u001b[0m\u001b[33mWARNING: Running pip as the 'root' user can result in broken permissions and conflicting behaviour with the system package manager. It is recommended to use a virtual environment instead: https://pip.pypa.io/warnings/venv\u001b[0m\u001b[33m\n",
      "\u001b[0m\u001b[33mWARNING: Running pip as the 'root' user can result in broken permissions and conflicting behaviour with the system package manager. It is recommended to use a virtual environment instead: https://pip.pypa.io/warnings/venv\u001b[0m\u001b[33m\n",
      "\u001b[0m"
     ]
    }
   ],
   "source": [
    "# pytorch lightnining\n",
    "! pip install pytorch-lightning --quiet\n",
    "! pip install lightning-bolts --quiet\n",
    "! pip install torch_lr_finder --quiet\n",
    "! pip install albumentations --quiet\n",
    "! pip install pandas --quiet\n",
    "\n",
    "from pytorch_lightning import LightningModule, Trainer, seed_everything\n",
    "from pytorch_lightning.callbacks import LearningRateMonitor, ModelCheckpoint\n",
    "from pytorch_lightning.callbacks.progress import TQDMProgressBar\n",
    "from pytorch_lightning.loggers import CSVLogger,TensorBoardLogger"
   ]
  },
  {
   "cell_type": "code",
   "execution_count": 6,
   "metadata": {
    "executionInfo": {
     "elapsed": 5526,
     "status": "ok",
     "timestamp": 1692228089410,
     "user": {
      "displayName": "Sanjana Tule",
      "userId": "12298962096129134000"
     },
     "user_tz": -600
    },
    "id": "K9ycWaHy-DMD"
   },
   "outputs": [],
   "source": [
    "import config\n",
    "import torch\n",
    "import torch.optim as optim\n",
    "import pandas as pd\n",
    "import seaborn as sn\n",
    "\n",
    "from model import YOLOv3\n",
    "from tqdm import tqdm\n",
    "from utils import (\n",
    "    mean_average_precision,\n",
    "    cells_to_bboxes,\n",
    "    get_evaluation_bboxes,\n",
    "    save_checkpoint,\n",
    "    load_checkpoint,\n",
    "    check_class_accuracy,\n",
    "    get_loaders,\n",
    "    plot_couple_examples,\n",
    ")\n",
    "from loss import YoloLoss\n",
    "import warnings\n",
    "warnings.filterwarnings(\"ignore\")\n",
    "from torch.optim.lr_scheduler import OneCycleLR\n",
    "import random\n",
    "import dataset\n",
    "from torch_lr_finder import LRFinder"
   ]
  },
  {
   "cell_type": "markdown",
   "metadata": {},
   "source": [
    "### 2 - LR Finder"
   ]
  },
  {
   "cell_type": "code",
   "execution_count": 7,
   "metadata": {
    "executionInfo": {
     "elapsed": 6,
     "status": "ok",
     "timestamp": 1692228089410,
     "user": {
      "displayName": "Sanjana Tule",
      "userId": "12298962096129134000"
     },
     "user_tz": -600
    },
    "id": "zla0A-ckTpzV"
   },
   "outputs": [],
   "source": [
    "# LR Finder\n",
    "\n",
    "# model = YOLOv3(num_classes=config.NUM_CLASSES).to(config.DEVICE)\n",
    "# optimizer = optim.Adam(\n",
    "#     model.parameters(), lr=config.LEARNING_RATE, weight_decay=config.WEIGHT_DECAY\n",
    "# )\n",
    "# loss_fn = YoloLoss()\n",
    "# scaler = torch.cuda.amp.GradScaler()\n",
    "\n",
    "# ttrain_dataset,test_dataset,train_eval_dataset, train_loader, test_loader, train_eval_loader  = get_loaders(\n",
    "#     train_csv_path= \"./PASCAL_VOC/train.csv\", test_csv_path=\"./PASCAL_VOC/test.csv\"\n",
    "# )\n",
    "\n",
    "# scaled_anchors = (\n",
    "#       torch.tensor(config.ANCHORS)\n",
    "#     * torch.tensor(config.S).unsqueeze(1).unsqueeze(1).repeat(1, 3, 2)\n",
    "# ).to(config.DEVICE)\n",
    "\n",
    "# def criterion(out, y):\n",
    "#     y0, y1, y2 = (\n",
    "#             y[0].to(config.DEVICE),\n",
    "#             y[1].to(config.DEVICE),\n",
    "#             y[2].to(config.DEVICE),\n",
    "#         )\n",
    "#     loss = (\n",
    "#                 loss_fn(out[0], y0, scaled_anchors[0])\n",
    "#                 + loss_fn(out[1], y1, scaled_anchors[1])\n",
    "#                 + loss_fn(out[2], y2, scaled_anchors[2])\n",
    "#             )\n",
    "#     return loss\n",
    "# lr_finder = LRFinder(model, optimizer, criterion, device=\"cuda\")\n",
    "# lr_finder.range_test(train_loader, end_lr=10, num_iter=200, step_mode=\"exp\")\n",
    "# lr_finder.plot()  # to inspect the loss-learning rate graph\n",
    "# lr_finder.reset() # to reset the model and optimizer to their initial state"
   ]
  },
  {
   "cell_type": "markdown",
   "metadata": {},
   "source": [
    "### 2 - Lightning model Yolo3"
   ]
  },
  {
   "cell_type": "code",
   "execution_count": 8,
   "metadata": {
    "executionInfo": {
     "elapsed": 4,
     "status": "ok",
     "timestamp": 1692228089410,
     "user": {
      "displayName": "Sanjana Tule",
      "userId": "12298962096129134000"
     },
     "user_tz": -600
    },
    "id": "8u_z233ZNTCZ"
   },
   "outputs": [],
   "source": [
    "# custom functions for yolo\n",
    "\n",
    "# loss function for yolov3\n",
    "loss_fn = YoloLoss()\n",
    "def criterion(out, y,anchors):\n",
    "  loss = (  loss_fn(out[0], y[0], anchors[0])\n",
    "            + loss_fn(out[1], y[1], anchors[1])\n",
    "            + loss_fn(out[2], y[2], anchors[2])\n",
    "            )\n",
    "  return loss\n",
    "\n",
    "# accuracy function for yolov3\n",
    "def accuracy_fn(y, out, threshold,\n",
    "                correct_class, correct_obj,\n",
    "                correct_noobj, tot_class_preds,\n",
    "                tot_obj, tot_noobj):\n",
    "\n",
    "  for i in range(3):\n",
    "\n",
    "      obj = y[i][..., 0] == 1 # in paper this is Iobj_i\n",
    "      noobj = y[i][..., 0] == 0  # in paper this is Iobj_i\n",
    "\n",
    "      correct_class += torch.sum(\n",
    "          torch.argmax(out[i][..., 5:][obj], dim=-1) == y[i][..., 5][obj]\n",
    "      )\n",
    "      tot_class_preds += torch.sum(obj)\n",
    "\n",
    "      obj_preds = torch.sigmoid(out[i][..., 0]) > threshold\n",
    "      correct_obj += torch.sum(obj_preds[obj] == y[i][..., 0][obj])\n",
    "      tot_obj += torch.sum(obj)\n",
    "      correct_noobj += torch.sum(obj_preds[noobj] == y[i][..., 0][noobj])\n",
    "      tot_noobj += torch.sum(noobj)\n",
    "\n",
    "  return((correct_class/(tot_class_preds+1e-16))*100,\n",
    "         (correct_noobj/(tot_noobj+1e-16))*100,\n",
    "         (correct_obj/(tot_obj+1e-16))*100)"
   ]
  },
  {
   "cell_type": "code",
   "execution_count": 9,
   "metadata": {
    "executionInfo": {
     "elapsed": 5,
     "status": "ok",
     "timestamp": 1692228089411,
     "user": {
      "displayName": "Sanjana Tule",
      "userId": "12298962096129134000"
     },
     "user_tz": -600
    },
    "id": "VPKC13wz-Dlb"
   },
   "outputs": [],
   "source": [
    "# pytorch lightning\n",
    "class LitYolo(LightningModule):\n",
    "    def __init__(self, num_classes=config.NUM_CLASSES, lr=config.LEARNING_RATE,weight_decay=config.WEIGHT_DECAY,threshold=config.CONF_THRESHOLD,my_dataset=None):\n",
    "        super().__init__()\n",
    "\n",
    "        self.save_hyperparameters()\n",
    "        self.model = YOLOv3(num_classes=self.hparams.num_classes)\n",
    "        self.my_dataset = my_dataset\n",
    "        self.criterion = criterion\n",
    "        self.accuracy_fn = accuracy_fn\n",
    "        #self.scaled_anchors = (torch.tensor(config.ANCHORS) * torch.tensor(config.S).unsqueeze(1).unsqueeze(1).repeat(1, 3, 2))\n",
    "        self.tot_class_preds, self.correct_class = 0, 0\n",
    "        self.tot_noobj, self.correct_noobj = 0, 0\n",
    "        self.tot_obj, self.correct_obj = 0, 0\n",
    "        self.scaled_anchors = 0\n",
    "\n",
    "    def set_scaled_anchor(self, scaled_anchors):\n",
    "      self.scaled_anchors = scaled_anchors\n",
    "\n",
    "    def forward(self, x):\n",
    "      out = self.model(x)\n",
    "      return out\n",
    "\n",
    "    def on_train_epoch_start(self):\n",
    "      # Set a new image size for the dataset at the beginning of each epoch\n",
    "      size_idx = random.choice(range(len(config.IMAGE_SIZES)))\n",
    "      self.my_dataset.set_image_size(size_idx=0)\n",
    "      self.set_scaled_anchor((\n",
    "          torch.tensor(config.ANCHORS)\n",
    "          * torch.tensor(config.S[size_idx]).unsqueeze(1).unsqueeze(1).repeat(1, 3, 2)\n",
    "      ))\n",
    "\n",
    "    def training_epoch_end(self,outputs):\n",
    "        \n",
    "        loss = torch.stack([x['loss'] for x in outputs]).mean()\n",
    "        class_acc = torch.stack([x['class_accuracy'] for x in outputs]).mean()\n",
    "        no_object_acc = torch.stack([x['no_object_accuracy'] for x in outputs]).mean()\n",
    "        object_acc = torch.stack([x['object_accuracy'] for x in outputs]).mean()\n",
    "        \n",
    "        print(\"****Training****\")\n",
    "        print(f'Train loss {loss}')\n",
    "        print(f'class_accuracy: {class_acc}, no_object_accuracy: {no_object_acc} , object_accuracy:{object_acc}')\n",
    "        \n",
    "\n",
    "    def on_validation_epoch_start(self):\n",
    "      self.set_scaled_anchor((\n",
    "          torch.tensor(config.ANCHORS)\n",
    "          * torch.tensor(config.S[1]).unsqueeze(1).unsqueeze(1).repeat(1, 3, 2)\n",
    "      ))\n",
    "\n",
    "    def validation_epoch_end(self,outputs):\n",
    "        \n",
    "        loss = torch.stack([x['loss'] for x in outputs]).mean()\n",
    "        class_acc = torch.stack([x['class_accuracy'] for x in outputs]).mean()\n",
    "        no_object_acc = torch.stack([x['no_object_accuracy'] for x in outputs]).mean()\n",
    "        object_acc = torch.stack([x['object_accuracy'] for x in outputs]).mean()\n",
    "        \n",
    "        print(\"****Validation****\")\n",
    "        print(f'Validation loss {loss}')\n",
    "        print(f'class_accuracy: {class_acc}, no_object_accuracy: {no_object_acc} , object_accuracy:{object_acc}')\n",
    "        \n",
    "    def training_step(self, batch, batch_idx):\n",
    "        x, y = batch\n",
    "        out  = self(x)\n",
    "        loss = self.criterion(out,y,self.scaled_anchors)\n",
    "        acc  = self.accuracy_fn(y,out,self.hparams.threshold,self.correct_class,\n",
    "                                                                     self.correct_obj,\n",
    "                                                                     self.correct_noobj,\n",
    "                                                                     self.tot_class_preds,\n",
    "                                                                     self.tot_obj,\n",
    "                                                                     self.tot_noobj)\n",
    "\n",
    "        self.log('train_loss', loss, prog_bar=True, on_step=False, on_epoch=True)\n",
    "        self.log_dict({\"class_accuracy\": acc[0], \"no_object_accuracy\": acc[1], \"object_accuracy\":acc[2]},prog_bar=True,on_step=False, on_epoch=True)\n",
    "        \n",
    "        \n",
    "        return {\"loss\":loss, \"class_accuracy\": acc[0], \"no_object_accuracy\": acc[1], \"object_accuracy\":acc[2]}\n",
    "\n",
    "    def evaluate(self, batch, stage=None):\n",
    "        x, y = batch\n",
    "        test_out = self(x)\n",
    "        loss = self.criterion(test_out,y,self.scaled_anchors)\n",
    "        acc  = self.accuracy_fn(y,test_out,self.hparams.threshold,self.correct_class,\n",
    "                                                                     self.correct_obj,\n",
    "                                                                     self.correct_noobj,\n",
    "                                                                     self.tot_class_preds,\n",
    "                                                                     self.tot_obj,\n",
    "                                                                     self.tot_noobj)\n",
    "\n",
    "        if stage:\n",
    "            self.log(f\"{stage}_loss\", loss, prog_bar=True)\n",
    "            self.log_dict({\"class_accuracy\": acc[0], \"no_object_accuracy\": acc[1], \"object_accuracy\":acc[2]},prog_bar=True)\n",
    "\n",
    "            return {\"loss\":loss, \"class_accuracy\": acc[0], \"no_object_accuracy\": acc[1], \"object_accuracy\":acc[2]}\n",
    "\n",
    "            \n",
    "    def test_step(self, batch, batch_idx):\n",
    "        self.evaluate(batch, \"test\")\n",
    "\n",
    "    def validation_step(self, batch, batch_idx):\n",
    "        output_dict = self.evaluate(batch, \"val\")\n",
    "        return output_dict\n",
    "\n",
    "    def configure_optimizers(self):\n",
    "        optimizer = optim.Adam(self.parameters(), lr=self.hparams.lr, weight_decay=self.hparams.weight_decay)\n",
    "        scheduler = OneCycleLR(\n",
    "                optimizer,\n",
    "                max_lr= 1E-2,\n",
    "                pct_start = 5/self.trainer.max_epochs,\n",
    "                epochs=self.trainer.max_epochs,\n",
    "                steps_per_epoch=len(train_loader),\n",
    "                div_factor=100,verbose=False,\n",
    "                three_phase=False\n",
    "            )\n",
    "        return ([optimizer],[scheduler])\n"
   ]
  },
  {
   "cell_type": "markdown",
   "metadata": {},
   "source": [
    "### 3 - Train model"
   ]
  },
  {
   "cell_type": "code",
   "execution_count": 10,
   "metadata": {
    "executionInfo": {
     "elapsed": 1361,
     "status": "ok",
     "timestamp": 1692228090767,
     "user": {
      "displayName": "Sanjana Tule",
      "userId": "12298962096129134000"
     },
     "user_tz": -600
    },
    "id": "GkChPSDtJ0i4"
   },
   "outputs": [],
   "source": [
    "train_dataset,test_dataset,train_eval_dataset, train_loader, test_loader, train_eval_loader = get_loaders(train_csv_path=\"./PASCAL_VOC/train.csv\", test_csv_path=\"./PASCAL_VOC/test.csv\")"
   ]
  },
  {
   "cell_type": "code",
   "execution_count": 11,
   "metadata": {
    "colab": {
     "base_uri": "https://localhost:8080/"
    },
    "executionInfo": {
     "elapsed": 358,
     "status": "ok",
     "timestamp": 1692228091123,
     "user": {
      "displayName": "Sanjana Tule",
      "userId": "12298962096129134000"
     },
     "user_tz": -600
    },
    "id": "L7HdNhFlJ37P",
    "outputId": "61e88b52-4abe-48bd-886d-75b4502345ca"
   },
   "outputs": [
    {
     "name": "stderr",
     "output_type": "stream",
     "text": [
      "Using 16bit None Automatic Mixed Precision (AMP)\n",
      "GPU available: True (cuda), used: True\n",
      "TPU available: False, using: 0 TPU cores\n",
      "IPU available: False, using: 0 IPUs\n",
      "HPU available: False, using: 0 HPUs\n"
     ]
    }
   ],
   "source": [
    "model = LitYolo(my_dataset = train_dataset)\n",
    "trainer = Trainer(log_every_n_steps=1,\n",
    "                  check_val_every_n_epoch=1,\n",
    "    enable_model_summary=True,\n",
    "    max_epochs=40,\n",
    "    precision=16,\n",
    "    accelerator=\"auto\",\n",
    "    devices=1 if torch.cuda.is_available() else None,  # limiting got iPython runs\n",
    "    logger= [CSVLogger(save_dir=\"logs/\"), TensorBoardLogger(\"logs/\", name=\"YoloV3\")],\n",
    "    default_root_dir=\"model/save/\",\n",
    "    callbacks=[LearningRateMonitor(logging_interval=\"step\"), TQDMProgressBar(refresh_rate=10)],)"
   ]
  },
  {
   "cell_type": "code",
   "execution_count": 12,
   "metadata": {
    "colab": {
     "base_uri": "https://localhost:8080/",
     "height": 940,
     "referenced_widgets": [
      "3c948b0d492d41e8b239cc0e1dd145a4",
      "9c69f4fd220f4613b30137fad6005dcb",
      "083d214083a3411994ad5112d8fa6d85",
      "28ffb738cf71443ea6ef70d3f99ba84f",
      "dc1304443cdb44ee9a5f6a2514674017",
      "4ae5a21863a840e6bc3edaef82f0ab42",
      "e26f88d7bd4d4349a897f59b767c0e2f",
      "76da4221a27f4f93b6d545d17b7ee020",
      "587afef346aa421a87d51b49ad6dd854",
      "191c30b062e24895acdafe3d91dfca8d",
      "2129fce795c34657a25f5a362c4bc3d6"
     ]
    },
    "executionInfo": {
     "elapsed": 225131,
     "status": "error",
     "timestamp": 1692228316251,
     "user": {
      "displayName": "Sanjana Tule",
      "userId": "12298962096129134000"
     },
     "user_tz": -600
    },
    "id": "LdLrgAGSK3mP",
    "outputId": "1cdf1b94-c0bc-436f-ca52-0b3b8de6776e"
   },
   "outputs": [
    {
     "name": "stderr",
     "output_type": "stream",
     "text": [
      "You are using a CUDA device ('NVIDIA GeForce RTX 4090') that has Tensor Cores. To properly utilize them, you should set `torch.set_float32_matmul_precision('medium' | 'high')` which will trade-off precision for performance. For more details, read https://pytorch.org/docs/stable/generated/torch.set_float32_matmul_precision.html#torch.set_float32_matmul_precision\n",
      "LOCAL_RANK: 0 - CUDA_VISIBLE_DEVICES: [0,1,2,3]\n",
      "\n",
      "  | Name  | Type   | Params\n",
      "---------------------------------\n",
      "0 | model | YOLOv3 | 61.6 M\n",
      "---------------------------------\n",
      "61.6 M    Trainable params\n",
      "0         Non-trainable params\n",
      "61.6 M    Total params\n",
      "123.253   Total estimated model params size (MB)\n"
     ]
    },
    {
     "data": {
      "application/vnd.jupyter.widget-view+json": {
       "model_id": "",
       "version_major": 2,
       "version_minor": 0
      },
      "text/plain": [
       "Sanity Checking: 0it [00:00, ?it/s]"
      ]
     },
     "metadata": {},
     "output_type": "display_data"
    },
    {
     "name": "stdout",
     "output_type": "stream",
     "text": [
      "****Validation****\n",
      "Validation loss 46.350074768066406\n",
      "class_accuracy: 2.7870678901672363, no_object_accuracy: 0.0 , object_accuracy:100.0\n"
     ]
    },
    {
     "data": {
      "application/vnd.jupyter.widget-view+json": {
       "model_id": "74254c59652b4c2aaa7e30737ac9a9bf",
       "version_major": 2,
       "version_minor": 0
      },
      "text/plain": [
       "Training: 0it [00:00, ?it/s]"
      ]
     },
     "metadata": {},
     "output_type": "display_data"
    },
    {
     "data": {
      "application/vnd.jupyter.widget-view+json": {
       "model_id": "",
       "version_major": 2,
       "version_minor": 0
      },
      "text/plain": [
       "Validation: 0it [00:00, ?it/s]"
      ]
     },
     "metadata": {},
     "output_type": "display_data"
    },
    {
     "name": "stdout",
     "output_type": "stream",
     "text": [
      "****Validation****\n",
      "Validation loss 15.48600959777832\n",
      "class_accuracy: 40.16872024536133, no_object_accuracy: 99.99964904785156 , object_accuracy:0.0\n",
      "****Training****\n",
      "Train loss 14.526687622070312\n",
      "class_accuracy: 31.5528621673584, no_object_accuracy: 81.17894744873047 , object_accuracy:16.431509017944336\n"
     ]
    },
    {
     "data": {
      "application/vnd.jupyter.widget-view+json": {
       "model_id": "",
       "version_major": 2,
       "version_minor": 0
      },
      "text/plain": [
       "Validation: 0it [00:00, ?it/s]"
      ]
     },
     "metadata": {},
     "output_type": "display_data"
    },
    {
     "name": "stdout",
     "output_type": "stream",
     "text": [
      "****Validation****\n",
      "Validation loss 13.499847412109375\n",
      "class_accuracy: 42.54361343383789, no_object_accuracy: 100.0 , object_accuracy:0.0\n",
      "****Training****\n",
      "Train loss 12.125301361083984\n",
      "class_accuracy: 34.44002151489258, no_object_accuracy: 99.99998474121094 , object_accuracy:0.0002685140643734485\n"
     ]
    },
    {
     "data": {
      "application/vnd.jupyter.widget-view+json": {
       "model_id": "",
       "version_major": 2,
       "version_minor": 0
      },
      "text/plain": [
       "Validation: 0it [00:00, ?it/s]"
      ]
     },
     "metadata": {},
     "output_type": "display_data"
    },
    {
     "name": "stdout",
     "output_type": "stream",
     "text": [
      "****Validation****\n",
      "Validation loss 12.865388870239258\n",
      "class_accuracy: 45.03504943847656, no_object_accuracy: 100.0 , object_accuracy:0.0\n",
      "****Training****\n",
      "Train loss 11.318503379821777\n",
      "class_accuracy: 36.38681411743164, no_object_accuracy: 100.0 , object_accuracy:0.000335642573190853\n"
     ]
    },
    {
     "data": {
      "application/vnd.jupyter.widget-view+json": {
       "model_id": "",
       "version_major": 2,
       "version_minor": 0
      },
      "text/plain": [
       "Validation: 0it [00:00, ?it/s]"
      ]
     },
     "metadata": {},
     "output_type": "display_data"
    },
    {
     "name": "stdout",
     "output_type": "stream",
     "text": [
      "****Validation****\n",
      "Validation loss 12.113456726074219\n",
      "class_accuracy: 46.83615493774414, no_object_accuracy: 99.73051452636719 , object_accuracy:8.517346382141113\n",
      "****Training****\n",
      "Train loss 10.576672554016113\n",
      "class_accuracy: 39.803627014160156, no_object_accuracy: 99.8274917602539 , object_accuracy:4.709935188293457\n"
     ]
    },
    {
     "data": {
      "application/vnd.jupyter.widget-view+json": {
       "model_id": "",
       "version_major": 2,
       "version_minor": 0
      },
      "text/plain": [
       "Validation: 0it [00:00, ?it/s]"
      ]
     },
     "metadata": {},
     "output_type": "display_data"
    },
    {
     "name": "stdout",
     "output_type": "stream",
     "text": [
      "****Validation****\n",
      "Validation loss 10.647725105285645\n",
      "class_accuracy: 52.02900314331055, no_object_accuracy: 99.60657501220703 , object_accuracy:11.650904655456543\n",
      "****Training****\n",
      "Train loss 9.93390941619873\n",
      "class_accuracy: 42.826663970947266, no_object_accuracy: 99.52729034423828 , object_accuracy:13.730934143066406\n"
     ]
    },
    {
     "data": {
      "application/vnd.jupyter.widget-view+json": {
       "model_id": "",
       "version_major": 2,
       "version_minor": 0
      },
      "text/plain": [
       "Validation: 0it [00:00, ?it/s]"
      ]
     },
     "metadata": {},
     "output_type": "display_data"
    },
    {
     "name": "stdout",
     "output_type": "stream",
     "text": [
      "****Validation****\n",
      "Validation loss 10.124338150024414\n",
      "class_accuracy: 54.14146041870117, no_object_accuracy: 98.01176452636719 , object_accuracy:27.495527267456055\n",
      "****Training****\n",
      "Train loss 9.408023834228516\n",
      "class_accuracy: 45.49660873413086, no_object_accuracy: 98.7784194946289 , object_accuracy:20.799171447753906\n"
     ]
    },
    {
     "data": {
      "application/vnd.jupyter.widget-view+json": {
       "model_id": "",
       "version_major": 2,
       "version_minor": 0
      },
      "text/plain": [
       "Validation: 0it [00:00, ?it/s]"
      ]
     },
     "metadata": {},
     "output_type": "display_data"
    },
    {
     "name": "stdout",
     "output_type": "stream",
     "text": [
      "****Validation****\n",
      "Validation loss 10.647507667541504\n",
      "class_accuracy: 57.28253936767578, no_object_accuracy: 97.51885986328125 , object_accuracy:31.68295669555664\n",
      "****Training****\n",
      "Train loss 8.984193801879883\n",
      "class_accuracy: 47.7706184387207, no_object_accuracy: 97.01407623291016 , object_accuracy:36.50709915161133\n"
     ]
    },
    {
     "data": {
      "application/vnd.jupyter.widget-view+json": {
       "model_id": "",
       "version_major": 2,
       "version_minor": 0
      },
      "text/plain": [
       "Validation: 0it [00:00, ?it/s]"
      ]
     },
     "metadata": {},
     "output_type": "display_data"
    },
    {
     "name": "stdout",
     "output_type": "stream",
     "text": [
      "****Validation****\n",
      "Validation loss 10.801711082458496\n",
      "class_accuracy: 59.13272476196289, no_object_accuracy: 97.95565032958984 , object_accuracy:36.31901550292969\n",
      "****Training****\n",
      "Train loss 8.603073120117188\n",
      "class_accuracy: 49.88295364379883, no_object_accuracy: 96.98469543457031 , object_accuracy:42.061161041259766\n"
     ]
    },
    {
     "data": {
      "application/vnd.jupyter.widget-view+json": {
       "model_id": "",
       "version_major": 2,
       "version_minor": 0
      },
      "text/plain": [
       "Validation: 0it [00:00, ?it/s]"
      ]
     },
     "metadata": {},
     "output_type": "display_data"
    },
    {
     "name": "stdout",
     "output_type": "stream",
     "text": [
      "****Validation****\n",
      "Validation loss 10.823962211608887\n",
      "class_accuracy: 59.41939163208008, no_object_accuracy: 97.82454681396484 , object_accuracy:42.8450813293457\n",
      "****Training****\n",
      "Train loss 8.366657257080078\n",
      "class_accuracy: 51.457000732421875, no_object_accuracy: 97.03092193603516 , object_accuracy:50.48790740966797\n"
     ]
    },
    {
     "data": {
      "application/vnd.jupyter.widget-view+json": {
       "model_id": "",
       "version_major": 2,
       "version_minor": 0
      },
      "text/plain": [
       "Validation: 0it [00:00, ?it/s]"
      ]
     },
     "metadata": {},
     "output_type": "display_data"
    },
    {
     "name": "stdout",
     "output_type": "stream",
     "text": [
      "****Validation****\n",
      "Validation loss 9.184144973754883\n",
      "class_accuracy: 61.32600021362305, no_object_accuracy: 97.93029022216797 , object_accuracy:42.309539794921875\n",
      "****Training****\n",
      "Train loss 8.123830795288086\n",
      "class_accuracy: 52.73781204223633, no_object_accuracy: 97.05816650390625 , object_accuracy:53.22675323486328\n"
     ]
    },
    {
     "data": {
      "application/vnd.jupyter.widget-view+json": {
       "model_id": "",
       "version_major": 2,
       "version_minor": 0
      },
      "text/plain": [
       "Validation: 0it [00:00, ?it/s]"
      ]
     },
     "metadata": {},
     "output_type": "display_data"
    },
    {
     "name": "stdout",
     "output_type": "stream",
     "text": [
      "****Validation****\n",
      "Validation loss 9.037275314331055\n",
      "class_accuracy: 61.57413864135742, no_object_accuracy: 97.42841339111328 , object_accuracy:45.561641693115234\n",
      "****Training****\n",
      "Train loss 7.851682662963867\n",
      "class_accuracy: 54.33879470825195, no_object_accuracy: 97.14488983154297 , object_accuracy:54.396053314208984\n"
     ]
    },
    {
     "data": {
      "application/vnd.jupyter.widget-view+json": {
       "model_id": "",
       "version_major": 2,
       "version_minor": 0
      },
      "text/plain": [
       "Validation: 0it [00:00, ?it/s]"
      ]
     },
     "metadata": {},
     "output_type": "display_data"
    },
    {
     "name": "stdout",
     "output_type": "stream",
     "text": [
      "****Validation****\n",
      "Validation loss 8.862241744995117\n",
      "class_accuracy: 64.98827362060547, no_object_accuracy: 97.43463897705078 , object_accuracy:48.697059631347656\n",
      "****Training****\n",
      "Train loss 7.661724090576172\n",
      "class_accuracy: 55.75759506225586, no_object_accuracy: 97.19478607177734 , object_accuracy:55.378578186035156\n"
     ]
    },
    {
     "data": {
      "application/vnd.jupyter.widget-view+json": {
       "model_id": "",
       "version_major": 2,
       "version_minor": 0
      },
      "text/plain": [
       "Validation: 0it [00:00, ?it/s]"
      ]
     },
     "metadata": {},
     "output_type": "display_data"
    },
    {
     "name": "stdout",
     "output_type": "stream",
     "text": [
      "****Validation****\n",
      "Validation loss 9.139018058776855\n",
      "class_accuracy: 64.57957458496094, no_object_accuracy: 97.90668487548828 , object_accuracy:45.97147750854492\n",
      "****Training****\n",
      "Train loss 7.4760589599609375\n",
      "class_accuracy: 57.2831916809082, no_object_accuracy: 97.257080078125 , object_accuracy:56.435691833496094\n"
     ]
    },
    {
     "data": {
      "application/vnd.jupyter.widget-view+json": {
       "model_id": "",
       "version_major": 2,
       "version_minor": 0
      },
      "text/plain": [
       "Validation: 0it [00:00, ?it/s]"
      ]
     },
     "metadata": {},
     "output_type": "display_data"
    },
    {
     "name": "stdout",
     "output_type": "stream",
     "text": [
      "****Validation****\n",
      "Validation loss 9.611675262451172\n",
      "class_accuracy: 66.15540313720703, no_object_accuracy: 98.10838317871094 , object_accuracy:45.69175720214844\n",
      "****Training****\n",
      "Train loss 7.416170597076416\n",
      "class_accuracy: 57.633792877197266, no_object_accuracy: 97.32701110839844 , object_accuracy:56.51358413696289\n"
     ]
    },
    {
     "data": {
      "application/vnd.jupyter.widget-view+json": {
       "model_id": "",
       "version_major": 2,
       "version_minor": 0
      },
      "text/plain": [
       "Validation: 0it [00:00, ?it/s]"
      ]
     },
     "metadata": {},
     "output_type": "display_data"
    },
    {
     "name": "stdout",
     "output_type": "stream",
     "text": [
      "****Validation****\n",
      "Validation loss 9.057488441467285\n",
      "class_accuracy: 66.68242645263672, no_object_accuracy: 97.56218719482422 , object_accuracy:50.3973503112793\n",
      "****Training****\n",
      "Train loss 7.171953201293945\n",
      "class_accuracy: 59.1381721496582, no_object_accuracy: 97.34558868408203 , object_accuracy:57.97495651245117\n"
     ]
    },
    {
     "data": {
      "application/vnd.jupyter.widget-view+json": {
       "model_id": "",
       "version_major": 2,
       "version_minor": 0
      },
      "text/plain": [
       "Validation: 0it [00:00, ?it/s]"
      ]
     },
     "metadata": {},
     "output_type": "display_data"
    },
    {
     "name": "stdout",
     "output_type": "stream",
     "text": [
      "****Validation****\n",
      "Validation loss 8.774259567260742\n",
      "class_accuracy: 68.17935943603516, no_object_accuracy: 97.95664978027344 , object_accuracy:47.85670852661133\n",
      "****Training****\n",
      "Train loss 7.106618404388428\n",
      "class_accuracy: 59.79042053222656, no_object_accuracy: 97.37322998046875 , object_accuracy:57.858604431152344\n"
     ]
    },
    {
     "data": {
      "application/vnd.jupyter.widget-view+json": {
       "model_id": "",
       "version_major": 2,
       "version_minor": 0
      },
      "text/plain": [
       "Validation: 0it [00:00, ?it/s]"
      ]
     },
     "metadata": {},
     "output_type": "display_data"
    },
    {
     "name": "stdout",
     "output_type": "stream",
     "text": [
      "****Validation****\n",
      "Validation loss 9.249403953552246\n",
      "class_accuracy: 66.89398956298828, no_object_accuracy: 98.11582946777344 , object_accuracy:47.977264404296875\n",
      "****Training****\n",
      "Train loss 7.00238037109375\n",
      "class_accuracy: 60.60652542114258, no_object_accuracy: 97.43905639648438 , object_accuracy:58.263160705566406\n"
     ]
    },
    {
     "data": {
      "application/vnd.jupyter.widget-view+json": {
       "model_id": "",
       "version_major": 2,
       "version_minor": 0
      },
      "text/plain": [
       "Validation: 0it [00:00, ?it/s]"
      ]
     },
     "metadata": {},
     "output_type": "display_data"
    },
    {
     "name": "stdout",
     "output_type": "stream",
     "text": [
      "****Validation****\n",
      "Validation loss 8.399293899536133\n",
      "class_accuracy: 70.2802963256836, no_object_accuracy: 98.01323699951172 , object_accuracy:50.181766510009766\n",
      "****Training****\n",
      "Train loss 6.880820274353027\n",
      "class_accuracy: 61.5002326965332, no_object_accuracy: 97.43801879882812 , object_accuracy:58.99052810668945\n"
     ]
    },
    {
     "data": {
      "application/vnd.jupyter.widget-view+json": {
       "model_id": "",
       "version_major": 2,
       "version_minor": 0
      },
      "text/plain": [
       "Validation: 0it [00:00, ?it/s]"
      ]
     },
     "metadata": {},
     "output_type": "display_data"
    },
    {
     "name": "stdout",
     "output_type": "stream",
     "text": [
      "****Validation****\n",
      "Validation loss 9.374814987182617\n",
      "class_accuracy: 71.59540557861328, no_object_accuracy: 97.98174285888672 , object_accuracy:49.49320983886719\n",
      "****Training****\n",
      "Train loss 6.776307106018066\n",
      "class_accuracy: 62.0004768371582, no_object_accuracy: 97.50123596191406 , object_accuracy:59.57929992675781\n"
     ]
    },
    {
     "data": {
      "application/vnd.jupyter.widget-view+json": {
       "model_id": "",
       "version_major": 2,
       "version_minor": 0
      },
      "text/plain": [
       "Validation: 0it [00:00, ?it/s]"
      ]
     },
     "metadata": {},
     "output_type": "display_data"
    },
    {
     "name": "stdout",
     "output_type": "stream",
     "text": [
      "****Validation****\n",
      "Validation loss 9.048304557800293\n",
      "class_accuracy: 70.3000717163086, no_object_accuracy: 98.02352905273438 , object_accuracy:49.45454788208008\n",
      "****Training****\n",
      "Train loss 6.648309230804443\n",
      "class_accuracy: 62.87859344482422, no_object_accuracy: 97.5182876586914 , object_accuracy:60.048885345458984\n"
     ]
    },
    {
     "data": {
      "application/vnd.jupyter.widget-view+json": {
       "model_id": "",
       "version_major": 2,
       "version_minor": 0
      },
      "text/plain": [
       "Validation: 0it [00:00, ?it/s]"
      ]
     },
     "metadata": {},
     "output_type": "display_data"
    },
    {
     "name": "stdout",
     "output_type": "stream",
     "text": [
      "****Validation****\n",
      "Validation loss 7.2620415687561035\n",
      "class_accuracy: 70.82279205322266, no_object_accuracy: 98.03949737548828 , object_accuracy:50.542232513427734\n",
      "****Training****\n",
      "Train loss 6.593353271484375\n",
      "class_accuracy: 63.442848205566406, no_object_accuracy: 97.53931427001953 , object_accuracy:60.02181625366211\n"
     ]
    },
    {
     "data": {
      "application/vnd.jupyter.widget-view+json": {
       "model_id": "",
       "version_major": 2,
       "version_minor": 0
      },
      "text/plain": [
       "Validation: 0it [00:00, ?it/s]"
      ]
     },
     "metadata": {},
     "output_type": "display_data"
    },
    {
     "name": "stdout",
     "output_type": "stream",
     "text": [
      "****Validation****\n",
      "Validation loss 7.652556896209717\n",
      "class_accuracy: 72.2677001953125, no_object_accuracy: 98.13955688476562 , object_accuracy:50.17454147338867\n",
      "****Training****\n",
      "Train loss 6.445245265960693\n",
      "class_accuracy: 64.55508422851562, no_object_accuracy: 97.54781341552734 , object_accuracy:60.677310943603516\n"
     ]
    },
    {
     "data": {
      "application/vnd.jupyter.widget-view+json": {
       "model_id": "",
       "version_major": 2,
       "version_minor": 0
      },
      "text/plain": [
       "Validation: 0it [00:00, ?it/s]"
      ]
     },
     "metadata": {},
     "output_type": "display_data"
    },
    {
     "name": "stdout",
     "output_type": "stream",
     "text": [
      "****Validation****\n",
      "Validation loss 6.942456245422363\n",
      "class_accuracy: 73.2132339477539, no_object_accuracy: 98.0225830078125 , object_accuracy:51.1253776550293\n",
      "****Training****\n",
      "Train loss 6.438779354095459\n",
      "class_accuracy: 64.63127899169922, no_object_accuracy: 97.57640838623047 , object_accuracy:60.68839645385742\n"
     ]
    },
    {
     "data": {
      "application/vnd.jupyter.widget-view+json": {
       "model_id": "",
       "version_major": 2,
       "version_minor": 0
      },
      "text/plain": [
       "Validation: 0it [00:00, ?it/s]"
      ]
     },
     "metadata": {},
     "output_type": "display_data"
    },
    {
     "name": "stdout",
     "output_type": "stream",
     "text": [
      "****Validation****\n",
      "Validation loss 7.124415874481201\n",
      "class_accuracy: 73.8075180053711, no_object_accuracy: 98.11567687988281 , object_accuracy:50.99462127685547\n",
      "****Training****\n",
      "Train loss 6.2994537353515625\n",
      "class_accuracy: 65.572509765625, no_object_accuracy: 97.60078430175781 , object_accuracy:61.347774505615234\n"
     ]
    },
    {
     "data": {
      "application/vnd.jupyter.widget-view+json": {
       "model_id": "",
       "version_major": 2,
       "version_minor": 0
      },
      "text/plain": [
       "Validation: 0it [00:00, ?it/s]"
      ]
     },
     "metadata": {},
     "output_type": "display_data"
    },
    {
     "name": "stdout",
     "output_type": "stream",
     "text": [
      "****Validation****\n",
      "Validation loss 8.005776405334473\n",
      "class_accuracy: 73.9700927734375, no_object_accuracy: 97.93328094482422 , object_accuracy:53.79180145263672\n",
      "****Training****\n",
      "Train loss 6.188379287719727\n",
      "class_accuracy: 66.10563659667969, no_object_accuracy: 97.61430358886719 , object_accuracy:61.66788864135742\n"
     ]
    },
    {
     "data": {
      "application/vnd.jupyter.widget-view+json": {
       "model_id": "",
       "version_major": 2,
       "version_minor": 0
      },
      "text/plain": [
       "Validation: 0it [00:00, ?it/s]"
      ]
     },
     "metadata": {},
     "output_type": "display_data"
    },
    {
     "name": "stdout",
     "output_type": "stream",
     "text": [
      "****Validation****\n",
      "Validation loss 8.08923625946045\n",
      "class_accuracy: 74.11627960205078, no_object_accuracy: 98.1407470703125 , object_accuracy:51.694480895996094\n",
      "****Training****\n",
      "Train loss 6.167385578155518\n",
      "class_accuracy: 66.8906478881836, no_object_accuracy: 97.62146759033203 , object_accuracy:61.9475212097168\n"
     ]
    },
    {
     "data": {
      "application/vnd.jupyter.widget-view+json": {
       "model_id": "",
       "version_major": 2,
       "version_minor": 0
      },
      "text/plain": [
       "Validation: 0it [00:00, ?it/s]"
      ]
     },
     "metadata": {},
     "output_type": "display_data"
    },
    {
     "name": "stdout",
     "output_type": "stream",
     "text": [
      "****Validation****\n",
      "Validation loss 7.390384674072266\n",
      "class_accuracy: 74.27975463867188, no_object_accuracy: 97.97393798828125 , object_accuracy:51.54497528076172\n",
      "****Training****\n",
      "Train loss 6.099483013153076\n",
      "class_accuracy: 67.46092987060547, no_object_accuracy: 97.64827728271484 , object_accuracy:62.215274810791016\n"
     ]
    },
    {
     "data": {
      "application/vnd.jupyter.widget-view+json": {
       "model_id": "",
       "version_major": 2,
       "version_minor": 0
      },
      "text/plain": [
       "Validation: 0it [00:00, ?it/s]"
      ]
     },
     "metadata": {},
     "output_type": "display_data"
    },
    {
     "name": "stdout",
     "output_type": "stream",
     "text": [
      "****Validation****\n",
      "Validation loss 6.995041847229004\n",
      "class_accuracy: 74.79856872558594, no_object_accuracy: 98.1556167602539 , object_accuracy:53.28306198120117\n",
      "****Training****\n",
      "Train loss 6.050878524780273\n",
      "class_accuracy: 67.53055572509766, no_object_accuracy: 97.66990661621094 , object_accuracy:62.050052642822266\n"
     ]
    },
    {
     "data": {
      "application/vnd.jupyter.widget-view+json": {
       "model_id": "",
       "version_major": 2,
       "version_minor": 0
      },
      "text/plain": [
       "Validation: 0it [00:00, ?it/s]"
      ]
     },
     "metadata": {},
     "output_type": "display_data"
    },
    {
     "name": "stdout",
     "output_type": "stream",
     "text": [
      "****Validation****\n",
      "Validation loss 6.745757102966309\n",
      "class_accuracy: 76.8319320678711, no_object_accuracy: 98.09881591796875 , object_accuracy:53.257080078125\n",
      "****Training****\n",
      "Train loss 5.967445373535156\n",
      "class_accuracy: 67.99429321289062, no_object_accuracy: 97.69236755371094 , object_accuracy:62.45058059692383\n"
     ]
    },
    {
     "data": {
      "application/vnd.jupyter.widget-view+json": {
       "model_id": "",
       "version_major": 2,
       "version_minor": 0
      },
      "text/plain": [
       "Validation: 0it [00:00, ?it/s]"
      ]
     },
     "metadata": {},
     "output_type": "display_data"
    },
    {
     "name": "stdout",
     "output_type": "stream",
     "text": [
      "****Validation****\n",
      "Validation loss 6.775073528289795\n",
      "class_accuracy: 74.43905639648438, no_object_accuracy: 98.20939636230469 , object_accuracy:51.93879318237305\n",
      "****Training****\n",
      "Train loss 5.8929924964904785\n",
      "class_accuracy: 68.73774719238281, no_object_accuracy: 97.69017028808594 , object_accuracy:62.665870666503906\n"
     ]
    },
    {
     "data": {
      "application/vnd.jupyter.widget-view+json": {
       "model_id": "",
       "version_major": 2,
       "version_minor": 0
      },
      "text/plain": [
       "Validation: 0it [00:00, ?it/s]"
      ]
     },
     "metadata": {},
     "output_type": "display_data"
    },
    {
     "name": "stdout",
     "output_type": "stream",
     "text": [
      "****Validation****\n",
      "Validation loss 7.858012676239014\n",
      "class_accuracy: 77.2868881225586, no_object_accuracy: 97.79969024658203 , object_accuracy:55.92249298095703\n",
      "****Training****\n",
      "Train loss 5.846659183502197\n",
      "class_accuracy: 68.92858123779297, no_object_accuracy: 97.69792175292969 , object_accuracy:63.20673370361328\n"
     ]
    },
    {
     "data": {
      "application/vnd.jupyter.widget-view+json": {
       "model_id": "",
       "version_major": 2,
       "version_minor": 0
      },
      "text/plain": [
       "Validation: 0it [00:00, ?it/s]"
      ]
     },
     "metadata": {},
     "output_type": "display_data"
    },
    {
     "name": "stdout",
     "output_type": "stream",
     "text": [
      "****Validation****\n",
      "Validation loss 7.310220718383789\n",
      "class_accuracy: 76.12411499023438, no_object_accuracy: 98.22648620605469 , object_accuracy:52.906532287597656\n",
      "****Training****\n",
      "Train loss 5.7665839195251465\n",
      "class_accuracy: 69.60220336914062, no_object_accuracy: 97.72974395751953 , object_accuracy:63.510520935058594\n"
     ]
    },
    {
     "data": {
      "application/vnd.jupyter.widget-view+json": {
       "model_id": "",
       "version_major": 2,
       "version_minor": 0
      },
      "text/plain": [
       "Validation: 0it [00:00, ?it/s]"
      ]
     },
     "metadata": {},
     "output_type": "display_data"
    },
    {
     "name": "stdout",
     "output_type": "stream",
     "text": [
      "****Validation****\n",
      "Validation loss 6.263827323913574\n",
      "class_accuracy: 77.26382446289062, no_object_accuracy: 98.162841796875 , object_accuracy:52.773319244384766\n",
      "****Training****\n",
      "Train loss 5.7488112449646\n",
      "class_accuracy: 69.74662780761719, no_object_accuracy: 97.73345947265625 , object_accuracy:63.52500534057617\n"
     ]
    },
    {
     "data": {
      "application/vnd.jupyter.widget-view+json": {
       "model_id": "",
       "version_major": 2,
       "version_minor": 0
      },
      "text/plain": [
       "Validation: 0it [00:00, ?it/s]"
      ]
     },
     "metadata": {},
     "output_type": "display_data"
    },
    {
     "name": "stdout",
     "output_type": "stream",
     "text": [
      "****Validation****\n",
      "Validation loss 8.042274475097656\n",
      "class_accuracy: 76.22128295898438, no_object_accuracy: 98.15701293945312 , object_accuracy:55.102638244628906\n",
      "****Training****\n",
      "Train loss 5.7077765464782715\n",
      "class_accuracy: 69.9858627319336, no_object_accuracy: 97.74668884277344 , object_accuracy:63.900230407714844\n"
     ]
    },
    {
     "data": {
      "application/vnd.jupyter.widget-view+json": {
       "model_id": "",
       "version_major": 2,
       "version_minor": 0
      },
      "text/plain": [
       "Validation: 0it [00:00, ?it/s]"
      ]
     },
     "metadata": {},
     "output_type": "display_data"
    },
    {
     "name": "stdout",
     "output_type": "stream",
     "text": [
      "****Validation****\n",
      "Validation loss 7.180839538574219\n",
      "class_accuracy: 76.73551940917969, no_object_accuracy: 98.27461242675781 , object_accuracy:54.573543548583984\n",
      "****Training****\n",
      "Train loss 5.615116119384766\n",
      "class_accuracy: 70.74788665771484, no_object_accuracy: 97.69377136230469 , object_accuracy:66.14244842529297\n"
     ]
    },
    {
     "data": {
      "application/vnd.jupyter.widget-view+json": {
       "model_id": "",
       "version_major": 2,
       "version_minor": 0
      },
      "text/plain": [
       "Validation: 0it [00:00, ?it/s]"
      ]
     },
     "metadata": {},
     "output_type": "display_data"
    },
    {
     "name": "stdout",
     "output_type": "stream",
     "text": [
      "****Validation****\n",
      "Validation loss 7.786042213439941\n",
      "class_accuracy: 77.3884506225586, no_object_accuracy: 98.1692886352539 , object_accuracy:56.016700744628906\n",
      "****Training****\n",
      "Train loss 5.573145866394043\n",
      "class_accuracy: 70.70732879638672, no_object_accuracy: 97.71473693847656 , object_accuracy:66.6511001586914\n"
     ]
    },
    {
     "data": {
      "application/vnd.jupyter.widget-view+json": {
       "model_id": "",
       "version_major": 2,
       "version_minor": 0
      },
      "text/plain": [
       "Validation: 0it [00:00, ?it/s]"
      ]
     },
     "metadata": {},
     "output_type": "display_data"
    },
    {
     "name": "stdout",
     "output_type": "stream",
     "text": [
      "****Validation****\n",
      "Validation loss 6.628706932067871\n",
      "class_accuracy: 76.21747589111328, no_object_accuracy: 98.30205535888672 , object_accuracy:55.044334411621094\n",
      "****Training****\n",
      "Train loss 5.528279781341553\n",
      "class_accuracy: 71.49830627441406, no_object_accuracy: 97.70032501220703 , object_accuracy:66.53668212890625\n"
     ]
    },
    {
     "data": {
      "application/vnd.jupyter.widget-view+json": {
       "model_id": "",
       "version_major": 2,
       "version_minor": 0
      },
      "text/plain": [
       "Validation: 0it [00:00, ?it/s]"
      ]
     },
     "metadata": {},
     "output_type": "display_data"
    },
    {
     "name": "stdout",
     "output_type": "stream",
     "text": [
      "****Validation****\n",
      "Validation loss 8.104785919189453\n",
      "class_accuracy: 77.95973205566406, no_object_accuracy: 98.36331176757812 , object_accuracy:54.719539642333984\n",
      "****Training****\n",
      "Train loss 5.487851619720459\n",
      "class_accuracy: 71.521240234375, no_object_accuracy: 97.74750518798828 , object_accuracy:67.02835845947266\n"
     ]
    },
    {
     "data": {
      "application/vnd.jupyter.widget-view+json": {
       "model_id": "",
       "version_major": 2,
       "version_minor": 0
      },
      "text/plain": [
       "Validation: 0it [00:00, ?it/s]"
      ]
     },
     "metadata": {},
     "output_type": "display_data"
    },
    {
     "name": "stdout",
     "output_type": "stream",
     "text": [
      "****Validation****\n",
      "Validation loss 7.998831272125244\n",
      "class_accuracy: 77.44613647460938, no_object_accuracy: 98.27606201171875 , object_accuracy:56.36457443237305\n",
      "****Training****\n",
      "Train loss 5.46281099319458\n",
      "class_accuracy: 72.26383972167969, no_object_accuracy: 97.75325775146484 , object_accuracy:66.43685150146484\n"
     ]
    },
    {
     "data": {
      "application/vnd.jupyter.widget-view+json": {
       "model_id": "",
       "version_major": 2,
       "version_minor": 0
      },
      "text/plain": [
       "Validation: 0it [00:00, ?it/s]"
      ]
     },
     "metadata": {},
     "output_type": "display_data"
    },
    {
     "name": "stdout",
     "output_type": "stream",
     "text": [
      "****Validation****\n",
      "Validation loss 7.161380767822266\n",
      "class_accuracy: 77.1316146850586, no_object_accuracy: 98.13288116455078 , object_accuracy:56.99713134765625\n",
      "****Training****\n",
      "Train loss 5.396789073944092\n",
      "class_accuracy: 72.24162292480469, no_object_accuracy: 97.75798797607422 , object_accuracy:67.27698516845703\n"
     ]
    },
    {
     "name": "stderr",
     "output_type": "stream",
     "text": [
      "`Trainer.fit` stopped: `max_epochs=40` reached.\n"
     ]
    }
   ],
   "source": [
    "trainer.fit(model, train_loader,test_loader)"
   ]
  },
  {
   "cell_type": "code",
   "execution_count": 13,
   "metadata": {},
   "outputs": [
    {
     "name": "stderr",
     "output_type": "stream",
     "text": [
      "You are using a CUDA device ('NVIDIA GeForce RTX 4090') that has Tensor Cores. To properly utilize them, you should set `torch.set_float32_matmul_precision('medium' | 'high')` which will trade-off precision for performance. For more details, read https://pytorch.org/docs/stable/generated/torch.set_float32_matmul_precision.html#torch.set_float32_matmul_precision\n",
      "LOCAL_RANK: 0 - CUDA_VISIBLE_DEVICES: [0,1,2,3]\n"
     ]
    },
    {
     "data": {
      "application/vnd.jupyter.widget-view+json": {
       "model_id": "0bcd809d2b9d477588a8bb716e5564c4",
       "version_major": 2,
       "version_minor": 0
      },
      "text/plain": [
       "Validation: 0it [00:00, ?it/s]"
      ]
     },
     "metadata": {},
     "output_type": "display_data"
    },
    {
     "name": "stdout",
     "output_type": "stream",
     "text": [
      "****Validation****\n",
      "Validation loss 7.243216514587402\n",
      "class_accuracy: 77.609375, no_object_accuracy: 98.1297836303711 , object_accuracy:56.65745544433594\n",
      "────────────────────────────────────────────────────────────────────────────────────────────────────────────────────────\n",
      "     Validate metric           DataLoader 0\n",
      "────────────────────────────────────────────────────────────────────────────────────────────────────────────────────────\n",
      "     class_accuracy          77.60919189453125\n",
      "   no_object_accuracy        98.12983703613281\n",
      "     object_accuracy         56.6552848815918\n",
      "        val_loss            7.2436370849609375\n",
      "────────────────────────────────────────────────────────────────────────────────────────────────────────────────────────\n"
     ]
    },
    {
     "data": {
      "text/plain": [
       "[{'val_loss': 7.2436370849609375,\n",
       "  'class_accuracy': 77.60919189453125,\n",
       "  'no_object_accuracy': 98.12983703613281,\n",
       "  'object_accuracy': 56.6552848815918}]"
      ]
     },
     "execution_count": 13,
     "metadata": {},
     "output_type": "execute_result"
    }
   ],
   "source": [
    "trainer.validate(model, test_loader)"
   ]
  },
  {
   "cell_type": "markdown",
   "metadata": {},
   "source": [
    "### 4 - Save Checkpoint"
   ]
  },
  {
   "cell_type": "code",
   "execution_count": 14,
   "metadata": {},
   "outputs": [],
   "source": [
    "trainer.save_checkpoint(\"yolo3_model_multi_1.ckpt\")"
   ]
  },
  {
   "cell_type": "code",
   "execution_count": null,
   "metadata": {},
   "outputs": [
    {
     "data": {
      "text/html": [
       "<div>\n",
       "<style scoped>\n",
       "    .dataframe tbody tr th:only-of-type {\n",
       "        vertical-align: middle;\n",
       "    }\n",
       "\n",
       "    .dataframe tbody tr th {\n",
       "        vertical-align: top;\n",
       "    }\n",
       "\n",
       "    .dataframe thead th {\n",
       "        text-align: right;\n",
       "    }\n",
       "</style>\n",
       "<table border=\"1\" class=\"dataframe\">\n",
       "  <thead>\n",
       "    <tr style=\"text-align: right;\">\n",
       "      <th></th>\n",
       "      <th>lr-Adam</th>\n",
       "      <th>val_loss</th>\n",
       "      <th>class_accuracy</th>\n",
       "      <th>no_object_accuracy</th>\n",
       "      <th>object_accuracy</th>\n",
       "      <th>train_loss</th>\n",
       "    </tr>\n",
       "    <tr>\n",
       "      <th>epoch</th>\n",
       "      <th></th>\n",
       "      <th></th>\n",
       "      <th></th>\n",
       "      <th></th>\n",
       "      <th></th>\n",
       "      <th></th>\n",
       "    </tr>\n",
       "  </thead>\n",
       "  <tbody>\n",
       "    <tr>\n",
       "      <th>NaN</th>\n",
       "      <td>0.0001</td>\n",
       "      <td>NaN</td>\n",
       "      <td>NaN</td>\n",
       "      <td>NaN</td>\n",
       "      <td>NaN</td>\n",
       "      <td>NaN</td>\n",
       "    </tr>\n",
       "    <tr>\n",
       "      <th>NaN</th>\n",
       "      <td>0.0001</td>\n",
       "      <td>NaN</td>\n",
       "      <td>NaN</td>\n",
       "      <td>NaN</td>\n",
       "      <td>NaN</td>\n",
       "      <td>NaN</td>\n",
       "    </tr>\n",
       "    <tr>\n",
       "      <th>NaN</th>\n",
       "      <td>0.0001</td>\n",
       "      <td>NaN</td>\n",
       "      <td>NaN</td>\n",
       "      <td>NaN</td>\n",
       "      <td>NaN</td>\n",
       "      <td>NaN</td>\n",
       "    </tr>\n",
       "    <tr>\n",
       "      <th>NaN</th>\n",
       "      <td>0.0001</td>\n",
       "      <td>NaN</td>\n",
       "      <td>NaN</td>\n",
       "      <td>NaN</td>\n",
       "      <td>NaN</td>\n",
       "      <td>NaN</td>\n",
       "    </tr>\n",
       "    <tr>\n",
       "      <th>NaN</th>\n",
       "      <td>0.0001</td>\n",
       "      <td>NaN</td>\n",
       "      <td>NaN</td>\n",
       "      <td>NaN</td>\n",
       "      <td>NaN</td>\n",
       "      <td>NaN</td>\n",
       "    </tr>\n",
       "  </tbody>\n",
       "</table>\n",
       "</div>"
      ],
      "text/plain": [
       "       lr-Adam  val_loss  class_accuracy  no_object_accuracy  object_accuracy  \\\n",
       "epoch                                                                           \n",
       "NaN     0.0001       NaN             NaN                 NaN              NaN   \n",
       "NaN     0.0001       NaN             NaN                 NaN              NaN   \n",
       "NaN     0.0001       NaN             NaN                 NaN              NaN   \n",
       "NaN     0.0001       NaN             NaN                 NaN              NaN   \n",
       "NaN     0.0001       NaN             NaN                 NaN              NaN   \n",
       "\n",
       "       train_loss  \n",
       "epoch              \n",
       "NaN           NaN  \n",
       "NaN           NaN  \n",
       "NaN           NaN  \n",
       "NaN           NaN  \n",
       "NaN           NaN  "
      ]
     },
     "metadata": {},
     "output_type": "display_data"
    }
   ],
   "source": [
    "metrics = pd.read_csv(f\"{trainer.logger.log_dir}/metrics.csv\")\n",
    "del metrics[\"step\"]\n",
    "metrics.set_index(\"epoch\", inplace=True)\n",
    "display(metrics.dropna(axis=1, how=\"all\").head())\n",
    "sn.relplot(data=metrics, kind=\"line\")"
   ]
  },
  {
   "cell_type": "code",
   "execution_count": null,
   "metadata": {},
   "outputs": [],
   "source": []
  }
 ],
 "metadata": {
  "accelerator": "GPU",
  "colab": {
   "authorship_tag": "ABX9TyPBjFxkya167ErY0yMPYyEx",
   "gpuType": "T4",
   "machine_shape": "hm",
   "mount_file_id": "1dULgtoXC66eWPm_T0NcIxil98rX2HMrN",
   "provenance": []
  },
  "kernelspec": {
   "display_name": "Python 3 (ipykernel)",
   "language": "python",
   "name": "python3"
  },
  "language_info": {
   "codemirror_mode": {
    "name": "ipython",
    "version": 3
   },
   "file_extension": ".py",
   "mimetype": "text/x-python",
   "name": "python",
   "nbconvert_exporter": "python",
   "pygments_lexer": "ipython3",
   "version": "3.10.11"
  },
  "widgets": {
   "application/vnd.jupyter.widget-state+json": {
    "083d214083a3411994ad5112d8fa6d85": {
     "model_module": "@jupyter-widgets/controls",
     "model_module_version": "1.5.0",
     "model_name": "FloatProgressModel",
     "state": {
      "_dom_classes": [],
      "_model_module": "@jupyter-widgets/controls",
      "_model_module_version": "1.5.0",
      "_model_name": "FloatProgressModel",
      "_view_count": null,
      "_view_module": "@jupyter-widgets/controls",
      "_view_module_version": "1.5.0",
      "_view_name": "ProgressView",
      "bar_style": "",
      "description": "",
      "description_tooltip": null,
      "layout": "IPY_MODEL_76da4221a27f4f93b6d545d17b7ee020",
      "max": 1,
      "min": 0,
      "orientation": "horizontal",
      "style": "IPY_MODEL_587afef346aa421a87d51b49ad6dd854",
      "value": 0
     }
    },
    "191c30b062e24895acdafe3d91dfca8d": {
     "model_module": "@jupyter-widgets/base",
     "model_module_version": "1.2.0",
     "model_name": "LayoutModel",
     "state": {
      "_model_module": "@jupyter-widgets/base",
      "_model_module_version": "1.2.0",
      "_model_name": "LayoutModel",
      "_view_count": null,
      "_view_module": "@jupyter-widgets/base",
      "_view_module_version": "1.2.0",
      "_view_name": "LayoutView",
      "align_content": null,
      "align_items": null,
      "align_self": null,
      "border": null,
      "bottom": null,
      "display": null,
      "flex": null,
      "flex_flow": null,
      "grid_area": null,
      "grid_auto_columns": null,
      "grid_auto_flow": null,
      "grid_auto_rows": null,
      "grid_column": null,
      "grid_gap": null,
      "grid_row": null,
      "grid_template_areas": null,
      "grid_template_columns": null,
      "grid_template_rows": null,
      "height": null,
      "justify_content": null,
      "justify_items": null,
      "left": null,
      "margin": null,
      "max_height": null,
      "max_width": null,
      "min_height": null,
      "min_width": null,
      "object_fit": null,
      "object_position": null,
      "order": null,
      "overflow": null,
      "overflow_x": null,
      "overflow_y": null,
      "padding": null,
      "right": null,
      "top": null,
      "visibility": null,
      "width": null
     }
    },
    "2129fce795c34657a25f5a362c4bc3d6": {
     "model_module": "@jupyter-widgets/controls",
     "model_module_version": "1.5.0",
     "model_name": "DescriptionStyleModel",
     "state": {
      "_model_module": "@jupyter-widgets/controls",
      "_model_module_version": "1.5.0",
      "_model_name": "DescriptionStyleModel",
      "_view_count": null,
      "_view_module": "@jupyter-widgets/base",
      "_view_module_version": "1.2.0",
      "_view_name": "StyleView",
      "description_width": ""
     }
    },
    "28ffb738cf71443ea6ef70d3f99ba84f": {
     "model_module": "@jupyter-widgets/controls",
     "model_module_version": "1.5.0",
     "model_name": "HTMLModel",
     "state": {
      "_dom_classes": [],
      "_model_module": "@jupyter-widgets/controls",
      "_model_module_version": "1.5.0",
      "_model_name": "HTMLModel",
      "_view_count": null,
      "_view_module": "@jupyter-widgets/controls",
      "_view_module_version": "1.5.0",
      "_view_name": "HTMLView",
      "description": "",
      "description_tooltip": null,
      "layout": "IPY_MODEL_191c30b062e24895acdafe3d91dfca8d",
      "placeholder": "​",
      "style": "IPY_MODEL_2129fce795c34657a25f5a362c4bc3d6",
      "value": " 0/1 [00:00&lt;?, ?it/s]"
     }
    },
    "3c948b0d492d41e8b239cc0e1dd145a4": {
     "model_module": "@jupyter-widgets/controls",
     "model_module_version": "1.5.0",
     "model_name": "HBoxModel",
     "state": {
      "_dom_classes": [],
      "_model_module": "@jupyter-widgets/controls",
      "_model_module_version": "1.5.0",
      "_model_name": "HBoxModel",
      "_view_count": null,
      "_view_module": "@jupyter-widgets/controls",
      "_view_module_version": "1.5.0",
      "_view_name": "HBoxView",
      "box_style": "",
      "children": [
       "IPY_MODEL_9c69f4fd220f4613b30137fad6005dcb",
       "IPY_MODEL_083d214083a3411994ad5112d8fa6d85",
       "IPY_MODEL_28ffb738cf71443ea6ef70d3f99ba84f"
      ],
      "layout": "IPY_MODEL_dc1304443cdb44ee9a5f6a2514674017"
     }
    },
    "4ae5a21863a840e6bc3edaef82f0ab42": {
     "model_module": "@jupyter-widgets/base",
     "model_module_version": "1.2.0",
     "model_name": "LayoutModel",
     "state": {
      "_model_module": "@jupyter-widgets/base",
      "_model_module_version": "1.2.0",
      "_model_name": "LayoutModel",
      "_view_count": null,
      "_view_module": "@jupyter-widgets/base",
      "_view_module_version": "1.2.0",
      "_view_name": "LayoutView",
      "align_content": null,
      "align_items": null,
      "align_self": null,
      "border": null,
      "bottom": null,
      "display": null,
      "flex": null,
      "flex_flow": null,
      "grid_area": null,
      "grid_auto_columns": null,
      "grid_auto_flow": null,
      "grid_auto_rows": null,
      "grid_column": null,
      "grid_gap": null,
      "grid_row": null,
      "grid_template_areas": null,
      "grid_template_columns": null,
      "grid_template_rows": null,
      "height": null,
      "justify_content": null,
      "justify_items": null,
      "left": null,
      "margin": null,
      "max_height": null,
      "max_width": null,
      "min_height": null,
      "min_width": null,
      "object_fit": null,
      "object_position": null,
      "order": null,
      "overflow": null,
      "overflow_x": null,
      "overflow_y": null,
      "padding": null,
      "right": null,
      "top": null,
      "visibility": null,
      "width": null
     }
    },
    "587afef346aa421a87d51b49ad6dd854": {
     "model_module": "@jupyter-widgets/controls",
     "model_module_version": "1.5.0",
     "model_name": "ProgressStyleModel",
     "state": {
      "_model_module": "@jupyter-widgets/controls",
      "_model_module_version": "1.5.0",
      "_model_name": "ProgressStyleModel",
      "_view_count": null,
      "_view_module": "@jupyter-widgets/base",
      "_view_module_version": "1.2.0",
      "_view_name": "StyleView",
      "bar_color": null,
      "description_width": ""
     }
    },
    "76da4221a27f4f93b6d545d17b7ee020": {
     "model_module": "@jupyter-widgets/base",
     "model_module_version": "1.2.0",
     "model_name": "LayoutModel",
     "state": {
      "_model_module": "@jupyter-widgets/base",
      "_model_module_version": "1.2.0",
      "_model_name": "LayoutModel",
      "_view_count": null,
      "_view_module": "@jupyter-widgets/base",
      "_view_module_version": "1.2.0",
      "_view_name": "LayoutView",
      "align_content": null,
      "align_items": null,
      "align_self": null,
      "border": null,
      "bottom": null,
      "display": null,
      "flex": "2",
      "flex_flow": null,
      "grid_area": null,
      "grid_auto_columns": null,
      "grid_auto_flow": null,
      "grid_auto_rows": null,
      "grid_column": null,
      "grid_gap": null,
      "grid_row": null,
      "grid_template_areas": null,
      "grid_template_columns": null,
      "grid_template_rows": null,
      "height": null,
      "justify_content": null,
      "justify_items": null,
      "left": null,
      "margin": null,
      "max_height": null,
      "max_width": null,
      "min_height": null,
      "min_width": null,
      "object_fit": null,
      "object_position": null,
      "order": null,
      "overflow": null,
      "overflow_x": null,
      "overflow_y": null,
      "padding": null,
      "right": null,
      "top": null,
      "visibility": null,
      "width": null
     }
    },
    "9c69f4fd220f4613b30137fad6005dcb": {
     "model_module": "@jupyter-widgets/controls",
     "model_module_version": "1.5.0",
     "model_name": "HTMLModel",
     "state": {
      "_dom_classes": [],
      "_model_module": "@jupyter-widgets/controls",
      "_model_module_version": "1.5.0",
      "_model_name": "HTMLModel",
      "_view_count": null,
      "_view_module": "@jupyter-widgets/controls",
      "_view_module_version": "1.5.0",
      "_view_name": "HTMLView",
      "description": "",
      "description_tooltip": null,
      "layout": "IPY_MODEL_4ae5a21863a840e6bc3edaef82f0ab42",
      "placeholder": "​",
      "style": "IPY_MODEL_e26f88d7bd4d4349a897f59b767c0e2f",
      "value": "Epoch 0:   0%"
     }
    },
    "dc1304443cdb44ee9a5f6a2514674017": {
     "model_module": "@jupyter-widgets/base",
     "model_module_version": "1.2.0",
     "model_name": "LayoutModel",
     "state": {
      "_model_module": "@jupyter-widgets/base",
      "_model_module_version": "1.2.0",
      "_model_name": "LayoutModel",
      "_view_count": null,
      "_view_module": "@jupyter-widgets/base",
      "_view_module_version": "1.2.0",
      "_view_name": "LayoutView",
      "align_content": null,
      "align_items": null,
      "align_self": null,
      "border": null,
      "bottom": null,
      "display": "inline-flex",
      "flex": null,
      "flex_flow": "row wrap",
      "grid_area": null,
      "grid_auto_columns": null,
      "grid_auto_flow": null,
      "grid_auto_rows": null,
      "grid_column": null,
      "grid_gap": null,
      "grid_row": null,
      "grid_template_areas": null,
      "grid_template_columns": null,
      "grid_template_rows": null,
      "height": null,
      "justify_content": null,
      "justify_items": null,
      "left": null,
      "margin": null,
      "max_height": null,
      "max_width": null,
      "min_height": null,
      "min_width": null,
      "object_fit": null,
      "object_position": null,
      "order": null,
      "overflow": null,
      "overflow_x": null,
      "overflow_y": null,
      "padding": null,
      "right": null,
      "top": null,
      "visibility": null,
      "width": "100%"
     }
    },
    "e26f88d7bd4d4349a897f59b767c0e2f": {
     "model_module": "@jupyter-widgets/controls",
     "model_module_version": "1.5.0",
     "model_name": "DescriptionStyleModel",
     "state": {
      "_model_module": "@jupyter-widgets/controls",
      "_model_module_version": "1.5.0",
      "_model_name": "DescriptionStyleModel",
      "_view_count": null,
      "_view_module": "@jupyter-widgets/base",
      "_view_module_version": "1.2.0",
      "_view_name": "StyleView",
      "description_width": ""
     }
    }
   }
  }
 },
 "nbformat": 4,
 "nbformat_minor": 4
}
