{
  "nbformat": 4,
  "nbformat_minor": 0,
  "metadata": {
    "colab": {
      "provenance": [],
      "collapsed_sections": [
        "do3Gtlrahae1",
        "awnvOwgshj9j",
        "Rl0aT6E1hkF4"
      ],
      "gpuType": "T4",
      "authorship_tag": "ABX9TyMhGHneEEQ7+FpvJ74E9BlN",
      "include_colab_link": true
    },
    "kernelspec": {
      "name": "python3",
      "display_name": "Python 3"
    },
    "language_info": {
      "name": "python"
    },
    "accelerator": "GPU",
    "widgets": {
      "application/vnd.jupyter.widget-state+json": {
        "670e88f1ea6c4d119dae7b6236171d11": {
          "model_module": "@jupyter-widgets/controls",
          "model_name": "HBoxModel",
          "model_module_version": "1.5.0",
          "state": {
            "_dom_classes": [],
            "_model_module": "@jupyter-widgets/controls",
            "_model_module_version": "1.5.0",
            "_model_name": "HBoxModel",
            "_view_count": null,
            "_view_module": "@jupyter-widgets/controls",
            "_view_module_version": "1.5.0",
            "_view_name": "HBoxView",
            "box_style": "",
            "children": [
              "IPY_MODEL_b6ffdc84f3c648188524eb76ade63984",
              "IPY_MODEL_9578a739a8ca44289fd34ff6d21f3adc",
              "IPY_MODEL_e757b76b8f2647deb1334bd86dcad3bb"
            ],
            "layout": "IPY_MODEL_6b2a51359b1748a4996ed16bdff5566b"
          }
        },
        "b6ffdc84f3c648188524eb76ade63984": {
          "model_module": "@jupyter-widgets/controls",
          "model_name": "HTMLModel",
          "model_module_version": "1.5.0",
          "state": {
            "_dom_classes": [],
            "_model_module": "@jupyter-widgets/controls",
            "_model_module_version": "1.5.0",
            "_model_name": "HTMLModel",
            "_view_count": null,
            "_view_module": "@jupyter-widgets/controls",
            "_view_module_version": "1.5.0",
            "_view_name": "HTMLView",
            "description": "",
            "description_tooltip": null,
            "layout": "IPY_MODEL_6ed1d456b5404ee08d09b343e2d1f36a",
            "placeholder": "​",
            "style": "IPY_MODEL_ea4c53181bcb490c839a2bd398e7a371",
            "value": "Epoch 9: 100%"
          }
        },
        "9578a739a8ca44289fd34ff6d21f3adc": {
          "model_module": "@jupyter-widgets/controls",
          "model_name": "FloatProgressModel",
          "model_module_version": "1.5.0",
          "state": {
            "_dom_classes": [],
            "_model_module": "@jupyter-widgets/controls",
            "_model_module_version": "1.5.0",
            "_model_name": "FloatProgressModel",
            "_view_count": null,
            "_view_module": "@jupyter-widgets/controls",
            "_view_module_version": "1.5.0",
            "_view_name": "ProgressView",
            "bar_style": "success",
            "description": "",
            "description_tooltip": null,
            "layout": "IPY_MODEL_b0d170ae60124e45bf899898171daf2f",
            "max": 1875,
            "min": 0,
            "orientation": "horizontal",
            "style": "IPY_MODEL_df2721b990ed48729b272b5186acfd6f",
            "value": 1875
          }
        },
        "e757b76b8f2647deb1334bd86dcad3bb": {
          "model_module": "@jupyter-widgets/controls",
          "model_name": "HTMLModel",
          "model_module_version": "1.5.0",
          "state": {
            "_dom_classes": [],
            "_model_module": "@jupyter-widgets/controls",
            "_model_module_version": "1.5.0",
            "_model_name": "HTMLModel",
            "_view_count": null,
            "_view_module": "@jupyter-widgets/controls",
            "_view_module_version": "1.5.0",
            "_view_name": "HTMLView",
            "description": "",
            "description_tooltip": null,
            "layout": "IPY_MODEL_a4683920692e4ce39fa9f36fda3c8109",
            "placeholder": "​",
            "style": "IPY_MODEL_62652fee6bd840d482e1c4c407118c7f",
            "value": " 1875/1875 [00:36&lt;00:00, 51.49it/s, loss=-37.1, v_num=16]"
          }
        },
        "6b2a51359b1748a4996ed16bdff5566b": {
          "model_module": "@jupyter-widgets/base",
          "model_name": "LayoutModel",
          "model_module_version": "1.2.0",
          "state": {
            "_model_module": "@jupyter-widgets/base",
            "_model_module_version": "1.2.0",
            "_model_name": "LayoutModel",
            "_view_count": null,
            "_view_module": "@jupyter-widgets/base",
            "_view_module_version": "1.2.0",
            "_view_name": "LayoutView",
            "align_content": null,
            "align_items": null,
            "align_self": null,
            "border": null,
            "bottom": null,
            "display": "inline-flex",
            "flex": null,
            "flex_flow": "row wrap",
            "grid_area": null,
            "grid_auto_columns": null,
            "grid_auto_flow": null,
            "grid_auto_rows": null,
            "grid_column": null,
            "grid_gap": null,
            "grid_row": null,
            "grid_template_areas": null,
            "grid_template_columns": null,
            "grid_template_rows": null,
            "height": null,
            "justify_content": null,
            "justify_items": null,
            "left": null,
            "margin": null,
            "max_height": null,
            "max_width": null,
            "min_height": null,
            "min_width": null,
            "object_fit": null,
            "object_position": null,
            "order": null,
            "overflow": null,
            "overflow_x": null,
            "overflow_y": null,
            "padding": null,
            "right": null,
            "top": null,
            "visibility": null,
            "width": "100%"
          }
        },
        "6ed1d456b5404ee08d09b343e2d1f36a": {
          "model_module": "@jupyter-widgets/base",
          "model_name": "LayoutModel",
          "model_module_version": "1.2.0",
          "state": {
            "_model_module": "@jupyter-widgets/base",
            "_model_module_version": "1.2.0",
            "_model_name": "LayoutModel",
            "_view_count": null,
            "_view_module": "@jupyter-widgets/base",
            "_view_module_version": "1.2.0",
            "_view_name": "LayoutView",
            "align_content": null,
            "align_items": null,
            "align_self": null,
            "border": null,
            "bottom": null,
            "display": null,
            "flex": null,
            "flex_flow": null,
            "grid_area": null,
            "grid_auto_columns": null,
            "grid_auto_flow": null,
            "grid_auto_rows": null,
            "grid_column": null,
            "grid_gap": null,
            "grid_row": null,
            "grid_template_areas": null,
            "grid_template_columns": null,
            "grid_template_rows": null,
            "height": null,
            "justify_content": null,
            "justify_items": null,
            "left": null,
            "margin": null,
            "max_height": null,
            "max_width": null,
            "min_height": null,
            "min_width": null,
            "object_fit": null,
            "object_position": null,
            "order": null,
            "overflow": null,
            "overflow_x": null,
            "overflow_y": null,
            "padding": null,
            "right": null,
            "top": null,
            "visibility": null,
            "width": null
          }
        },
        "ea4c53181bcb490c839a2bd398e7a371": {
          "model_module": "@jupyter-widgets/controls",
          "model_name": "DescriptionStyleModel",
          "model_module_version": "1.5.0",
          "state": {
            "_model_module": "@jupyter-widgets/controls",
            "_model_module_version": "1.5.0",
            "_model_name": "DescriptionStyleModel",
            "_view_count": null,
            "_view_module": "@jupyter-widgets/base",
            "_view_module_version": "1.2.0",
            "_view_name": "StyleView",
            "description_width": ""
          }
        },
        "b0d170ae60124e45bf899898171daf2f": {
          "model_module": "@jupyter-widgets/base",
          "model_name": "LayoutModel",
          "model_module_version": "1.2.0",
          "state": {
            "_model_module": "@jupyter-widgets/base",
            "_model_module_version": "1.2.0",
            "_model_name": "LayoutModel",
            "_view_count": null,
            "_view_module": "@jupyter-widgets/base",
            "_view_module_version": "1.2.0",
            "_view_name": "LayoutView",
            "align_content": null,
            "align_items": null,
            "align_self": null,
            "border": null,
            "bottom": null,
            "display": null,
            "flex": "2",
            "flex_flow": null,
            "grid_area": null,
            "grid_auto_columns": null,
            "grid_auto_flow": null,
            "grid_auto_rows": null,
            "grid_column": null,
            "grid_gap": null,
            "grid_row": null,
            "grid_template_areas": null,
            "grid_template_columns": null,
            "grid_template_rows": null,
            "height": null,
            "justify_content": null,
            "justify_items": null,
            "left": null,
            "margin": null,
            "max_height": null,
            "max_width": null,
            "min_height": null,
            "min_width": null,
            "object_fit": null,
            "object_position": null,
            "order": null,
            "overflow": null,
            "overflow_x": null,
            "overflow_y": null,
            "padding": null,
            "right": null,
            "top": null,
            "visibility": null,
            "width": null
          }
        },
        "df2721b990ed48729b272b5186acfd6f": {
          "model_module": "@jupyter-widgets/controls",
          "model_name": "ProgressStyleModel",
          "model_module_version": "1.5.0",
          "state": {
            "_model_module": "@jupyter-widgets/controls",
            "_model_module_version": "1.5.0",
            "_model_name": "ProgressStyleModel",
            "_view_count": null,
            "_view_module": "@jupyter-widgets/base",
            "_view_module_version": "1.2.0",
            "_view_name": "StyleView",
            "bar_color": null,
            "description_width": ""
          }
        },
        "a4683920692e4ce39fa9f36fda3c8109": {
          "model_module": "@jupyter-widgets/base",
          "model_name": "LayoutModel",
          "model_module_version": "1.2.0",
          "state": {
            "_model_module": "@jupyter-widgets/base",
            "_model_module_version": "1.2.0",
            "_model_name": "LayoutModel",
            "_view_count": null,
            "_view_module": "@jupyter-widgets/base",
            "_view_module_version": "1.2.0",
            "_view_name": "LayoutView",
            "align_content": null,
            "align_items": null,
            "align_self": null,
            "border": null,
            "bottom": null,
            "display": null,
            "flex": null,
            "flex_flow": null,
            "grid_area": null,
            "grid_auto_columns": null,
            "grid_auto_flow": null,
            "grid_auto_rows": null,
            "grid_column": null,
            "grid_gap": null,
            "grid_row": null,
            "grid_template_areas": null,
            "grid_template_columns": null,
            "grid_template_rows": null,
            "height": null,
            "justify_content": null,
            "justify_items": null,
            "left": null,
            "margin": null,
            "max_height": null,
            "max_width": null,
            "min_height": null,
            "min_width": null,
            "object_fit": null,
            "object_position": null,
            "order": null,
            "overflow": null,
            "overflow_x": null,
            "overflow_y": null,
            "padding": null,
            "right": null,
            "top": null,
            "visibility": null,
            "width": null
          }
        },
        "62652fee6bd840d482e1c4c407118c7f": {
          "model_module": "@jupyter-widgets/controls",
          "model_name": "DescriptionStyleModel",
          "model_module_version": "1.5.0",
          "state": {
            "_model_module": "@jupyter-widgets/controls",
            "_model_module_version": "1.5.0",
            "_model_name": "DescriptionStyleModel",
            "_view_count": null,
            "_view_module": "@jupyter-widgets/base",
            "_view_module_version": "1.2.0",
            "_view_name": "StyleView",
            "description_width": ""
          }
        }
      }
    }
  },
  "cells": [
    {
      "cell_type": "markdown",
      "metadata": {
        "id": "view-in-github",
        "colab_type": "text"
      },
      "source": [
        "<a href=\"https://colab.research.google.com/github/santule/ERA/blob/main/S18P2/mnist_cvae.ipynb\" target=\"_parent\"><img src=\"https://colab.research.google.com/assets/colab-badge.svg\" alt=\"Open In Colab\"/></a>"
      ]
    },
    {
      "cell_type": "code",
      "source": [
        "! pip install pytorch-lightning==2.0.1 --quiet\n",
        "! pip install lightning-bolts --quiet"
      ],
      "metadata": {
        "colab": {
          "base_uri": "https://localhost:8080/"
        },
        "id": "5uBL0EC4HapR",
        "outputId": "09ad390f-e54c-4054-b49a-efb41e13b90b"
      },
      "execution_count": 146,
      "outputs": [
        {
          "output_type": "stream",
          "name": "stdout",
          "text": [
            "\u001b[31mERROR: pip's dependency resolver does not currently take into account all the packages that are installed. This behaviour is the source of the following dependency conflicts.\n",
            "lightning-bolts 0.7.0 requires pytorch-lightning<2.0.0,>1.7.0, but you have pytorch-lightning 2.0.1 which is incompatible.\u001b[0m\u001b[31m\n",
            "\u001b[0m"
          ]
        }
      ]
    },
    {
      "cell_type": "code",
      "execution_count": 220,
      "metadata": {
        "id": "9xgANVNcFGH-"
      },
      "outputs": [],
      "source": [
        "import torch\n",
        "import pytorch_lightning as pl\n",
        "from torch import nn\n",
        "from torch.nn import functional as F\n",
        "# from pl_bolts.models.autoencoders.components import (\n",
        "#     resnet18_decoder,\n",
        "#     resnet18_encoder,\n",
        "# )\n",
        "\n",
        "from torchvision import transforms\n",
        "from torchvision.datasets import MNIST\n",
        "from torch.utils.data import DataLoader\n",
        "from matplotlib.pyplot import imshow, figure\n",
        "import numpy as np\n",
        "from torchvision.utils import make_grid\n",
        "import torchvision.transforms as T\n",
        "import matplotlib.pyplot as plt"
      ]
    },
    {
      "cell_type": "markdown",
      "source": [
        "# 1- Define Model"
      ],
      "metadata": {
        "id": "do3Gtlrahae1"
      }
    },
    {
      "cell_type": "code",
      "source": [
        "class VAE(pl.LightningModule):\n",
        "  def __init__(self,enc_out_dim=32, latent_dim=256, featureDim=64*24*24):\n",
        "\n",
        "    super().__init__()\n",
        "\n",
        "    self.save_hyperparameters()\n",
        "\n",
        "    # self.encoder = resnet18_encoder(first_conv=False, maxpool1=False)\n",
        "    # self.decoder = resnet18_decoder(latent_dim = latent_dim, input_height=input_height, first_conv=False,maxpool1=False)\n",
        "\n",
        "    # encoder layers\n",
        "    self.encConv1 = nn.Conv2d(2,32,3)\n",
        "    self.encConv2 = nn.Conv2d(32,64,3)\n",
        "    self.fc_mu = nn.Linear(featureDim,latent_dim)\n",
        "    self.fc_var = nn.Linear(featureDim, latent_dim)\n",
        "\n",
        "    # decoder layers\n",
        "    self.deFC1 = nn.Linear(latent_dim + 10, featureDim)\n",
        "    self.deConv1 = nn.ConvTranspose2d(64,32,3)\n",
        "    self.deConv2 = nn.ConvTranspose2d(32,1,3)\n",
        "\n",
        "    self.log_scale = nn.Parameter(torch.Tensor([0.0]))\n",
        "\n",
        "  def encoder(self,x,y):\n",
        "\n",
        "    # add label to image\n",
        "    y = torch.argmax(y, dim=1).reshape((y.shape[0],1,1,1))\n",
        "    y = torch.ones(x.shape).to('cuda')*y #1,28,28\n",
        "    t = torch.cat((x,y),dim=1)\n",
        "\n",
        "    x = F.relu(self.encConv1(t))\n",
        "    x = F.relu(self.encConv2(x))\n",
        "    batch_size = x.shape[0]\n",
        "    x = x.view(batch_size,-1)\n",
        "    return x\n",
        "\n",
        "  def decoder(self,z,y):\n",
        "    z = torch.cat((z, y.float()), dim=1) # b, 256 + 10\n",
        "    x_hat = F.relu(self.deFC1(z))\n",
        "    x_hat = x_hat.view(-1,64,24,24)\n",
        "    x_hat = F.relu(self.deConv1(x_hat))\n",
        "    x_hat = torch.sigmoid(self.deConv2(x_hat))\n",
        "    return x_hat\n",
        "\n",
        "  def configure_optimizers(self):\n",
        "    return torch.optim.Adam(self.parameters(), lr=1e-4)\n",
        "\n",
        "  def kl_divergence(self,z,mu,std):\n",
        "\n",
        "    p = torch.distributions.Normal(torch.zeros_like(mu), torch.ones_like(std))\n",
        "    q = torch.distributions.Normal(mu, std)\n",
        "\n",
        "    log_qzx = q.log_prob(z)\n",
        "    log_pz = p.log_prob(z)\n",
        "\n",
        "    kl = (log_qzx - log_pz)\n",
        "    kl = kl.sum(-1)\n",
        "    return kl\n",
        "\n",
        "  def gaussian_likelihood(self,mean,logscale,sample):\n",
        "    scale   = torch.exp(logscale)\n",
        "    dist    = torch.distributions.Normal(mean,scale)\n",
        "    log_pxz = dist.log_prob(sample)\n",
        "\n",
        "    return log_pxz.sum(dim=(1,2,3))\n",
        "\n",
        "\n",
        "  def forward(self,x,y):\n",
        "    x_encoded = self.encoder(x,y)\n",
        "\n",
        "    mu, log_var = self.fc_mu(x_encoded), self.fc_var(x_encoded)\n",
        "    std = torch.exp(log_var/2)\n",
        "    q = torch.distributions.Normal(mu,std)\n",
        "    z = q.rsample()\n",
        "\n",
        "    x_hat = self.decoder(z,y)\n",
        "    return x_hat\n",
        "\n",
        "  def training_epoch_end(self,outputs):\n",
        "        loss = torch.stack([x['loss'] for x in outputs]).mean()\n",
        "\n",
        "        print(\"****Training****\")\n",
        "        print(f'Epoch {self.current_epoch}: Train loss {loss}')\n",
        "\n",
        "  def training_step(self,batch,batch_idx):\n",
        "\n",
        "    x, y = batch # y- 2,3,4..\n",
        "    y = F.one_hot(y, num_classes = 10) # one hot y\n",
        "\n",
        "    x_encoded = self.encoder(x.to('cuda'),y.to('cuda'))\n",
        "    mu, log_var = self.fc_mu(x_encoded), self.fc_var(x_encoded)\n",
        "\n",
        "    std = torch.exp(log_var/2)\n",
        "    q = torch.distributions.Normal(mu,std)\n",
        "    z = q.rsample()\n",
        "\n",
        "    x_hat = self.decoder(z,y.to('cuda'))\n",
        "\n",
        "    recon_loss = self.gaussian_likelihood(x_hat,self.log_scale,x)\n",
        "    #kl = self.kl_divergence(z,mu,std)\n",
        "    kl = -0.5 * torch.sum(1 + log_var - mu.pow(2) - log_var.exp())\n",
        "    elbo = kl - recon_loss\n",
        "    elbo = elbo.mean()\n",
        "\n",
        "    # recon_loss = F.mse_loss(x_hat, x, reduction='sum')\n",
        "    # kl = -0.5 * torch.sum(1 + log_var - mu.pow(2) - log_var.exp())\n",
        "    # elbo = kl + recon_loss\n",
        "    # elbo = elbo.mean()\n",
        "\n",
        "    self.log_dict({\n",
        "        'elbo': elbo,\n",
        "        'kl': kl.mean(),\n",
        "        'recon_loss': recon_loss.mean(),\n",
        "        'reconstruction': recon_loss.mean(),\n",
        "        'kl': kl.mean(),\n",
        "    })\n",
        "    return elbo"
      ],
      "metadata": {
        "id": "bxzvdijpH4DE"
      },
      "execution_count": 216,
      "outputs": []
    },
    {
      "cell_type": "code",
      "source": [
        "# check the dimensions\n",
        "my_vae_check = VAE().to('cuda')\n",
        "print(my_vae_check)\n",
        "\n",
        "x = torch.rand(1,1,28,28).to('cuda')\n",
        "y = np.zeros((1, 10))\n",
        "y[np.arange(1), 1] = 1\n",
        "y = torch.tensor(y).to('cuda')\n",
        "my_vae_check(x,y).shape"
      ],
      "metadata": {
        "colab": {
          "base_uri": "https://localhost:8080/"
        },
        "id": "Qv3kIuo-iUIz",
        "outputId": "8c5aab6e-16b2-48b3-cf3e-c7bf5774c36a"
      },
      "execution_count": 217,
      "outputs": [
        {
          "output_type": "stream",
          "name": "stdout",
          "text": [
            "VAE(\n",
            "  (encConv1): Conv2d(2, 32, kernel_size=(3, 3), stride=(1, 1))\n",
            "  (encConv2): Conv2d(32, 64, kernel_size=(3, 3), stride=(1, 1))\n",
            "  (fc_mu): Linear(in_features=36864, out_features=256, bias=True)\n",
            "  (fc_var): Linear(in_features=36864, out_features=256, bias=True)\n",
            "  (deFC1): Linear(in_features=266, out_features=36864, bias=True)\n",
            "  (deConv1): ConvTranspose2d(64, 32, kernel_size=(3, 3), stride=(1, 1))\n",
            "  (deConv2): ConvTranspose2d(32, 1, kernel_size=(3, 3), stride=(1, 1))\n",
            ")\n"
          ]
        },
        {
          "output_type": "execute_result",
          "data": {
            "text/plain": [
              "torch.Size([1, 1, 28, 28])"
            ]
          },
          "metadata": {},
          "execution_count": 217
        }
      ]
    },
    {
      "cell_type": "markdown",
      "source": [
        "# 2 - Data"
      ],
      "metadata": {
        "id": "awnvOwgshj9j"
      }
    },
    {
      "cell_type": "code",
      "source": [
        "dataset = MNIST(root='data',train=True,transform=transforms.ToTensor(),download=True)\n",
        "train_dataloader = DataLoader(dataset = dataset, batch_size=32,shuffle=True)\n",
        "\n",
        "dataset_test = MNIST(root='data',train=False,transform=transforms.ToTensor(),download=True)\n",
        "test_dataloader = DataLoader(dataset = dataset_test, batch_size=32,shuffle=False)"
      ],
      "metadata": {
        "id": "wA99Ozgnhsbq"
      },
      "execution_count": 150,
      "outputs": []
    },
    {
      "cell_type": "code",
      "source": [
        "next(iter(train_dataloader))[0].shape, next(iter(train_dataloader))[1].shape"
      ],
      "metadata": {
        "colab": {
          "base_uri": "https://localhost:8080/"
        },
        "id": "fiLDvvd6ib__",
        "outputId": "4bb80671-5a72-481b-d9e8-39b4b27bc613"
      },
      "execution_count": 151,
      "outputs": [
        {
          "output_type": "execute_result",
          "data": {
            "text/plain": [
              "(torch.Size([32, 1, 28, 28]), torch.Size([32]))"
            ]
          },
          "metadata": {},
          "execution_count": 151
        }
      ]
    },
    {
      "cell_type": "markdown",
      "source": [
        "# 3 - Train Model"
      ],
      "metadata": {
        "id": "Rl0aT6E1hkF4"
      }
    },
    {
      "cell_type": "code",
      "source": [
        "pl.seed_everything(1234)\n",
        "my_vae = VAE().to('cuda')\n",
        "trainer = pl.Trainer(gpus=1, max_epochs=10,)\n",
        "trainer.fit(my_vae,train_dataloader ,test_dataloader)"
      ],
      "metadata": {
        "colab": {
          "base_uri": "https://localhost:8080/",
          "height": 809,
          "referenced_widgets": [
            "670e88f1ea6c4d119dae7b6236171d11",
            "b6ffdc84f3c648188524eb76ade63984",
            "9578a739a8ca44289fd34ff6d21f3adc",
            "e757b76b8f2647deb1334bd86dcad3bb",
            "6b2a51359b1748a4996ed16bdff5566b",
            "6ed1d456b5404ee08d09b343e2d1f36a",
            "ea4c53181bcb490c839a2bd398e7a371",
            "b0d170ae60124e45bf899898171daf2f",
            "df2721b990ed48729b272b5186acfd6f",
            "a4683920692e4ce39fa9f36fda3c8109",
            "62652fee6bd840d482e1c4c407118c7f"
          ]
        },
        "id": "QR9e_-FOcxUf",
        "outputId": "0e31c267-93fd-435a-a6ad-eac3d1b36426"
      },
      "execution_count": 218,
      "outputs": [
        {
          "output_type": "stream",
          "name": "stderr",
          "text": [
            "INFO:lightning_fabric.utilities.seed:Global seed set to 1234\n",
            "INFO:pytorch_lightning.utilities.rank_zero:GPU available: True (cuda), used: True\n",
            "INFO:pytorch_lightning.utilities.rank_zero:TPU available: False, using: 0 TPU cores\n",
            "INFO:pytorch_lightning.utilities.rank_zero:IPU available: False, using: 0 IPUs\n",
            "INFO:pytorch_lightning.utilities.rank_zero:HPU available: False, using: 0 HPUs\n",
            "INFO:pytorch_lightning.accelerators.cuda:LOCAL_RANK: 0 - CUDA_VISIBLE_DEVICES: [0]\n",
            "INFO:pytorch_lightning.callbacks.model_summary:\n",
            "  | Name     | Type            | Params\n",
            "---------------------------------------------\n",
            "0 | encConv1 | Conv2d          | 608   \n",
            "1 | encConv2 | Conv2d          | 18.5 K\n",
            "2 | fc_mu    | Linear          | 9.4 M \n",
            "3 | fc_var   | Linear          | 9.4 M \n",
            "4 | deFC1    | Linear          | 9.8 M \n",
            "5 | deConv1  | ConvTranspose2d | 18.5 K\n",
            "6 | deConv2  | ConvTranspose2d | 289   \n",
            "---------------------------------------------\n",
            "28.8 M    Trainable params\n",
            "0         Non-trainable params\n",
            "28.8 M    Total params\n",
            "115.022   Total estimated model params size (MB)\n"
          ]
        },
        {
          "output_type": "display_data",
          "data": {
            "text/plain": [
              "Training: 0it [00:00, ?it/s]"
            ],
            "application/vnd.jupyter.widget-view+json": {
              "version_major": 2,
              "version_minor": 0,
              "model_id": "670e88f1ea6c4d119dae7b6236171d11"
            }
          },
          "metadata": {}
        },
        {
          "output_type": "stream",
          "name": "stdout",
          "text": [
            "****Training****\n",
            "Epoch 0: Train loss 743.94482421875\n",
            "****Training****\n",
            "Epoch 1: Train loss 537.4459228515625\n",
            "****Training****\n",
            "Epoch 2: Train loss 409.37493896484375\n",
            "****Training****\n",
            "Epoch 3: Train loss 290.4701232910156\n",
            "****Training****\n",
            "Epoch 4: Train loss 183.79696655273438\n",
            "****Training****\n",
            "Epoch 5: Train loss 93.75096893310547\n",
            "****Training****\n",
            "Epoch 6: Train loss 25.283349990844727\n",
            "****Training****\n",
            "Epoch 7: Train loss -18.43797492980957\n",
            "****Training****\n",
            "Epoch 8: Train loss -38.52235794067383\n",
            "****Training****\n",
            "Epoch 9: Train loss -44.07147979736328\n"
          ]
        },
        {
          "output_type": "stream",
          "name": "stderr",
          "text": [
            "INFO:pytorch_lightning.utilities.rank_zero:`Trainer.fit` stopped: `max_epochs=10` reached.\n"
          ]
        }
      ]
    },
    {
      "cell_type": "markdown",
      "source": [
        "# 4 - Plot Images"
      ],
      "metadata": {
        "id": "UkDeeS23hnVO"
      }
    },
    {
      "cell_type": "code",
      "source": [
        "# plot images\n",
        "def generate_image(x, y, wrong_y, model,num_predictions=25):\n",
        "    figure(figsize=(8, 3), dpi=300)\n",
        "    t2img = T.ToPILImage()\n",
        "\n",
        "    with torch.no_grad():\n",
        "\n",
        "        wrong_y_one_hot = F.one_hot(wrong_y, num_classes = 10)\n",
        "        y_one_hot = F.one_hot(y, num_classes = 10)\n",
        "        x_encoded   = model.encoder(x.to('cuda'),wrong_y_one_hot.to('cuda'))\n",
        "        mu, log_var = model.fc_mu(x_encoded), model.fc_var(x_encoded)\n",
        "\n",
        "        std = torch.exp(log_var/2)\n",
        "        q = torch.distributions.Normal(mu,std)\n",
        "        z = q.rsample()\n",
        "\n",
        "        x_hat = model.decoder(z,wrong_y_one_hot.to('cuda'))\n",
        "\n",
        "        fig = plt.figure(figsize=(10,10))\n",
        "\n",
        "        for idx in np.arange(num_predictions):\n",
        "\n",
        "          ax = fig.add_subplot(5,5,idx + 1,xticks=[],yticks=[])\n",
        "          img = x_hat[idx].to('cpu')\n",
        "          plt.imshow(img.permute(1,2,0))\n",
        "          ax.set_title(f\"Label/Image: {wrong_y[idx]} / {y[idx]}\")\n",
        "\n",
        "        fig.tight_layout()\n",
        "        plt.show()\n",
        "\n",
        "        #img = make_grid(x_hat, nrow=8)\n",
        "        #plt.imshow(t2img(make_grid(x_hat, nrow=8)), interpolation='nearest')"
      ],
      "metadata": {
        "id": "hcUAWtU0YmJx"
      },
      "execution_count": 234,
      "outputs": []
    },
    {
      "cell_type": "code",
      "source": [
        "x, y = next(iter(test_dataloader))\n",
        "wrong_y = torch.tensor(np.random.choice(10,size = 32))\n",
        "generate_image(x,y,wrong_y,my_vae.to('cuda'))"
      ],
      "metadata": {
        "colab": {
          "base_uri": "https://localhost:8080/",
          "height": 1000
        },
        "id": "UIHldwoUseJs",
        "outputId": "cfdd6c63-ed88-4825-f848-2257af5a2fae"
      },
      "execution_count": 235,
      "outputs": [
        {
          "output_type": "display_data",
          "data": {
            "text/plain": [
              "<Figure size 2400x900 with 0 Axes>"
            ]
          },
          "metadata": {}
        },
        {
          "output_type": "display_data",
          "data": {
            "text/plain": [
              "<Figure size 1000x1000 with 25 Axes>"
            ],
            "image/png": "[encoded data removed]"
          },
          "metadata": {}
        }
      ]
    }
  ]
}